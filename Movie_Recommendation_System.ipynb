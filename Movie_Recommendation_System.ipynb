{
  "nbformat": 4,
  "nbformat_minor": 0,
  "metadata": {
    "colab": {
      "provenance": []
    },
    "kernelspec": {
      "name": "python3",
      "display_name": "Python 3"
    },
    "language_info": {
      "name": "python"
    }
  },
  "cells": [
    {
      "cell_type": "code",
      "execution_count": 1,
      "metadata": {
        "id": "WpTNZWvrwMQr"
      },
      "outputs": [],
      "source": [
        "import pandas as pd\n",
        "import numpy as np"
      ]
    },
    {
      "cell_type": "code",
      "source": [
        "df=pd.read_csv(\"/content/Movies Recommendation.csv\")"
      ],
      "metadata": {
        "id": "_2axiY9_2XmG"
      },
      "execution_count": 2,
      "outputs": []
    },
    {
      "cell_type": "code",
      "source": [
        "df.head()"
      ],
      "metadata": {
        "colab": {
          "base_uri": "https://localhost:8080/",
          "height": 672
        },
        "id": "cqRdpUQKUHXx",
        "outputId": "647b1095-3277-4487-c5cc-5217427371fa"
      },
      "execution_count": 46,
      "outputs": [
        {
          "output_type": "execute_result",
          "data": {
            "text/plain": [
              "   Movie_ID      Movie_Title                       Movie_Genre Movie_Language  \\\n",
              "0         1       Four Rooms                      Crime Comedy             en   \n",
              "1         2        Star Wars  Adventure Action Science Fiction             en   \n",
              "2         3     Finding Nemo                  Animation Family             en   \n",
              "3         4     Forrest Gump              Comedy Drama Romance             en   \n",
              "4         5  American Beauty                             Drama             en   \n",
              "\n",
              "   Movie_Budget  Movie_Popularity Movie_Release_Date  Movie_Revenue  \\\n",
              "0       4000000         22.876230         09-12-1995        4300000   \n",
              "1      11000000        126.393695         25-05-1977      775398007   \n",
              "2      94000000         85.688789         30-05-2003      940335536   \n",
              "3      55000000        138.133331         06-07-1994      677945399   \n",
              "4      15000000         80.878605         15-09-1999      356296601   \n",
              "\n",
              "   Movie_Runtime  Movie_Vote  ...  \\\n",
              "0           98.0         6.5  ...   \n",
              "1          121.0         8.1  ...   \n",
              "2          100.0         7.6  ...   \n",
              "3          142.0         8.2  ...   \n",
              "4          122.0         7.9  ...   \n",
              "\n",
              "                                      Movie_Homepage  \\\n",
              "0                                                NaN   \n",
              "1  http://www.starwars.com/films/star-wars-episod...   \n",
              "2              http://movies.disney.com/finding-nemo   \n",
              "3                                                NaN   \n",
              "4                      http://www.dreamworks.com/ab/   \n",
              "\n",
              "                                      Movie_Keywords  \\\n",
              "0          hotel new year's eve witch bet hotel room   \n",
              "1        android galaxy hermit death star lightsaber   \n",
              "2  father son relationship harbor underwater fish...   \n",
              "3  vietnam veteran hippie mentally disabled runni...   \n",
              "4  male nudity female nudity adultery midlife cri...   \n",
              "\n",
              "                                      Movie_Overview  \\\n",
              "0  It's Ted the Bellhop's first night on the job....   \n",
              "1  Princess Leia is captured and held hostage by ...   \n",
              "2  Nemo, an adventurous young clownfish, is unexp...   \n",
              "3  A man with a low IQ has accomplished great thi...   \n",
              "4  Lester Burnham, a depressed suburban father in...   \n",
              "\n",
              "                              Movie_Production_House  \\\n",
              "0  [{\"name\": \"Miramax Films\", \"id\": 14}, {\"name\":...   \n",
              "1  [{\"name\": \"Lucasfilm\", \"id\": 1}, {\"name\": \"Twe...   \n",
              "2     [{\"name\": \"Pixar Animation Studios\", \"id\": 3}]   \n",
              "3          [{\"name\": \"Paramount Pictures\", \"id\": 4}]   \n",
              "4  [{\"name\": \"DreamWorks SKG\", \"id\": 27}, {\"name\"...   \n",
              "\n",
              "                            Movie_Production_Country  \\\n",
              "0  [{\"iso_3166_1\": \"US\", \"name\": \"United States o...   \n",
              "1  [{\"iso_3166_1\": \"US\", \"name\": \"United States o...   \n",
              "2  [{\"iso_3166_1\": \"US\", \"name\": \"United States o...   \n",
              "3  [{\"iso_3166_1\": \"US\", \"name\": \"United States o...   \n",
              "4  [{\"iso_3166_1\": \"US\", \"name\": \"United States o...   \n",
              "\n",
              "                      Movie_Spoken_Language  \\\n",
              "0  [{\"iso_639_1\": \"en\", \"name\": \"English\"}]   \n",
              "1  [{\"iso_639_1\": \"en\", \"name\": \"English\"}]   \n",
              "2  [{\"iso_639_1\": \"en\", \"name\": \"English\"}]   \n",
              "3  [{\"iso_639_1\": \"en\", \"name\": \"English\"}]   \n",
              "4  [{\"iso_639_1\": \"en\", \"name\": \"English\"}]   \n",
              "\n",
              "                                       Movie_Tagline  \\\n",
              "0  Twelve outrageous guests. Four scandalous requ...   \n",
              "1       A long time ago in a galaxy far, far away...   \n",
              "2  There are 3.7 trillion fish in the ocean, they...   \n",
              "3  The world will never be the same, once you've ...   \n",
              "4                                       Look closer.   \n",
              "\n",
              "                                          Movie_Cast  \\\n",
              "0  Tim Roth Antonio Banderas Jennifer Beals Madon...   \n",
              "1  Mark Hamill Harrison Ford Carrie Fisher Peter ...   \n",
              "2  Albert Brooks Ellen DeGeneres Alexander Gould ...   \n",
              "3  Tom Hanks Robin Wright Gary Sinise Mykelti Wil...   \n",
              "4  Kevin Spacey Annette Bening Thora Birch Wes Be...   \n",
              "\n",
              "                                          Movie_Crew   Movie_Director  \n",
              "0  [{'name': 'Allison Anders', 'gender': 1, 'depa...   Allison Anders  \n",
              "1  [{'name': 'George Lucas', 'gender': 2, 'depart...     George Lucas  \n",
              "2  [{'name': 'Andrew Stanton', 'gender': 2, 'depa...   Andrew Stanton  \n",
              "3  [{'name': 'Alan Silvestri', 'gender': 2, 'depa...  Robert Zemeckis  \n",
              "4  [{'name': 'Thomas Newman', 'gender': 2, 'depar...       Sam Mendes  \n",
              "\n",
              "[5 rows x 21 columns]"
            ],
            "text/html": [
              "\n",
              "  <div id=\"df-607c453a-2317-4d63-be13-c96cb81ff758\" class=\"colab-df-container\">\n",
              "    <div>\n",
              "<style scoped>\n",
              "    .dataframe tbody tr th:only-of-type {\n",
              "        vertical-align: middle;\n",
              "    }\n",
              "\n",
              "    .dataframe tbody tr th {\n",
              "        vertical-align: top;\n",
              "    }\n",
              "\n",
              "    .dataframe thead th {\n",
              "        text-align: right;\n",
              "    }\n",
              "</style>\n",
              "<table border=\"1\" class=\"dataframe\">\n",
              "  <thead>\n",
              "    <tr style=\"text-align: right;\">\n",
              "      <th></th>\n",
              "      <th>Movie_ID</th>\n",
              "      <th>Movie_Title</th>\n",
              "      <th>Movie_Genre</th>\n",
              "      <th>Movie_Language</th>\n",
              "      <th>Movie_Budget</th>\n",
              "      <th>Movie_Popularity</th>\n",
              "      <th>Movie_Release_Date</th>\n",
              "      <th>Movie_Revenue</th>\n",
              "      <th>Movie_Runtime</th>\n",
              "      <th>Movie_Vote</th>\n",
              "      <th>...</th>\n",
              "      <th>Movie_Homepage</th>\n",
              "      <th>Movie_Keywords</th>\n",
              "      <th>Movie_Overview</th>\n",
              "      <th>Movie_Production_House</th>\n",
              "      <th>Movie_Production_Country</th>\n",
              "      <th>Movie_Spoken_Language</th>\n",
              "      <th>Movie_Tagline</th>\n",
              "      <th>Movie_Cast</th>\n",
              "      <th>Movie_Crew</th>\n",
              "      <th>Movie_Director</th>\n",
              "    </tr>\n",
              "  </thead>\n",
              "  <tbody>\n",
              "    <tr>\n",
              "      <th>0</th>\n",
              "      <td>1</td>\n",
              "      <td>Four Rooms</td>\n",
              "      <td>Crime Comedy</td>\n",
              "      <td>en</td>\n",
              "      <td>4000000</td>\n",
              "      <td>22.876230</td>\n",
              "      <td>09-12-1995</td>\n",
              "      <td>4300000</td>\n",
              "      <td>98.0</td>\n",
              "      <td>6.5</td>\n",
              "      <td>...</td>\n",
              "      <td>NaN</td>\n",
              "      <td>hotel new year's eve witch bet hotel room</td>\n",
              "      <td>It's Ted the Bellhop's first night on the job....</td>\n",
              "      <td>[{\"name\": \"Miramax Films\", \"id\": 14}, {\"name\":...</td>\n",
              "      <td>[{\"iso_3166_1\": \"US\", \"name\": \"United States o...</td>\n",
              "      <td>[{\"iso_639_1\": \"en\", \"name\": \"English\"}]</td>\n",
              "      <td>Twelve outrageous guests. Four scandalous requ...</td>\n",
              "      <td>Tim Roth Antonio Banderas Jennifer Beals Madon...</td>\n",
              "      <td>[{'name': 'Allison Anders', 'gender': 1, 'depa...</td>\n",
              "      <td>Allison Anders</td>\n",
              "    </tr>\n",
              "    <tr>\n",
              "      <th>1</th>\n",
              "      <td>2</td>\n",
              "      <td>Star Wars</td>\n",
              "      <td>Adventure Action Science Fiction</td>\n",
              "      <td>en</td>\n",
              "      <td>11000000</td>\n",
              "      <td>126.393695</td>\n",
              "      <td>25-05-1977</td>\n",
              "      <td>775398007</td>\n",
              "      <td>121.0</td>\n",
              "      <td>8.1</td>\n",
              "      <td>...</td>\n",
              "      <td>http://www.starwars.com/films/star-wars-episod...</td>\n",
              "      <td>android galaxy hermit death star lightsaber</td>\n",
              "      <td>Princess Leia is captured and held hostage by ...</td>\n",
              "      <td>[{\"name\": \"Lucasfilm\", \"id\": 1}, {\"name\": \"Twe...</td>\n",
              "      <td>[{\"iso_3166_1\": \"US\", \"name\": \"United States o...</td>\n",
              "      <td>[{\"iso_639_1\": \"en\", \"name\": \"English\"}]</td>\n",
              "      <td>A long time ago in a galaxy far, far away...</td>\n",
              "      <td>Mark Hamill Harrison Ford Carrie Fisher Peter ...</td>\n",
              "      <td>[{'name': 'George Lucas', 'gender': 2, 'depart...</td>\n",
              "      <td>George Lucas</td>\n",
              "    </tr>\n",
              "    <tr>\n",
              "      <th>2</th>\n",
              "      <td>3</td>\n",
              "      <td>Finding Nemo</td>\n",
              "      <td>Animation Family</td>\n",
              "      <td>en</td>\n",
              "      <td>94000000</td>\n",
              "      <td>85.688789</td>\n",
              "      <td>30-05-2003</td>\n",
              "      <td>940335536</td>\n",
              "      <td>100.0</td>\n",
              "      <td>7.6</td>\n",
              "      <td>...</td>\n",
              "      <td>http://movies.disney.com/finding-nemo</td>\n",
              "      <td>father son relationship harbor underwater fish...</td>\n",
              "      <td>Nemo, an adventurous young clownfish, is unexp...</td>\n",
              "      <td>[{\"name\": \"Pixar Animation Studios\", \"id\": 3}]</td>\n",
              "      <td>[{\"iso_3166_1\": \"US\", \"name\": \"United States o...</td>\n",
              "      <td>[{\"iso_639_1\": \"en\", \"name\": \"English\"}]</td>\n",
              "      <td>There are 3.7 trillion fish in the ocean, they...</td>\n",
              "      <td>Albert Brooks Ellen DeGeneres Alexander Gould ...</td>\n",
              "      <td>[{'name': 'Andrew Stanton', 'gender': 2, 'depa...</td>\n",
              "      <td>Andrew Stanton</td>\n",
              "    </tr>\n",
              "    <tr>\n",
              "      <th>3</th>\n",
              "      <td>4</td>\n",
              "      <td>Forrest Gump</td>\n",
              "      <td>Comedy Drama Romance</td>\n",
              "      <td>en</td>\n",
              "      <td>55000000</td>\n",
              "      <td>138.133331</td>\n",
              "      <td>06-07-1994</td>\n",
              "      <td>677945399</td>\n",
              "      <td>142.0</td>\n",
              "      <td>8.2</td>\n",
              "      <td>...</td>\n",
              "      <td>NaN</td>\n",
              "      <td>vietnam veteran hippie mentally disabled runni...</td>\n",
              "      <td>A man with a low IQ has accomplished great thi...</td>\n",
              "      <td>[{\"name\": \"Paramount Pictures\", \"id\": 4}]</td>\n",
              "      <td>[{\"iso_3166_1\": \"US\", \"name\": \"United States o...</td>\n",
              "      <td>[{\"iso_639_1\": \"en\", \"name\": \"English\"}]</td>\n",
              "      <td>The world will never be the same, once you've ...</td>\n",
              "      <td>Tom Hanks Robin Wright Gary Sinise Mykelti Wil...</td>\n",
              "      <td>[{'name': 'Alan Silvestri', 'gender': 2, 'depa...</td>\n",
              "      <td>Robert Zemeckis</td>\n",
              "    </tr>\n",
              "    <tr>\n",
              "      <th>4</th>\n",
              "      <td>5</td>\n",
              "      <td>American Beauty</td>\n",
              "      <td>Drama</td>\n",
              "      <td>en</td>\n",
              "      <td>15000000</td>\n",
              "      <td>80.878605</td>\n",
              "      <td>15-09-1999</td>\n",
              "      <td>356296601</td>\n",
              "      <td>122.0</td>\n",
              "      <td>7.9</td>\n",
              "      <td>...</td>\n",
              "      <td>http://www.dreamworks.com/ab/</td>\n",
              "      <td>male nudity female nudity adultery midlife cri...</td>\n",
              "      <td>Lester Burnham, a depressed suburban father in...</td>\n",
              "      <td>[{\"name\": \"DreamWorks SKG\", \"id\": 27}, {\"name\"...</td>\n",
              "      <td>[{\"iso_3166_1\": \"US\", \"name\": \"United States o...</td>\n",
              "      <td>[{\"iso_639_1\": \"en\", \"name\": \"English\"}]</td>\n",
              "      <td>Look closer.</td>\n",
              "      <td>Kevin Spacey Annette Bening Thora Birch Wes Be...</td>\n",
              "      <td>[{'name': 'Thomas Newman', 'gender': 2, 'depar...</td>\n",
              "      <td>Sam Mendes</td>\n",
              "    </tr>\n",
              "  </tbody>\n",
              "</table>\n",
              "<p>5 rows × 21 columns</p>\n",
              "</div>\n",
              "    <div class=\"colab-df-buttons\">\n",
              "\n",
              "  <div class=\"colab-df-container\">\n",
              "    <button class=\"colab-df-convert\" onclick=\"convertToInteractive('df-607c453a-2317-4d63-be13-c96cb81ff758')\"\n",
              "            title=\"Convert this dataframe to an interactive table.\"\n",
              "            style=\"display:none;\">\n",
              "\n",
              "  <svg xmlns=\"http://www.w3.org/2000/svg\" height=\"24px\" viewBox=\"0 -960 960 960\">\n",
              "    <path d=\"M120-120v-720h720v720H120Zm60-500h600v-160H180v160Zm220 220h160v-160H400v160Zm0 220h160v-160H400v160ZM180-400h160v-160H180v160Zm440 0h160v-160H620v160ZM180-180h160v-160H180v160Zm440 0h160v-160H620v160Z\"/>\n",
              "  </svg>\n",
              "    </button>\n",
              "\n",
              "  <style>\n",
              "    .colab-df-container {\n",
              "      display:flex;\n",
              "      gap: 12px;\n",
              "    }\n",
              "\n",
              "    .colab-df-convert {\n",
              "      background-color: #E8F0FE;\n",
              "      border: none;\n",
              "      border-radius: 50%;\n",
              "      cursor: pointer;\n",
              "      display: none;\n",
              "      fill: #1967D2;\n",
              "      height: 32px;\n",
              "      padding: 0 0 0 0;\n",
              "      width: 32px;\n",
              "    }\n",
              "\n",
              "    .colab-df-convert:hover {\n",
              "      background-color: #E2EBFA;\n",
              "      box-shadow: 0px 1px 2px rgba(60, 64, 67, 0.3), 0px 1px 3px 1px rgba(60, 64, 67, 0.15);\n",
              "      fill: #174EA6;\n",
              "    }\n",
              "\n",
              "    .colab-df-buttons div {\n",
              "      margin-bottom: 4px;\n",
              "    }\n",
              "\n",
              "    [theme=dark] .colab-df-convert {\n",
              "      background-color: #3B4455;\n",
              "      fill: #D2E3FC;\n",
              "    }\n",
              "\n",
              "    [theme=dark] .colab-df-convert:hover {\n",
              "      background-color: #434B5C;\n",
              "      box-shadow: 0px 1px 3px 1px rgba(0, 0, 0, 0.15);\n",
              "      filter: drop-shadow(0px 1px 2px rgba(0, 0, 0, 0.3));\n",
              "      fill: #FFFFFF;\n",
              "    }\n",
              "  </style>\n",
              "\n",
              "    <script>\n",
              "      const buttonEl =\n",
              "        document.querySelector('#df-607c453a-2317-4d63-be13-c96cb81ff758 button.colab-df-convert');\n",
              "      buttonEl.style.display =\n",
              "        google.colab.kernel.accessAllowed ? 'block' : 'none';\n",
              "\n",
              "      async function convertToInteractive(key) {\n",
              "        const element = document.querySelector('#df-607c453a-2317-4d63-be13-c96cb81ff758');\n",
              "        const dataTable =\n",
              "          await google.colab.kernel.invokeFunction('convertToInteractive',\n",
              "                                                    [key], {});\n",
              "        if (!dataTable) return;\n",
              "\n",
              "        const docLinkHtml = 'Like what you see? Visit the ' +\n",
              "          '<a target=\"_blank\" href=https://colab.research.google.com/notebooks/data_table.ipynb>data table notebook</a>'\n",
              "          + ' to learn more about interactive tables.';\n",
              "        element.innerHTML = '';\n",
              "        dataTable['output_type'] = 'display_data';\n",
              "        await google.colab.output.renderOutput(dataTable, element);\n",
              "        const docLink = document.createElement('div');\n",
              "        docLink.innerHTML = docLinkHtml;\n",
              "        element.appendChild(docLink);\n",
              "      }\n",
              "    </script>\n",
              "  </div>\n",
              "\n",
              "\n",
              "<div id=\"df-6c33db1a-5da0-400a-94ac-e447b5a9fea0\">\n",
              "  <button class=\"colab-df-quickchart\" onclick=\"quickchart('df-6c33db1a-5da0-400a-94ac-e447b5a9fea0')\"\n",
              "            title=\"Suggest charts\"\n",
              "            style=\"display:none;\">\n",
              "\n",
              "<svg xmlns=\"http://www.w3.org/2000/svg\" height=\"24px\"viewBox=\"0 0 24 24\"\n",
              "     width=\"24px\">\n",
              "    <g>\n",
              "        <path d=\"M19 3H5c-1.1 0-2 .9-2 2v14c0 1.1.9 2 2 2h14c1.1 0 2-.9 2-2V5c0-1.1-.9-2-2-2zM9 17H7v-7h2v7zm4 0h-2V7h2v10zm4 0h-2v-4h2v4z\"/>\n",
              "    </g>\n",
              "</svg>\n",
              "  </button>\n",
              "\n",
              "<style>\n",
              "  .colab-df-quickchart {\n",
              "      --bg-color: #E8F0FE;\n",
              "      --fill-color: #1967D2;\n",
              "      --hover-bg-color: #E2EBFA;\n",
              "      --hover-fill-color: #174EA6;\n",
              "      --disabled-fill-color: #AAA;\n",
              "      --disabled-bg-color: #DDD;\n",
              "  }\n",
              "\n",
              "  [theme=dark] .colab-df-quickchart {\n",
              "      --bg-color: #3B4455;\n",
              "      --fill-color: #D2E3FC;\n",
              "      --hover-bg-color: #434B5C;\n",
              "      --hover-fill-color: #FFFFFF;\n",
              "      --disabled-bg-color: #3B4455;\n",
              "      --disabled-fill-color: #666;\n",
              "  }\n",
              "\n",
              "  .colab-df-quickchart {\n",
              "    background-color: var(--bg-color);\n",
              "    border: none;\n",
              "    border-radius: 50%;\n",
              "    cursor: pointer;\n",
              "    display: none;\n",
              "    fill: var(--fill-color);\n",
              "    height: 32px;\n",
              "    padding: 0;\n",
              "    width: 32px;\n",
              "  }\n",
              "\n",
              "  .colab-df-quickchart:hover {\n",
              "    background-color: var(--hover-bg-color);\n",
              "    box-shadow: 0 1px 2px rgba(60, 64, 67, 0.3), 0 1px 3px 1px rgba(60, 64, 67, 0.15);\n",
              "    fill: var(--button-hover-fill-color);\n",
              "  }\n",
              "\n",
              "  .colab-df-quickchart-complete:disabled,\n",
              "  .colab-df-quickchart-complete:disabled:hover {\n",
              "    background-color: var(--disabled-bg-color);\n",
              "    fill: var(--disabled-fill-color);\n",
              "    box-shadow: none;\n",
              "  }\n",
              "\n",
              "  .colab-df-spinner {\n",
              "    border: 2px solid var(--fill-color);\n",
              "    border-color: transparent;\n",
              "    border-bottom-color: var(--fill-color);\n",
              "    animation:\n",
              "      spin 1s steps(1) infinite;\n",
              "  }\n",
              "\n",
              "  @keyframes spin {\n",
              "    0% {\n",
              "      border-color: transparent;\n",
              "      border-bottom-color: var(--fill-color);\n",
              "      border-left-color: var(--fill-color);\n",
              "    }\n",
              "    20% {\n",
              "      border-color: transparent;\n",
              "      border-left-color: var(--fill-color);\n",
              "      border-top-color: var(--fill-color);\n",
              "    }\n",
              "    30% {\n",
              "      border-color: transparent;\n",
              "      border-left-color: var(--fill-color);\n",
              "      border-top-color: var(--fill-color);\n",
              "      border-right-color: var(--fill-color);\n",
              "    }\n",
              "    40% {\n",
              "      border-color: transparent;\n",
              "      border-right-color: var(--fill-color);\n",
              "      border-top-color: var(--fill-color);\n",
              "    }\n",
              "    60% {\n",
              "      border-color: transparent;\n",
              "      border-right-color: var(--fill-color);\n",
              "    }\n",
              "    80% {\n",
              "      border-color: transparent;\n",
              "      border-right-color: var(--fill-color);\n",
              "      border-bottom-color: var(--fill-color);\n",
              "    }\n",
              "    90% {\n",
              "      border-color: transparent;\n",
              "      border-bottom-color: var(--fill-color);\n",
              "    }\n",
              "  }\n",
              "</style>\n",
              "\n",
              "  <script>\n",
              "    async function quickchart(key) {\n",
              "      const quickchartButtonEl =\n",
              "        document.querySelector('#' + key + ' button');\n",
              "      quickchartButtonEl.disabled = true;  // To prevent multiple clicks.\n",
              "      quickchartButtonEl.classList.add('colab-df-spinner');\n",
              "      try {\n",
              "        const charts = await google.colab.kernel.invokeFunction(\n",
              "            'suggestCharts', [key], {});\n",
              "      } catch (error) {\n",
              "        console.error('Error during call to suggestCharts:', error);\n",
              "      }\n",
              "      quickchartButtonEl.classList.remove('colab-df-spinner');\n",
              "      quickchartButtonEl.classList.add('colab-df-quickchart-complete');\n",
              "    }\n",
              "    (() => {\n",
              "      let quickchartButtonEl =\n",
              "        document.querySelector('#df-6c33db1a-5da0-400a-94ac-e447b5a9fea0 button');\n",
              "      quickchartButtonEl.style.display =\n",
              "        google.colab.kernel.accessAllowed ? 'block' : 'none';\n",
              "    })();\n",
              "  </script>\n",
              "</div>\n",
              "\n",
              "    </div>\n",
              "  </div>\n"
            ],
            "application/vnd.google.colaboratory.intrinsic+json": {
              "type": "dataframe",
              "variable_name": "df"
            }
          },
          "metadata": {},
          "execution_count": 46
        }
      ]
    },
    {
      "cell_type": "code",
      "source": [
        "df.info()"
      ],
      "metadata": {
        "colab": {
          "base_uri": "https://localhost:8080/"
        },
        "id": "VlAjjzsM22ga",
        "outputId": "176228de-fa34-4fd5-ed3c-ae5d402a0c44"
      },
      "execution_count": 4,
      "outputs": [
        {
          "output_type": "stream",
          "name": "stdout",
          "text": [
            "<class 'pandas.core.frame.DataFrame'>\n",
            "RangeIndex: 4760 entries, 0 to 4759\n",
            "Data columns (total 21 columns):\n",
            " #   Column                    Non-Null Count  Dtype  \n",
            "---  ------                    --------------  -----  \n",
            " 0   Movie_ID                  4760 non-null   int64  \n",
            " 1   Movie_Title               4760 non-null   object \n",
            " 2   Movie_Genre               4760 non-null   object \n",
            " 3   Movie_Language            4760 non-null   object \n",
            " 4   Movie_Budget              4760 non-null   int64  \n",
            " 5   Movie_Popularity          4760 non-null   float64\n",
            " 6   Movie_Release_Date        4760 non-null   object \n",
            " 7   Movie_Revenue             4760 non-null   int64  \n",
            " 8   Movie_Runtime             4758 non-null   float64\n",
            " 9   Movie_Vote                4760 non-null   float64\n",
            " 10  Movie_Vote_Count          4760 non-null   int64  \n",
            " 11  Movie_Homepage            1699 non-null   object \n",
            " 12  Movie_Keywords            4373 non-null   object \n",
            " 13  Movie_Overview            4757 non-null   object \n",
            " 14  Movie_Production_House    4760 non-null   object \n",
            " 15  Movie_Production_Country  4760 non-null   object \n",
            " 16  Movie_Spoken_Language     4760 non-null   object \n",
            " 17  Movie_Tagline             3942 non-null   object \n",
            " 18  Movie_Cast                4733 non-null   object \n",
            " 19  Movie_Crew                4760 non-null   object \n",
            " 20  Movie_Director            4738 non-null   object \n",
            "dtypes: float64(3), int64(4), object(14)\n",
            "memory usage: 781.1+ KB\n"
          ]
        }
      ]
    },
    {
      "cell_type": "code",
      "source": [
        "df.shape"
      ],
      "metadata": {
        "colab": {
          "base_uri": "https://localhost:8080/"
        },
        "id": "TiZ9-pL23A5m",
        "outputId": "2f8e1f29-0a8a-4d93-bd33-1992d7b73521"
      },
      "execution_count": 5,
      "outputs": [
        {
          "output_type": "execute_result",
          "data": {
            "text/plain": [
              "(4760, 21)"
            ]
          },
          "metadata": {},
          "execution_count": 5
        }
      ]
    },
    {
      "cell_type": "code",
      "source": [
        "df.columns"
      ],
      "metadata": {
        "colab": {
          "base_uri": "https://localhost:8080/"
        },
        "id": "wqXvOj673FhB",
        "outputId": "2aebed13-df32-48cc-9ce4-905b6f14858d"
      },
      "execution_count": 6,
      "outputs": [
        {
          "output_type": "execute_result",
          "data": {
            "text/plain": [
              "Index(['Movie_ID', 'Movie_Title', 'Movie_Genre', 'Movie_Language',\n",
              "       'Movie_Budget', 'Movie_Popularity', 'Movie_Release_Date',\n",
              "       'Movie_Revenue', 'Movie_Runtime', 'Movie_Vote', 'Movie_Vote_Count',\n",
              "       'Movie_Homepage', 'Movie_Keywords', 'Movie_Overview',\n",
              "       'Movie_Production_House', 'Movie_Production_Country',\n",
              "       'Movie_Spoken_Language', 'Movie_Tagline', 'Movie_Cast', 'Movie_Crew',\n",
              "       'Movie_Director'],\n",
              "      dtype='object')"
            ]
          },
          "metadata": {},
          "execution_count": 6
        }
      ]
    },
    {
      "cell_type": "code",
      "source": [
        "df_features = df[['Movie_Genre','Movie_Keywords', 'Movie_Tagline','Movie_Cast','Movie_Director']].fillna('')"
      ],
      "metadata": {
        "id": "I3yIdetN31lK"
      },
      "execution_count": 9,
      "outputs": []
    },
    {
      "cell_type": "code",
      "source": [
        "df_features.shape"
      ],
      "metadata": {
        "colab": {
          "base_uri": "https://localhost:8080/"
        },
        "id": "y0evdsjW51N9",
        "outputId": "4e7238b5-852e-4c77-e845-9c9e59df0427"
      },
      "execution_count": 10,
      "outputs": [
        {
          "output_type": "execute_result",
          "data": {
            "text/plain": [
              "(4760, 5)"
            ]
          },
          "metadata": {},
          "execution_count": 10
        }
      ]
    },
    {
      "cell_type": "code",
      "source": [
        "df_features"
      ],
      "metadata": {
        "colab": {
          "base_uri": "https://localhost:8080/",
          "height": 1000
        },
        "id": "cjGidhiW6DOZ",
        "outputId": "55b1cef1-d1dc-43d8-fe8c-5a4ab10d1d2d"
      },
      "execution_count": 11,
      "outputs": [
        {
          "output_type": "execute_result",
          "data": {
            "text/plain": [
              "                           Movie_Genre  \\\n",
              "0                         Crime Comedy   \n",
              "1     Adventure Action Science Fiction   \n",
              "2                     Animation Family   \n",
              "3                 Comedy Drama Romance   \n",
              "4                                Drama   \n",
              "...                                ...   \n",
              "4755                            Horror   \n",
              "4756               Comedy Family Drama   \n",
              "4757                    Thriller Drama   \n",
              "4758                            Family   \n",
              "4759                       Documentary   \n",
              "\n",
              "                                         Movie_Keywords  \\\n",
              "0             hotel new year's eve witch bet hotel room   \n",
              "1           android galaxy hermit death star lightsaber   \n",
              "2     father son relationship harbor underwater fish...   \n",
              "3     vietnam veteran hippie mentally disabled runni...   \n",
              "4     male nudity female nudity adultery midlife cri...   \n",
              "...                                                 ...   \n",
              "4755                                                      \n",
              "4756                                                      \n",
              "4757                     christian film sex trafficking   \n",
              "4758                                                      \n",
              "4759  music actors legendary perfomer classic hollyw...   \n",
              "\n",
              "                                          Movie_Tagline  \\\n",
              "0     Twelve outrageous guests. Four scandalous requ...   \n",
              "1          A long time ago in a galaxy far, far away...   \n",
              "2     There are 3.7 trillion fish in the ocean, they...   \n",
              "3     The world will never be the same, once you've ...   \n",
              "4                                          Look closer.   \n",
              "...                                                 ...   \n",
              "4755                The hot spot where Satan's waitin'.   \n",
              "4756           It’s better to stand out than to fit in.   \n",
              "4757           She never knew it could happen to her...   \n",
              "4758                                                      \n",
              "4759                                                      \n",
              "\n",
              "                                             Movie_Cast     Movie_Director  \n",
              "0     Tim Roth Antonio Banderas Jennifer Beals Madon...     Allison Anders  \n",
              "1     Mark Hamill Harrison Ford Carrie Fisher Peter ...       George Lucas  \n",
              "2     Albert Brooks Ellen DeGeneres Alexander Gould ...     Andrew Stanton  \n",
              "3     Tom Hanks Robin Wright Gary Sinise Mykelti Wil...    Robert Zemeckis  \n",
              "4     Kevin Spacey Annette Bening Thora Birch Wes Be...         Sam Mendes  \n",
              "...                                                 ...                ...  \n",
              "4755  Lisa Hart Carroll Michael Des Barres Paul Drak...         Pece Dingo  \n",
              "4756  Roni Akurati Brighton Sharbino Jason Lee Anjul...       Frank Lotito  \n",
              "4757  Nicole Smolen Kim Baldwin Ariana Stephens Brys...       Jaco Booyens  \n",
              "4758                                                                        \n",
              "4759                                    Tony Oppedisano  Simon Napier-Bell  \n",
              "\n",
              "[4760 rows x 5 columns]"
            ],
            "text/html": [
              "\n",
              "  <div id=\"df-dff295a9-b934-4e47-94b7-55d0a28ab06a\" class=\"colab-df-container\">\n",
              "    <div>\n",
              "<style scoped>\n",
              "    .dataframe tbody tr th:only-of-type {\n",
              "        vertical-align: middle;\n",
              "    }\n",
              "\n",
              "    .dataframe tbody tr th {\n",
              "        vertical-align: top;\n",
              "    }\n",
              "\n",
              "    .dataframe thead th {\n",
              "        text-align: right;\n",
              "    }\n",
              "</style>\n",
              "<table border=\"1\" class=\"dataframe\">\n",
              "  <thead>\n",
              "    <tr style=\"text-align: right;\">\n",
              "      <th></th>\n",
              "      <th>Movie_Genre</th>\n",
              "      <th>Movie_Keywords</th>\n",
              "      <th>Movie_Tagline</th>\n",
              "      <th>Movie_Cast</th>\n",
              "      <th>Movie_Director</th>\n",
              "    </tr>\n",
              "  </thead>\n",
              "  <tbody>\n",
              "    <tr>\n",
              "      <th>0</th>\n",
              "      <td>Crime Comedy</td>\n",
              "      <td>hotel new year's eve witch bet hotel room</td>\n",
              "      <td>Twelve outrageous guests. Four scandalous requ...</td>\n",
              "      <td>Tim Roth Antonio Banderas Jennifer Beals Madon...</td>\n",
              "      <td>Allison Anders</td>\n",
              "    </tr>\n",
              "    <tr>\n",
              "      <th>1</th>\n",
              "      <td>Adventure Action Science Fiction</td>\n",
              "      <td>android galaxy hermit death star lightsaber</td>\n",
              "      <td>A long time ago in a galaxy far, far away...</td>\n",
              "      <td>Mark Hamill Harrison Ford Carrie Fisher Peter ...</td>\n",
              "      <td>George Lucas</td>\n",
              "    </tr>\n",
              "    <tr>\n",
              "      <th>2</th>\n",
              "      <td>Animation Family</td>\n",
              "      <td>father son relationship harbor underwater fish...</td>\n",
              "      <td>There are 3.7 trillion fish in the ocean, they...</td>\n",
              "      <td>Albert Brooks Ellen DeGeneres Alexander Gould ...</td>\n",
              "      <td>Andrew Stanton</td>\n",
              "    </tr>\n",
              "    <tr>\n",
              "      <th>3</th>\n",
              "      <td>Comedy Drama Romance</td>\n",
              "      <td>vietnam veteran hippie mentally disabled runni...</td>\n",
              "      <td>The world will never be the same, once you've ...</td>\n",
              "      <td>Tom Hanks Robin Wright Gary Sinise Mykelti Wil...</td>\n",
              "      <td>Robert Zemeckis</td>\n",
              "    </tr>\n",
              "    <tr>\n",
              "      <th>4</th>\n",
              "      <td>Drama</td>\n",
              "      <td>male nudity female nudity adultery midlife cri...</td>\n",
              "      <td>Look closer.</td>\n",
              "      <td>Kevin Spacey Annette Bening Thora Birch Wes Be...</td>\n",
              "      <td>Sam Mendes</td>\n",
              "    </tr>\n",
              "    <tr>\n",
              "      <th>...</th>\n",
              "      <td>...</td>\n",
              "      <td>...</td>\n",
              "      <td>...</td>\n",
              "      <td>...</td>\n",
              "      <td>...</td>\n",
              "    </tr>\n",
              "    <tr>\n",
              "      <th>4755</th>\n",
              "      <td>Horror</td>\n",
              "      <td></td>\n",
              "      <td>The hot spot where Satan's waitin'.</td>\n",
              "      <td>Lisa Hart Carroll Michael Des Barres Paul Drak...</td>\n",
              "      <td>Pece Dingo</td>\n",
              "    </tr>\n",
              "    <tr>\n",
              "      <th>4756</th>\n",
              "      <td>Comedy Family Drama</td>\n",
              "      <td></td>\n",
              "      <td>It’s better to stand out than to fit in.</td>\n",
              "      <td>Roni Akurati Brighton Sharbino Jason Lee Anjul...</td>\n",
              "      <td>Frank Lotito</td>\n",
              "    </tr>\n",
              "    <tr>\n",
              "      <th>4757</th>\n",
              "      <td>Thriller Drama</td>\n",
              "      <td>christian film sex trafficking</td>\n",
              "      <td>She never knew it could happen to her...</td>\n",
              "      <td>Nicole Smolen Kim Baldwin Ariana Stephens Brys...</td>\n",
              "      <td>Jaco Booyens</td>\n",
              "    </tr>\n",
              "    <tr>\n",
              "      <th>4758</th>\n",
              "      <td>Family</td>\n",
              "      <td></td>\n",
              "      <td></td>\n",
              "      <td></td>\n",
              "      <td></td>\n",
              "    </tr>\n",
              "    <tr>\n",
              "      <th>4759</th>\n",
              "      <td>Documentary</td>\n",
              "      <td>music actors legendary perfomer classic hollyw...</td>\n",
              "      <td></td>\n",
              "      <td>Tony Oppedisano</td>\n",
              "      <td>Simon Napier-Bell</td>\n",
              "    </tr>\n",
              "  </tbody>\n",
              "</table>\n",
              "<p>4760 rows × 5 columns</p>\n",
              "</div>\n",
              "    <div class=\"colab-df-buttons\">\n",
              "\n",
              "  <div class=\"colab-df-container\">\n",
              "    <button class=\"colab-df-convert\" onclick=\"convertToInteractive('df-dff295a9-b934-4e47-94b7-55d0a28ab06a')\"\n",
              "            title=\"Convert this dataframe to an interactive table.\"\n",
              "            style=\"display:none;\">\n",
              "\n",
              "  <svg xmlns=\"http://www.w3.org/2000/svg\" height=\"24px\" viewBox=\"0 -960 960 960\">\n",
              "    <path d=\"M120-120v-720h720v720H120Zm60-500h600v-160H180v160Zm220 220h160v-160H400v160Zm0 220h160v-160H400v160ZM180-400h160v-160H180v160Zm440 0h160v-160H620v160ZM180-180h160v-160H180v160Zm440 0h160v-160H620v160Z\"/>\n",
              "  </svg>\n",
              "    </button>\n",
              "\n",
              "  <style>\n",
              "    .colab-df-container {\n",
              "      display:flex;\n",
              "      gap: 12px;\n",
              "    }\n",
              "\n",
              "    .colab-df-convert {\n",
              "      background-color: #E8F0FE;\n",
              "      border: none;\n",
              "      border-radius: 50%;\n",
              "      cursor: pointer;\n",
              "      display: none;\n",
              "      fill: #1967D2;\n",
              "      height: 32px;\n",
              "      padding: 0 0 0 0;\n",
              "      width: 32px;\n",
              "    }\n",
              "\n",
              "    .colab-df-convert:hover {\n",
              "      background-color: #E2EBFA;\n",
              "      box-shadow: 0px 1px 2px rgba(60, 64, 67, 0.3), 0px 1px 3px 1px rgba(60, 64, 67, 0.15);\n",
              "      fill: #174EA6;\n",
              "    }\n",
              "\n",
              "    .colab-df-buttons div {\n",
              "      margin-bottom: 4px;\n",
              "    }\n",
              "\n",
              "    [theme=dark] .colab-df-convert {\n",
              "      background-color: #3B4455;\n",
              "      fill: #D2E3FC;\n",
              "    }\n",
              "\n",
              "    [theme=dark] .colab-df-convert:hover {\n",
              "      background-color: #434B5C;\n",
              "      box-shadow: 0px 1px 3px 1px rgba(0, 0, 0, 0.15);\n",
              "      filter: drop-shadow(0px 1px 2px rgba(0, 0, 0, 0.3));\n",
              "      fill: #FFFFFF;\n",
              "    }\n",
              "  </style>\n",
              "\n",
              "    <script>\n",
              "      const buttonEl =\n",
              "        document.querySelector('#df-dff295a9-b934-4e47-94b7-55d0a28ab06a button.colab-df-convert');\n",
              "      buttonEl.style.display =\n",
              "        google.colab.kernel.accessAllowed ? 'block' : 'none';\n",
              "\n",
              "      async function convertToInteractive(key) {\n",
              "        const element = document.querySelector('#df-dff295a9-b934-4e47-94b7-55d0a28ab06a');\n",
              "        const dataTable =\n",
              "          await google.colab.kernel.invokeFunction('convertToInteractive',\n",
              "                                                    [key], {});\n",
              "        if (!dataTable) return;\n",
              "\n",
              "        const docLinkHtml = 'Like what you see? Visit the ' +\n",
              "          '<a target=\"_blank\" href=https://colab.research.google.com/notebooks/data_table.ipynb>data table notebook</a>'\n",
              "          + ' to learn more about interactive tables.';\n",
              "        element.innerHTML = '';\n",
              "        dataTable['output_type'] = 'display_data';\n",
              "        await google.colab.output.renderOutput(dataTable, element);\n",
              "        const docLink = document.createElement('div');\n",
              "        docLink.innerHTML = docLinkHtml;\n",
              "        element.appendChild(docLink);\n",
              "      }\n",
              "    </script>\n",
              "  </div>\n",
              "\n",
              "\n",
              "<div id=\"df-2c884b9e-0bdf-48e5-baaf-97076a2248cd\">\n",
              "  <button class=\"colab-df-quickchart\" onclick=\"quickchart('df-2c884b9e-0bdf-48e5-baaf-97076a2248cd')\"\n",
              "            title=\"Suggest charts\"\n",
              "            style=\"display:none;\">\n",
              "\n",
              "<svg xmlns=\"http://www.w3.org/2000/svg\" height=\"24px\"viewBox=\"0 0 24 24\"\n",
              "     width=\"24px\">\n",
              "    <g>\n",
              "        <path d=\"M19 3H5c-1.1 0-2 .9-2 2v14c0 1.1.9 2 2 2h14c1.1 0 2-.9 2-2V5c0-1.1-.9-2-2-2zM9 17H7v-7h2v7zm4 0h-2V7h2v10zm4 0h-2v-4h2v4z\"/>\n",
              "    </g>\n",
              "</svg>\n",
              "  </button>\n",
              "\n",
              "<style>\n",
              "  .colab-df-quickchart {\n",
              "      --bg-color: #E8F0FE;\n",
              "      --fill-color: #1967D2;\n",
              "      --hover-bg-color: #E2EBFA;\n",
              "      --hover-fill-color: #174EA6;\n",
              "      --disabled-fill-color: #AAA;\n",
              "      --disabled-bg-color: #DDD;\n",
              "  }\n",
              "\n",
              "  [theme=dark] .colab-df-quickchart {\n",
              "      --bg-color: #3B4455;\n",
              "      --fill-color: #D2E3FC;\n",
              "      --hover-bg-color: #434B5C;\n",
              "      --hover-fill-color: #FFFFFF;\n",
              "      --disabled-bg-color: #3B4455;\n",
              "      --disabled-fill-color: #666;\n",
              "  }\n",
              "\n",
              "  .colab-df-quickchart {\n",
              "    background-color: var(--bg-color);\n",
              "    border: none;\n",
              "    border-radius: 50%;\n",
              "    cursor: pointer;\n",
              "    display: none;\n",
              "    fill: var(--fill-color);\n",
              "    height: 32px;\n",
              "    padding: 0;\n",
              "    width: 32px;\n",
              "  }\n",
              "\n",
              "  .colab-df-quickchart:hover {\n",
              "    background-color: var(--hover-bg-color);\n",
              "    box-shadow: 0 1px 2px rgba(60, 64, 67, 0.3), 0 1px 3px 1px rgba(60, 64, 67, 0.15);\n",
              "    fill: var(--button-hover-fill-color);\n",
              "  }\n",
              "\n",
              "  .colab-df-quickchart-complete:disabled,\n",
              "  .colab-df-quickchart-complete:disabled:hover {\n",
              "    background-color: var(--disabled-bg-color);\n",
              "    fill: var(--disabled-fill-color);\n",
              "    box-shadow: none;\n",
              "  }\n",
              "\n",
              "  .colab-df-spinner {\n",
              "    border: 2px solid var(--fill-color);\n",
              "    border-color: transparent;\n",
              "    border-bottom-color: var(--fill-color);\n",
              "    animation:\n",
              "      spin 1s steps(1) infinite;\n",
              "  }\n",
              "\n",
              "  @keyframes spin {\n",
              "    0% {\n",
              "      border-color: transparent;\n",
              "      border-bottom-color: var(--fill-color);\n",
              "      border-left-color: var(--fill-color);\n",
              "    }\n",
              "    20% {\n",
              "      border-color: transparent;\n",
              "      border-left-color: var(--fill-color);\n",
              "      border-top-color: var(--fill-color);\n",
              "    }\n",
              "    30% {\n",
              "      border-color: transparent;\n",
              "      border-left-color: var(--fill-color);\n",
              "      border-top-color: var(--fill-color);\n",
              "      border-right-color: var(--fill-color);\n",
              "    }\n",
              "    40% {\n",
              "      border-color: transparent;\n",
              "      border-right-color: var(--fill-color);\n",
              "      border-top-color: var(--fill-color);\n",
              "    }\n",
              "    60% {\n",
              "      border-color: transparent;\n",
              "      border-right-color: var(--fill-color);\n",
              "    }\n",
              "    80% {\n",
              "      border-color: transparent;\n",
              "      border-right-color: var(--fill-color);\n",
              "      border-bottom-color: var(--fill-color);\n",
              "    }\n",
              "    90% {\n",
              "      border-color: transparent;\n",
              "      border-bottom-color: var(--fill-color);\n",
              "    }\n",
              "  }\n",
              "</style>\n",
              "\n",
              "  <script>\n",
              "    async function quickchart(key) {\n",
              "      const quickchartButtonEl =\n",
              "        document.querySelector('#' + key + ' button');\n",
              "      quickchartButtonEl.disabled = true;  // To prevent multiple clicks.\n",
              "      quickchartButtonEl.classList.add('colab-df-spinner');\n",
              "      try {\n",
              "        const charts = await google.colab.kernel.invokeFunction(\n",
              "            'suggestCharts', [key], {});\n",
              "      } catch (error) {\n",
              "        console.error('Error during call to suggestCharts:', error);\n",
              "      }\n",
              "      quickchartButtonEl.classList.remove('colab-df-spinner');\n",
              "      quickchartButtonEl.classList.add('colab-df-quickchart-complete');\n",
              "    }\n",
              "    (() => {\n",
              "      let quickchartButtonEl =\n",
              "        document.querySelector('#df-2c884b9e-0bdf-48e5-baaf-97076a2248cd button');\n",
              "      quickchartButtonEl.style.display =\n",
              "        google.colab.kernel.accessAllowed ? 'block' : 'none';\n",
              "    })();\n",
              "  </script>\n",
              "</div>\n",
              "\n",
              "  <div id=\"id_74448cae-a270-468c-bbab-553c95f05101\">\n",
              "    <style>\n",
              "      .colab-df-generate {\n",
              "        background-color: #E8F0FE;\n",
              "        border: none;\n",
              "        border-radius: 50%;\n",
              "        cursor: pointer;\n",
              "        display: none;\n",
              "        fill: #1967D2;\n",
              "        height: 32px;\n",
              "        padding: 0 0 0 0;\n",
              "        width: 32px;\n",
              "      }\n",
              "\n",
              "      .colab-df-generate:hover {\n",
              "        background-color: #E2EBFA;\n",
              "        box-shadow: 0px 1px 2px rgba(60, 64, 67, 0.3), 0px 1px 3px 1px rgba(60, 64, 67, 0.15);\n",
              "        fill: #174EA6;\n",
              "      }\n",
              "\n",
              "      [theme=dark] .colab-df-generate {\n",
              "        background-color: #3B4455;\n",
              "        fill: #D2E3FC;\n",
              "      }\n",
              "\n",
              "      [theme=dark] .colab-df-generate:hover {\n",
              "        background-color: #434B5C;\n",
              "        box-shadow: 0px 1px 3px 1px rgba(0, 0, 0, 0.15);\n",
              "        filter: drop-shadow(0px 1px 2px rgba(0, 0, 0, 0.3));\n",
              "        fill: #FFFFFF;\n",
              "      }\n",
              "    </style>\n",
              "    <button class=\"colab-df-generate\" onclick=\"generateWithVariable('df_features')\"\n",
              "            title=\"Generate code using this dataframe.\"\n",
              "            style=\"display:none;\">\n",
              "\n",
              "  <svg xmlns=\"http://www.w3.org/2000/svg\" height=\"24px\"viewBox=\"0 0 24 24\"\n",
              "       width=\"24px\">\n",
              "    <path d=\"M7,19H8.4L18.45,9,17,7.55,7,17.6ZM5,21V16.75L18.45,3.32a2,2,0,0,1,2.83,0l1.4,1.43a1.91,1.91,0,0,1,.58,1.4,1.91,1.91,0,0,1-.58,1.4L9.25,21ZM18.45,9,17,7.55Zm-12,3A5.31,5.31,0,0,0,4.9,8.1,5.31,5.31,0,0,0,1,6.5,5.31,5.31,0,0,0,4.9,4.9,5.31,5.31,0,0,0,6.5,1,5.31,5.31,0,0,0,8.1,4.9,5.31,5.31,0,0,0,12,6.5,5.46,5.46,0,0,0,6.5,12Z\"/>\n",
              "  </svg>\n",
              "    </button>\n",
              "    <script>\n",
              "      (() => {\n",
              "      const buttonEl =\n",
              "        document.querySelector('#id_74448cae-a270-468c-bbab-553c95f05101 button.colab-df-generate');\n",
              "      buttonEl.style.display =\n",
              "        google.colab.kernel.accessAllowed ? 'block' : 'none';\n",
              "\n",
              "      buttonEl.onclick = () => {\n",
              "        google.colab.notebook.generateWithVariable('df_features');\n",
              "      }\n",
              "      })();\n",
              "    </script>\n",
              "  </div>\n",
              "\n",
              "    </div>\n",
              "  </div>\n"
            ],
            "application/vnd.google.colaboratory.intrinsic+json": {
              "type": "dataframe",
              "variable_name": "df_features",
              "summary": "{\n  \"name\": \"df_features\",\n  \"rows\": 4760,\n  \"fields\": [\n    {\n      \"column\": \"Movie_Genre\",\n      \"properties\": {\n        \"dtype\": \"category\",\n        \"num_unique_values\": 1164,\n        \"samples\": [\n          \"Family Animation Adventure\",\n          \"Adventure Science Fiction Action\",\n          \"Action Crime Drama Romance Thriller\"\n        ],\n        \"semantic_type\": \"\",\n        \"description\": \"\"\n      }\n    },\n    {\n      \"column\": \"Movie_Keywords\",\n      \"properties\": {\n        \"dtype\": \"string\",\n        \"num_unique_values\": 4203,\n        \"samples\": [\n          \"canada nazis sequel spin off ancient evil\",\n          \"sex professor wedding woman director columbia university\",\n          \"prophecy sea beach gold small town\"\n        ],\n        \"semantic_type\": \"\",\n        \"description\": \"\"\n      }\n    },\n    {\n      \"column\": \"Movie_Tagline\",\n      \"properties\": {\n        \"dtype\": \"string\",\n        \"num_unique_values\": 3928,\n        \"samples\": [\n          \"The messenger must be silenced.\",\n          \"It's not the house that's haunted.\",\n          \"The final hunt begins.\"\n        ],\n        \"semantic_type\": \"\",\n        \"description\": \"\"\n      }\n    },\n    {\n      \"column\": \"Movie_Cast\",\n      \"properties\": {\n        \"dtype\": \"string\",\n        \"num_unique_values\": 4715,\n        \"samples\": [\n          \"Robin Tunney Fairuza Balk Neve Campbell Rachel True Skeet Ulrich\",\n          \"Peter Sellers Christopher Plummer Herbert Lom Catherine Schell Peter Arne\",\n          \"John Wayne Laraine Day Cedric Hardwicke Judith Anderson Anthony Quinn\"\n        ],\n        \"semantic_type\": \"\",\n        \"description\": \"\"\n      }\n    },\n    {\n      \"column\": \"Movie_Director\",\n      \"properties\": {\n        \"dtype\": \"category\",\n        \"num_unique_values\": 2332,\n        \"samples\": [\n          \"Rob McKittrick\",\n          \"Terron R. Parsons\",\n          \"Cyrus Nowrasteh\"\n        ],\n        \"semantic_type\": \"\",\n        \"description\": \"\"\n      }\n    }\n  ]\n}"
            }
          },
          "metadata": {},
          "execution_count": 11
        }
      ]
    },
    {
      "cell_type": "code",
      "source": [
        "X = df_features['Movie_Genre'] + '' + df_features['Movie_Keywords'] + '' + df_features['Movie_Tagline'] + '' + df_features['Movie_Cast'] + '' + df_features['Movie_Director']"
      ],
      "metadata": {
        "id": "zTyh4_MK6Qg2"
      },
      "execution_count": 12,
      "outputs": []
    },
    {
      "cell_type": "code",
      "source": [
        "X"
      ],
      "metadata": {
        "colab": {
          "base_uri": "https://localhost:8080/",
          "height": 458
        },
        "id": "wpBR69rO7NGI",
        "outputId": "b8c8683b-58af-4bfc-d4c8-40c65a73661e"
      },
      "execution_count": 13,
      "outputs": [
        {
          "output_type": "execute_result",
          "data": {
            "text/plain": [
              "0       Crime Comedyhotel new year's eve witch bet hot...\n",
              "1       Adventure Action Science Fictionandroid galaxy...\n",
              "2       Animation Familyfather son relationship harbor...\n",
              "3       Comedy Drama Romancevietnam veteran hippie men...\n",
              "4       Dramamale nudity female nudity adultery midlif...\n",
              "                              ...                        \n",
              "4755    HorrorThe hot spot where Satan's waitin'.Lisa ...\n",
              "4756    Comedy Family DramaIt’s better to stand out th...\n",
              "4757    Thriller Dramachristian film sex traffickingSh...\n",
              "4758                                               Family\n",
              "4759    Documentarymusic actors legendary perfomer cla...\n",
              "Length: 4760, dtype: object"
            ],
            "text/html": [
              "<div>\n",
              "<style scoped>\n",
              "    .dataframe tbody tr th:only-of-type {\n",
              "        vertical-align: middle;\n",
              "    }\n",
              "\n",
              "    .dataframe tbody tr th {\n",
              "        vertical-align: top;\n",
              "    }\n",
              "\n",
              "    .dataframe thead th {\n",
              "        text-align: right;\n",
              "    }\n",
              "</style>\n",
              "<table border=\"1\" class=\"dataframe\">\n",
              "  <thead>\n",
              "    <tr style=\"text-align: right;\">\n",
              "      <th></th>\n",
              "      <th>0</th>\n",
              "    </tr>\n",
              "  </thead>\n",
              "  <tbody>\n",
              "    <tr>\n",
              "      <th>0</th>\n",
              "      <td>Crime Comedyhotel new year's eve witch bet hot...</td>\n",
              "    </tr>\n",
              "    <tr>\n",
              "      <th>1</th>\n",
              "      <td>Adventure Action Science Fictionandroid galaxy...</td>\n",
              "    </tr>\n",
              "    <tr>\n",
              "      <th>2</th>\n",
              "      <td>Animation Familyfather son relationship harbor...</td>\n",
              "    </tr>\n",
              "    <tr>\n",
              "      <th>3</th>\n",
              "      <td>Comedy Drama Romancevietnam veteran hippie men...</td>\n",
              "    </tr>\n",
              "    <tr>\n",
              "      <th>4</th>\n",
              "      <td>Dramamale nudity female nudity adultery midlif...</td>\n",
              "    </tr>\n",
              "    <tr>\n",
              "      <th>...</th>\n",
              "      <td>...</td>\n",
              "    </tr>\n",
              "    <tr>\n",
              "      <th>4755</th>\n",
              "      <td>HorrorThe hot spot where Satan's waitin'.Lisa ...</td>\n",
              "    </tr>\n",
              "    <tr>\n",
              "      <th>4756</th>\n",
              "      <td>Comedy Family DramaIt’s better to stand out th...</td>\n",
              "    </tr>\n",
              "    <tr>\n",
              "      <th>4757</th>\n",
              "      <td>Thriller Dramachristian film sex traffickingSh...</td>\n",
              "    </tr>\n",
              "    <tr>\n",
              "      <th>4758</th>\n",
              "      <td>Family</td>\n",
              "    </tr>\n",
              "    <tr>\n",
              "      <th>4759</th>\n",
              "      <td>Documentarymusic actors legendary perfomer cla...</td>\n",
              "    </tr>\n",
              "  </tbody>\n",
              "</table>\n",
              "<p>4760 rows × 1 columns</p>\n",
              "</div><br><label><b>dtype:</b> object</label>"
            ]
          },
          "metadata": {},
          "execution_count": 13
        }
      ]
    },
    {
      "cell_type": "code",
      "source": [
        "X.shape"
      ],
      "metadata": {
        "colab": {
          "base_uri": "https://localhost:8080/"
        },
        "id": "HMr--Udw7YBB",
        "outputId": "1b3b6807-b446-4592-8744-da7c05dadcba"
      },
      "execution_count": 14,
      "outputs": [
        {
          "output_type": "execute_result",
          "data": {
            "text/plain": [
              "(4760,)"
            ]
          },
          "metadata": {},
          "execution_count": 14
        }
      ]
    },
    {
      "cell_type": "code",
      "source": [
        "from sklearn.feature_extraction.text import TfidfVectorizer"
      ],
      "metadata": {
        "id": "NMXv9jKm7b2C"
      },
      "execution_count": 15,
      "outputs": []
    },
    {
      "cell_type": "code",
      "source": [
        "tfidf = TfidfVectorizer()"
      ],
      "metadata": {
        "id": "hs2GnOFx7wYQ"
      },
      "execution_count": 18,
      "outputs": []
    },
    {
      "cell_type": "code",
      "source": [
        "X = tfidf.fit_transform(X)"
      ],
      "metadata": {
        "id": "8dZOCIAU7_Xh"
      },
      "execution_count": 20,
      "outputs": []
    },
    {
      "cell_type": "code",
      "source": [
        "X.shape"
      ],
      "metadata": {
        "colab": {
          "base_uri": "https://localhost:8080/"
        },
        "id": "v9bHNXJC8e8a",
        "outputId": "622c62f4-ff14-438f-d547-575f62ce4908"
      },
      "execution_count": 21,
      "outputs": [
        {
          "output_type": "execute_result",
          "data": {
            "text/plain": [
              "(4760, 27466)"
            ]
          },
          "metadata": {},
          "execution_count": 21
        }
      ]
    },
    {
      "cell_type": "code",
      "source": [
        "print(X)"
      ],
      "metadata": {
        "colab": {
          "base_uri": "https://localhost:8080/"
        },
        "id": "LdA3bM4R8mcI",
        "outputId": "09d18769-0375-4af5-b8a0-93bf9d165a1d"
      },
      "execution_count": 22,
      "outputs": [
        {
          "output_type": "stream",
          "name": "stdout",
          "text": [
            "  (0, 5553)\t0.07352252655701756\n",
            "  (0, 4842)\t0.175053052455033\n",
            "  (0, 17725)\t0.19515517646728336\n",
            "  (0, 27198)\t0.2597527006839562\n",
            "  (0, 8412)\t0.30116325256269705\n",
            "  (0, 26906)\t0.14779363579183874\n",
            "  (0, 2421)\t0.1645837911577698\n",
            "  (0, 12418)\t0.1351418753960437\n",
            "  (0, 21107)\t0.1954632929283795\n",
            "  (0, 18350)\t0.1864316176399999\n",
            "  (0, 11084)\t0.1864316176399999\n",
            "  (0, 9905)\t0.14914404027246494\n",
            "  (0, 21613)\t0.1954632929283795\n",
            "  (0, 20254)\t0.1954632929283795\n",
            "  (0, 1025)\t0.07583312551941795\n",
            "  (0, 18196)\t0.08579029869987485\n",
            "  (0, 15172)\t0.1537691763994982\n",
            "  (0, 2292)\t0.1954632929283795\n",
            "  (0, 12801)\t0.1530338818199682\n",
            "  (0, 11960)\t0.20134029899961134\n",
            "  (0, 9626)\t0.11757910435818826\n",
            "  (0, 6172)\t0.11970212451073885\n",
            "  (0, 18192)\t0.07278761942152372\n",
            "  (0, 24105)\t0.10726395493180996\n",
            "  (0, 13401)\t0.13748876529263096\n",
            "  :\t:\n",
            "  (4757, 17789)\t0.18881341937258544\n",
            "  (4757, 22017)\t0.1646400247918531\n",
            "  (4757, 11350)\t0.21582294886514122\n",
            "  (4757, 5410)\t0.19734759150400596\n",
            "  (4757, 1839)\t0.19327629083107672\n",
            "  (4757, 23178)\t0.25562985703864616\n",
            "  (4757, 7244)\t0.25562985703864616\n",
            "  (4757, 24915)\t0.28543491773969387\n",
            "  (4757, 22633)\t0.28543491773969387\n",
            "  (4757, 1328)\t0.28543491773969387\n",
            "  (4757, 3295)\t0.28543491773969387\n",
            "  (4757, 10137)\t0.28543491773969387\n",
            "  (4757, 2866)\t0.28543491773969387\n",
            "  (4758, 8651)\t1.0\n",
            "  (4759, 2285)\t0.21465229435984196\n",
            "  (4759, 9955)\t0.21805075638656476\n",
            "  (4759, 17552)\t0.3087899934962816\n",
            "  (4759, 4446)\t0.282306565154911\n",
            "  (4759, 12139)\t0.2778063685558062\n",
            "  (4759, 14742)\t0.31978160936741457\n",
            "  (4759, 345)\t0.31978160936741457\n",
            "  (4759, 6950)\t0.33527342183765224\n",
            "  (4759, 18841)\t0.33527342183765224\n",
            "  (4759, 22434)\t0.33527342183765224\n",
            "  (4759, 18229)\t0.33527342183765224\n"
          ]
        }
      ]
    },
    {
      "cell_type": "code",
      "source": [
        "from sklearn.metrics.pairwise import cosine_similarity"
      ],
      "metadata": {
        "id": "GmYNjnz687I9"
      },
      "execution_count": 23,
      "outputs": []
    },
    {
      "cell_type": "code",
      "source": [
        "Similarity_Score = cosine_similarity(X)"
      ],
      "metadata": {
        "id": "_tKZrup79pKA"
      },
      "execution_count": 24,
      "outputs": []
    },
    {
      "cell_type": "code",
      "source": [
        "Similarity_Score"
      ],
      "metadata": {
        "colab": {
          "base_uri": "https://localhost:8080/"
        },
        "id": "JYPU8ACo95We",
        "outputId": "4443b98a-8927-4974-8d86-30e7f1f72f7e"
      },
      "execution_count": 25,
      "outputs": [
        {
          "output_type": "execute_result",
          "data": {
            "text/plain": [
              "array([[1.        , 0.01438634, 0.03807033, ..., 0.        , 0.        ,\n",
              "        0.        ],\n",
              "       [0.01438634, 1.        , 0.00844858, ..., 0.        , 0.        ,\n",
              "        0.        ],\n",
              "       [0.03807033, 0.00844858, 1.        , ..., 0.        , 0.        ,\n",
              "        0.        ],\n",
              "       ...,\n",
              "       [0.        , 0.        , 0.        , ..., 1.        , 0.        ,\n",
              "        0.        ],\n",
              "       [0.        , 0.        , 0.        , ..., 0.        , 1.        ,\n",
              "        0.        ],\n",
              "       [0.        , 0.        , 0.        , ..., 0.        , 0.        ,\n",
              "        1.        ]])"
            ]
          },
          "metadata": {},
          "execution_count": 25
        }
      ]
    },
    {
      "cell_type": "code",
      "source": [
        "Similarity_Score.shape"
      ],
      "metadata": {
        "colab": {
          "base_uri": "https://localhost:8080/"
        },
        "id": "rvc4GOHF-Dyc",
        "outputId": "73149f53-dcfe-40e4-988f-d7ca6c0631a8"
      },
      "execution_count": 26,
      "outputs": [
        {
          "output_type": "execute_result",
          "data": {
            "text/plain": [
              "(4760, 4760)"
            ]
          },
          "metadata": {},
          "execution_count": 26
        }
      ]
    },
    {
      "cell_type": "code",
      "source": [
        "Favourite_Movie_Name = input('Enter your favouritr movie name : ')"
      ],
      "metadata": {
        "colab": {
          "base_uri": "https://localhost:8080/"
        },
        "id": "pHI61LAc-OgI",
        "outputId": "4da9750d-8b01-47c9-e930-e0f8bd8a6f0e"
      },
      "execution_count": 27,
      "outputs": [
        {
          "name": "stdout",
          "output_type": "stream",
          "text": [
            "Enter your favouritr movie name : Star Wars\n"
          ]
        }
      ]
    },
    {
      "cell_type": "code",
      "source": [
        "All_Movie_Title_List = df['Movie_Title'].tolist()"
      ],
      "metadata": {
        "id": "yaWA21HE-_SL"
      },
      "execution_count": 28,
      "outputs": []
    },
    {
      "cell_type": "code",
      "source": [
        "import difflib"
      ],
      "metadata": {
        "id": "4Bkk7rWGKoIl"
      },
      "execution_count": 29,
      "outputs": []
    },
    {
      "cell_type": "code",
      "source": [
        "Movie_Reconnection = difflib.get_close_matches(Favourite_Movie_Name,All_Movie_Title_List)\n",
        "print(Movie_Reconnection)"
      ],
      "metadata": {
        "colab": {
          "base_uri": "https://localhost:8080/"
        },
        "id": "IzFca85lKtZW",
        "outputId": "e10c437f-de06-438a-a3d6-ae976a83b5bd"
      },
      "execution_count": 31,
      "outputs": [
        {
          "output_type": "stream",
          "name": "stdout",
          "text": [
            "['Star Wars', 'Star Trek', 'State Fair']\n"
          ]
        }
      ]
    },
    {
      "cell_type": "code",
      "source": [
        "Close_Match = Movie_Reconnection[0]\n",
        "print(Close_Match)"
      ],
      "metadata": {
        "colab": {
          "base_uri": "https://localhost:8080/"
        },
        "id": "jaV5f3JdLb2o",
        "outputId": "e817450b-3452-4f7b-b0c7-a837bf81a1ae"
      },
      "execution_count": 32,
      "outputs": [
        {
          "output_type": "stream",
          "name": "stdout",
          "text": [
            "Star Wars\n"
          ]
        }
      ]
    },
    {
      "cell_type": "code",
      "source": [
        "Index_of_Close_Match_Movie = df[df.Movie_Title == Close_Match]['Movie_ID'].values[0]\n",
        "print(Index_of_Close_Match_Movie)"
      ],
      "metadata": {
        "colab": {
          "base_uri": "https://localhost:8080/"
        },
        "id": "3vrwEUYaLpWo",
        "outputId": "0362cd5f-ba93-4316-e40e-c19516acff79"
      },
      "execution_count": 33,
      "outputs": [
        {
          "output_type": "stream",
          "name": "stdout",
          "text": [
            "2\n"
          ]
        }
      ]
    },
    {
      "cell_type": "code",
      "source": [
        "Recommendation_Score = list( enumerate(Similarity_Score[Index_of_Close_Match_Movie]))\n",
        "print(Recommendation_Score)"
      ],
      "metadata": {
        "colab": {
          "base_uri": "https://localhost:8080/"
        },
        "id": "2gFwpSJeMYVg",
        "outputId": "8faa9be8-28f5-4ee8-fb9b-3a574f30af5f"
      },
      "execution_count": 37,
      "outputs": [
        {
          "output_type": "stream",
          "name": "stdout",
          "text": [
            "[(0, 0.03807032572268844), (1, 0.00844857868046558), (2, 1.0), (3, 0.007902788941810897), (4, 0.0), (5, 0.0), (6, 0.0), (7, 0.010413459181243577), (8, 0.0), (9, 0.004343046097131074), (10, 0.018053702621056687), (11, 0.004793121024553405), (12, 0.005076187566359603), (13, 0.0), (14, 0.08557563690511474), (15, 0.0), (16, 0.0), (17, 0.0), (18, 0.00430758370804661), (19, 0.0), (20, 0.0), (21, 0.0), (22, 0.03017256658445099), (23, 0.0), (24, 0.0), (25, 0.01376410462081809), (26, 0.027419348962276654), (27, 0.019044293720978402), (28, 0.004691611272717555), (29, 0.015909614349075424), (30, 0.015972301685172212), (31, 0.0), (32, 0.0), (33, 0.014642012326519328), (34, 0.0), (35, 0.01284599680683387), (36, 0.0), (37, 0.008360209891661752), (38, 0.0), (39, 0.004496313556220065), (40, 0.0), (41, 0.0), (42, 0.0), (43, 0.008348759004619663), (44, 0.01597770821960809), (45, 0.004335058152356135), (46, 0.0), (47, 0.022293294225954267), (48, 0.0), (49, 0.02612234423804168), (50, 0.011887933853798794), (51, 0.0), (52, 0.015293965352635407), (53, 0.029475447357403373), (54, 0.0), (55, 0.0), (56, 0.004687032022370417), (57, 0.01776069890849615), (58, 0.02140915913328926), (59, 0.0), (60, 0.004002438081949026), (61, 0.011160366010606307), (62, 0.0), (63, 0.0), (64, 0.004039969507618457), (65, 0.0), (66, 0.0), (67, 0.012515483596732805), (68, 0.0), (69, 0.013789777457851605), (70, 0.03542239723172083), (71, 0.0), (72, 0.028184552650138972), (73, 0.017558361701707124), (74, 0.009784830895865527), (75, 0.020534038209426904), (76, 0.008015050269649568), (77, 0.0), (78, 0.003911466095667967), (79, 0.044146514796313124), (80, 0.010887333552300968), (81, 0.0), (82, 0.016907170526508686), (83, 0.0), (84, 0.0), (85, 0.011394768290217705), (86, 0.02217703203551901), (87, 0.009530599363192057), (88, 0.011619347261452964), (89, 0.0), (90, 0.0), (91, 0.029455543462414562), (92, 0.008748778736113166), (93, 0.0), (94, 0.01125221514529225), (95, 0.0), (96, 0.033471818807117096), (97, 0.004027679838063719), (98, 0.0), (99, 0.0), (100, 0.0), (101, 0.004881700950412111), (102, 0.015152384165459155), (103, 0.0), (104, 0.0), (105, 0.004567270073855006), (106, 0.09172975814859874), (107, 0.0), (108, 0.03322500584940298), (109, 0.0), (110, 0.01233562320166344), (111, 0.0), (112, 0.0045065568288145666), (113, 0.007729573068978223), (114, 0.011588359407096602), (115, 0.0), (116, 0.0), (117, 0.0), (118, 0.0), (119, 0.004444755554968105), (120, 0.0), (121, 0.0573021099849088), (122, 0.01695417159600103), (123, 0.004890293732693799), (124, 0.00844304259157156), (125, 0.01423607637464647), (126, 0.0), (127, 0.0), (128, 0.0), (129, 0.0), (130, 0.023006226502961177), (131, 0.0), (132, 0.008898586174865646), (133, 0.0), (134, 0.0), (135, 0.004566901502520251), (136, 0.022350088500742857), (137, 0.058316388914776425), (138, 0.004434990487943623), (139, 0.0), (140, 0.03050063095568907), (141, 0.0), (142, 0.010253004364249793), (143, 0.010453809632926036), (144, 0.030333597894960117), (145, 0.0), (146, 0.03390278428278766), (147, 0.0), (148, 0.00415650016696514), (149, 0.010428118880852388), (150, 0.013850400187344653), (151, 0.0), (152, 0.013690803362075888), (153, 0.0), (154, 0.010640078296096816), (155, 0.03354741550035384), (156, 0.007642634125613893), (157, 0.0), (158, 0.0), (159, 0.0037274731971801466), (160, 0.049217847228395735), (161, 0.010616747936115906), (162, 0.009929232200454373), (163, 0.0), (164, 0.0), (165, 0.04708178573456448), (166, 0.03177883598591808), (167, 0.008838580764815755), (168, 0.0036975036005101264), (169, 0.016519089758006294), (170, 0.026472319280633178), (171, 0.004508615049071547), (172, 0.0), (173, 0.03227530917013583), (174, 0.0), (175, 0.009928230488377028), (176, 0.01234685737273047), (177, 0.015285669455104749), (178, 0.0818799853784977), (179, 0.027022689085760568), (180, 0.0), (181, 0.0), (182, 0.06701014753058368), (183, 0.0), (184, 0.014937769745413141), (185, 0.055069249713277334), (186, 0.003939329899029586), (187, 0.021862021468409504), (188, 0.011344023157226685), (189, 0.004732170524446729), (190, 0.0), (191, 0.012601706432720034), (192, 0.021772460748886866), (193, 0.01201047867798116), (194, 0.008239641466546398), (195, 0.003953448057880978), (196, 0.027294402632023623), (197, 0.0), (198, 0.03162589873422597), (199, 0.0), (200, 0.0), (201, 0.01688288634586089), (202, 0.02025188512469101), (203, 0.01782295303548998), (204, 0.0), (205, 0.0), (206, 0.0), (207, 0.0), (208, 0.0), (209, 0.0), (210, 0.0), (211, 0.0), (212, 0.03698586008220983), (213, 0.0), (214, 0.008570328804871744), (215, 0.004401215356416492), (216, 0.01696731992008991), (217, 0.03423043080223216), (218, 0.008654699094895501), (219, 0.013816241436453838), (220, 0.0047672506378962426), (221, 0.008845866940968743), (222, 0.008139702905089127), (223, 0.013605859415302232), (224, 0.0), (225, 0.016240645950545207), (226, 0.0), (227, 0.0), (228, 0.007038842152883211), (229, 0.023070277834191907), (230, 0.11908027434400197), (231, 0.02176756963148615), (232, 0.012433051727885284), (233, 0.0388886380234768), (234, 0.0), (235, 0.0), (236, 0.0), (237, 0.011319845466280004), (238, 0.0), (239, 0.061429323034968564), (240, 0.013122321729740205), (241, 0.0), (242, 0.0), (243, 0.006553884857247603), (244, 0.0), (245, 0.014003401456649876), (246, 0.0), (247, 0.13165843050488332), (248, 0.0), (249, 0.008083204434507203), (250, 0.005044032005446809), (251, 0.016435269430592894), (252, 0.0), (253, 0.0), (254, 0.012726584401344632), (255, 0.0), (256, 0.02997811783298606), (257, 0.0), (258, 0.0), (259, 0.009282578380994928), (260, 0.004550230825046071), (261, 0.004504430416349311), (262, 0.0), (263, 0.013228053480487315), (264, 0.004671627923784268), (265, 0.019153718589623503), (266, 0.014326446516332934), (267, 0.0), (268, 0.0), (269, 0.030015006236062115), (270, 0.019001715881175434), (271, 0.01660288495076348), (272, 0.004826633892739708), (273, 0.011983901083534053), (274, 0.0), (275, 0.0), (276, 0.011212615341094178), (277, 0.02431018220052811), (278, 0.0), (279, 0.023619233068021706), (280, 0.0), (281, 0.0), (282, 0.0), (283, 0.0), (284, 0.013042902332083437), (285, 0.00848930276170443), (286, 0.07657960647715087), (287, 0.008857862140598865), (288, 0.0038886560585867343), (289, 0.0), (290, 0.0), (291, 0.004249527412949083), (292, 0.01118154733219203), (293, 0.06930408884673474), (294, 0.0036451201499005503), (295, 0.0), (296, 0.0), (297, 0.009679039587584147), (298, 0.014666641325878717), (299, 0.004638987668443861), (300, 0.0), (301, 0.0047774062642129194), (302, 0.0), (303, 0.0), (304, 0.015161149352871323), (305, 0.0), (306, 0.004247261998796198), (307, 0.0), (308, 0.0), (309, 0.011378526001213932), (310, 0.008886424204543551), (311, 0.00873999790083535), (312, 0.01194815606766109), (313, 0.0), (314, 0.0), (315, 0.011475602516409663), (316, 0.0), (317, 0.018609912026769024), (318, 0.0), (319, 0.011499460757375783), (320, 0.0), (321, 0.0), (322, 0.0), (323, 0.0), (324, 0.025661419143435053), (325, 0.0), (326, 0.0), (327, 0.02345164583162203), (328, 0.009202308775110265), (329, 0.0), (330, 0.014975098382891919), (331, 0.0), (332, 0.0), (333, 0.0), (334, 0.01011806994785675), (335, 0.01278061828296016), (336, 0.015662196829093845), (337, 0.03401367355449056), (338, 0.01292186913719158), (339, 0.009185235193917016), (340, 0.0), (341, 0.009931542693371192), (342, 0.014937655713602498), (343, 0.0), (344, 0.00482159011694447), (345, 0.013158306410227328), (346, 0.027405070126909147), (347, 0.016750164394501714), (348, 0.004519982556785808), (349, 0.011821882536557709), (350, 0.026675183610666325), (351, 0.016662658855808594), (352, 0.01279336232864971), (353, 0.06173490198462899), (354, 0.00423447577961394), (355, 0.02862236444423598), (356, 0.024451597000124448), (357, 0.008226803031283703), (358, 0.016382340724772612), (359, 0.011369588632330839), (360, 0.024365742199430374), (361, 0.013925868770767303), (362, 0.02436534699751268), (363, 0.027066313938112714), (364, 0.0), (365, 0.014876856266128361), (366, 0.0), (367, 0.0), (368, 0.005295995338178484), (369, 0.012578218813351935), (370, 0.02415721771103212), (371, 0.0), (372, 0.0043361541469943785), (373, 0.020483365371850817), (374, 0.0), (375, 0.0), (376, 0.0), (377, 0.009441005453128436), (378, 0.016469661275479542), (379, 0.021845178643197412), (380, 0.005148768519219593), (381, 0.003741257234934739), (382, 0.0), (383, 0.0), (384, 0.017564279707854104), (385, 0.07719299775162765), (386, 0.0), (387, 0.0), (388, 0.004382815244063861), (389, 0.0), (390, 0.0), (391, 0.015974802714663904), (392, 0.031081413455469324), (393, 0.0), (394, 0.0), (395, 0.012173375996467294), (396, 0.0), (397, 0.0), (398, 0.0), (399, 0.0), (400, 0.01197597182905081), (401, 0.0), (402, 0.0), (403, 0.01613545561517408), (404, 0.009300774311474759), (405, 0.0), (406, 0.028667477317149595), (407, 0.011080721354062318), (408, 0.004357789588243923), (409, 0.01701531934102576), (410, 0.00416756745803916), (411, 0.004297898609772525), (412, 0.007500692619071721), (413, 0.0), (414, 0.0), (415, 0.017731126770373414), (416, 0.0), (417, 0.0), (418, 0.004871508954175926), (419, 0.0), (420, 0.0), (421, 0.04682742449805602), (422, 0.0), (423, 0.0), (424, 0.005190492072113358), (425, 0.005197648270010326), (426, 0.0), (427, 0.06090489667620368), (428, 0.030753472580431332), (429, 0.034413962743681324), (430, 0.00971294669735814), (431, 0.0), (432, 0.0), (433, 0.00991967131745683), (434, 0.022104199334178294), (435, 0.01309315721300256), (436, 0.0), (437, 0.0), (438, 0.0), (439, 0.004555214463355321), (440, 0.007605243603266356), (441, 0.01760946928883544), (442, 0.0), (443, 0.0), (444, 0.0), (445, 0.0), (446, 0.030457163378801232), (447, 0.0), (448, 0.016476538694969033), (449, 0.011103765547667538), (450, 0.0), (451, 0.01945119817451553), (452, 0.00707831006040098), (453, 0.01315533579891843), (454, 0.01489479322279998), (455, 0.023215035773307028), (456, 0.0), (457, 0.01046839611964382), (458, 0.0), (459, 0.06197224952912627), (460, 0.009073846250884877), (461, 0.02842218208410865), (462, 0.0), (463, 0.05592310338409939), (464, 0.011929835870459413), (465, 0.019305295514323143), (466, 0.011384271456343475), (467, 0.011955249967264124), (468, 0.0), (469, 0.023947499688056935), (470, 0.0), (471, 0.0), (472, 0.04755036122618317), (473, 0.011347170815935927), (474, 0.034362988282619966), (475, 0.0), (476, 0.0), (477, 0.003764724739649169), (478, 0.0), (479, 0.01735315096704786), (480, 0.0), (481, 0.0), (482, 0.0), (483, 0.004699897509885209), (484, 0.0), (485, 0.0), (486, 0.004363112371728573), (487, 0.0), (488, 0.030094297673155388), (489, 0.0), (490, 0.0), (491, 0.005464043209394251), (492, 0.004343321663769041), (493, 0.0), (494, 0.009296385984985608), (495, 0.018872289054255684), (496, 0.020276362289274055), (497, 0.004062893271737593), (498, 0.025657782189572778), (499, 0.0), (500, 0.031927990104935425), (501, 0.015590819076508512), (502, 0.0), (503, 0.0), (504, 0.004690088702938539), (505, 0.0), (506, 0.0), (507, 0.02821857020718961), (508, 0.02834011705908195), (509, 0.0), (510, 0.003671640670200313), (511, 0.0042396737537959625), (512, 0.0), (513, 0.0), (514, 0.0), (515, 0.0), (516, 0.0), (517, 0.019623922636929428), (518, 0.0), (519, 0.010542008845742577), (520, 0.013866701817362319), (521, 0.004611638483525297), (522, 0.0), (523, 0.0046968117035031546), (524, 0.027764343585446275), (525, 0.004747255521421929), (526, 0.0), (527, 0.0), (528, 0.0), (529, 0.004638596814995718), (530, 0.027215637607335762), (531, 0.0), (532, 0.02059127374767621), (533, 0.0), (534, 0.0), (535, 0.0), (536, 0.0), (537, 0.01301894163151201), (538, 0.026547573989476735), (539, 0.012067614357962733), (540, 0.06732851266962983), (541, 0.015535396653045814), (542, 0.006846909825937287), (543, 0.0), (544, 0.0), (545, 0.012199632620617915), (546, 0.0471717584121384), (547, 0.010021738310718679), (548, 0.028930321568438354), (549, 0.015270584907557755), (550, 0.0), (551, 0.0), (552, 0.0), (553, 0.006631758382587697), (554, 0.0), (555, 0.023150991327499162), (556, 0.0), (557, 0.017189629022629604), (558, 0.0), (559, 0.015099536017063589), (560, 0.021852208645542916), (561, 0.0299669864659919), (562, 0.04787026211653724), (563, 0.0), (564, 0.0), (565, 0.0), (566, 0.052676238478487264), (567, 0.03441336704531374), (568, 0.016191262264571463), (569, 0.0042277334712315035), (570, 0.0), (571, 0.0), (572, 0.0), (573, 0.0), (574, 0.0), (575, 0.004236312784653792), (576, 0.0), (577, 0.01497225575993886), (578, 0.029564127760796213), (579, 0.0), (580, 0.0), (581, 0.0), (582, 0.013940497439762995), (583, 0.004177312751161386), (584, 0.0), (585, 0.01647032920302299), (586, 0.0), (587, 0.0), (588, 0.0), (589, 0.0), (590, 0.0), (591, 0.0), (592, 0.0), (593, 0.0), (594, 0.035404962545353046), (595, 0.0), (596, 0.03741980032909414), (597, 0.022878580208583715), (598, 0.0), (599, 0.0), (600, 0.011828131377888353), (601, 0.0), (602, 0.0), (603, 0.0), (604, 0.010653355891227623), (605, 0.008746435520672259), (606, 0.0), (607, 0.009022582536171731), (608, 0.0), (609, 0.022488745288114134), (610, 0.016758909072368943), (611, 0.010022370739710794), (612, 0.013178890316315582), (613, 0.004534578881924185), (614, 0.0053056770847424075), (615, 0.0), (616, 0.0), (617, 0.0), (618, 0.01591221907118395), (619, 0.07215816678972853), (620, 0.029950781370340893), (621, 0.02360774428477231), (622, 0.012174038377558965), (623, 0.0), (624, 0.07430599286362866), (625, 0.0), (626, 0.0), (627, 0.0), (628, 0.011436109959951292), (629, 0.008276742003270566), (630, 0.01283620168033677), (631, 0.0), (632, 0.0), (633, 0.0), (634, 0.0), (635, 0.010060950515236937), (636, 0.0), (637, 0.0), (638, 0.0), (639, 0.014229646636219184), (640, 0.031688655030566976), (641, 0.008832964379115793), (642, 0.01407541512311024), (643, 0.03438009091570024), (644, 0.0), (645, 0.0), (646, 0.025117966736179317), (647, 0.008494271395502552), (648, 0.021663486762760312), (649, 0.0), (650, 0.0), (651, 0.046725778038905846), (652, 0.0), (653, 0.008093504563489473), (654, 0.0), (655, 0.0), (656, 0.016736518795045868), (657, 0.022770315463823042), (658, 0.0), (659, 0.0), (660, 0.0), (661, 0.0), (662, 0.024149493053417063), (663, 0.0), (664, 0.01257444181602414), (665, 0.04423062463203425), (666, 0.00508236942334148), (667, 0.0), (668, 0.0036739025709673283), (669, 0.0), (670, 0.014119706792268202), (671, 0.0), (672, 0.0), (673, 0.0), (674, 0.013472985879967498), (675, 0.0), (676, 0.011702676008623132), (677, 0.004982570084242636), (678, 0.0), (679, 0.0), (680, 0.0), (681, 0.0), (682, 0.0), (683, 0.017936605756592974), (684, 0.01077028755764666), (685, 0.004706483467974925), (686, 0.0), (687, 0.0050890582770707), (688, 0.0), (689, 0.011329249104310466), (690, 0.020756985033801096), (691, 0.05074126959023084), (692, 0.007812227343691302), (693, 0.011550933105423837), (694, 0.0), (695, 0.017793763441932845), (696, 0.017061658972653354), (697, 0.011892147552561577), (698, 0.07122182295392934), (699, 0.02246723619147142), (700, 0.0049030099611997195), (701, 0.005154303004845728), (702, 0.0), (703, 0.028124032495959704), (704, 0.004875764956700253), (705, 0.06530891137247682), (706, 0.021409472300964294), (707, 0.0), (708, 0.03505481252742362), (709, 0.07502152737526725), (710, 0.0), (711, 0.0), (712, 0.01156291880776507), (713, 0.0), (714, 0.0), (715, 0.0), (716, 0.0), (717, 0.026953808342167894), (718, 0.0), (719, 0.01153181113672816), (720, 0.0), (721, 0.0), (722, 0.004146277490606805), (723, 0.01173720663767485), (724, 0.011517367277651415), (725, 0.003918472678955893), (726, 0.007779557422826962), (727, 0.009001060593029745), (728, 0.0), (729, 0.0), (730, 0.040117620994530284), (731, 0.024921413533805593), (732, 0.0), (733, 0.008019638076398189), (734, 0.0), (735, 0.0), (736, 0.004617117047719717), (737, 0.017807508273909332), (738, 0.003761932090838374), (739, 0.0), (740, 0.024668233402021438), (741, 0.0), (742, 0.026631883754946503), (743, 0.029901408596051313), (744, 0.014916133210479406), (745, 0.008573025837149082), (746, 0.0), (747, 0.00497935959873323), (748, 0.0), (749, 0.009185580098509609), (750, 0.016773506503092853), (751, 0.0), (752, 0.07742828584785279), (753, 0.032102005559447214), (754, 0.0), (755, 0.011699369399278096), (756, 0.00406681112798491), (757, 0.011107219531632384), (758, 0.0), (759, 0.0), (760, 0.0), (761, 0.0), (762, 0.016156763135857656), (763, 0.017356314075498227), (764, 0.0), (765, 0.0), (766, 0.0), (767, 0.0), (768, 0.04918318805823847), (769, 0.027811592116675818), (770, 0.0), (771, 0.0), (772, 0.0), (773, 0.004419814526995356), (774, 0.0), (775, 0.014601942524279385), (776, 0.0), (777, 0.0), (778, 0.02949703195220354), (779, 0.004054935111763373), (780, 0.02028991885437738), (781, 0.004816643684441382), (782, 0.0), (783, 0.0), (784, 0.0), (785, 0.021186241270065027), (786, 0.015560100658211083), (787, 0.03244731744570177), (788, 0.004248555944668247), (789, 0.0074404855163306945), (790, 0.013427981959674531), (791, 0.0), (792, 0.014770868578383962), (793, 0.012102823507711033), (794, 0.072329351483725), (795, 0.0), (796, 0.0), (797, 0.013944807080635514), (798, 0.008782799843090012), (799, 0.0), (800, 0.0), (801, 0.0), (802, 0.014490376222864998), (803, 0.012273405837258137), (804, 0.023197462985443923), (805, 0.017142378909946073), (806, 0.031522315181885883), (807, 0.013141426154200237), (808, 0.0), (809, 0.0), (810, 0.021344015455631464), (811, 0.012256307575878528), (812, 0.01122384757685191), (813, 0.010599779881447526), (814, 0.0), (815, 0.0368479736143885), (816, 0.0), (817, 0.0), (818, 0.0), (819, 0.01367334019414327), (820, 0.018871519138491694), (821, 0.027159625705767507), (822, 0.009231803158557816), (823, 0.0), (824, 0.00660146899949627), (825, 0.0), (826, 0.0), (827, 0.015264929476548946), (828, 0.0), (829, 0.024278883323039353), (830, 0.0), (831, 0.02082729756651342), (832, 0.0), (833, 0.011269805216715856), (834, 0.011615549831583909), (835, 0.011179953899110823), (836, 0.01492009576600635), (837, 0.0), (838, 0.011375262480979633), (839, 0.010264822741757976), (840, 0.013461482286798273), (841, 0.0), (842, 0.0), (843, 0.009624069292246145), (844, 0.0), (845, 0.0), (846, 0.02935078020173576), (847, 0.01811553659944385), (848, 0.0), (849, 0.012030131140002613), (850, 0.030518967734576328), (851, 0.0), (852, 0.04813194458184426), (853, 0.057357282734923125), (854, 0.004462396145575746), (855, 0.021342695861282932), (856, 0.021683196204073222), (857, 0.0), (858, 0.008548245353027627), (859, 0.0), (860, 0.0), (861, 0.014597649663638163), (862, 0.045915946470424795), (863, 0.0), (864, 0.0), (865, 0.0), (866, 0.004373724985370754), (867, 0.0), (868, 0.011116029320075818), (869, 0.0), (870, 0.004477238864884073), (871, 0.0), (872, 0.012230484895518713), (873, 0.0), (874, 0.019138978071848983), (875, 0.0), (876, 0.0), (877, 0.0), (878, 0.015715191212802213), (879, 0.042466512554601515), (880, 0.041462297888856), (881, 0.057901342135776135), (882, 0.01223998326834001), (883, 0.004469782377099067), (884, 0.025597239042920033), (885, 0.004168638372393236), (886, 0.0), (887, 0.033425018232883165), (888, 0.0), (889, 0.0), (890, 0.01723635464153219), (891, 0.022778739856656433), (892, 0.016662235675747393), (893, 0.03315163276338265), (894, 0.02058005180470754), (895, 0.017183604615805315), (896, 0.0), (897, 0.004666866052198216), (898, 0.004127927895286582), (899, 0.02258781503282918), (900, 0.018593899927332413), (901, 0.0), (902, 0.0), (903, 0.0), (904, 0.0), (905, 0.013870472438145732), (906, 0.02405865513352116), (907, 0.0043587246840218925), (908, 0.0047523186168867216), (909, 0.01336880762654652), (910, 0.0), (911, 0.05525845696955367), (912, 0.03519094683575736), (913, 0.004831802732989071), (914, 0.0), (915, 0.01551665455898888), (916, 0.0), (917, 0.0), (918, 0.004758275475292473), (919, 0.00503825795147369), (920, 0.012311257643546706), (921, 0.0), (922, 0.0), (923, 0.0), (924, 0.013941980435637082), (925, 0.0), (926, 0.02592408378205411), (927, 0.0), (928, 0.014353961422635916), (929, 0.0035413857653458984), (930, 0.004831308266072637), (931, 0.014294272157240764), (932, 0.02803400451181303), (933, 0.0), (934, 0.008518170862346356), (935, 0.02448857825798422), (936, 0.023746411396585107), (937, 0.0), (938, 0.004563079612170134), (939, 0.011190763807261686), (940, 0.0), (941, 0.0), (942, 0.0), (943, 0.0), (944, 0.010807220102047108), (945, 0.013722842319869262), (946, 0.04579031114790213), (947, 0.0), (948, 0.03570995469040045), (949, 0.0), (950, 0.0), (951, 0.0), (952, 0.0), (953, 0.025981921504118523), (954, 0.025800883104805123), (955, 0.0), (956, 0.0), (957, 0.012660993412394692), (958, 0.01775723052257157), (959, 0.0), (960, 0.0), (961, 0.0), (962, 0.008924678494968575), (963, 0.004308918523753451), (964, 0.0), (965, 0.0), (966, 0.016400055444898212), (967, 0.0), (968, 0.0), (969, 0.0), (970, 0.0), (971, 0.01646000627975177), (972, 0.0), (973, 0.016470243460174793), (974, 0.004343202922673693), (975, 0.011473223843070302), (976, 0.0), (977, 0.0), (978, 0.0041414012382294035), (979, 0.0), (980, 0.0), (981, 0.016779132149417626), (982, 0.004936003583236574), (983, 0.0), (984, 0.0), (985, 0.018542725949036585), (986, 0.0), (987, 0.0), (988, 0.0350153446308377), (989, 0.05914522588996726), (990, 0.0), (991, 0.017901561675220373), (992, 0.0), (993, 0.004606416324675053), (994, 0.0), (995, 0.025023426456369298), (996, 0.0), (997, 0.0), (998, 0.013147568098041436), (999, 0.0), (1000, 0.012812684840965136), (1001, 0.008780885175663923), (1002, 0.03624610945234066), (1003, 0.0), (1004, 0.010711045319669809), (1005, 0.007313741379559809), (1006, 0.016822262850850936), (1007, 0.0), (1008, 0.020585616985589493), (1009, 0.052254822962427255), (1010, 0.04419640966897348), (1011, 0.019667850712416994), (1012, 0.0), (1013, 0.0), (1014, 0.0), (1015, 0.0), (1016, 0.011914117750037449), (1017, 0.0), (1018, 0.018697792278349307), (1019, 0.0), (1020, 0.0), (1021, 0.034016675356048076), (1022, 0.004559626936980745), (1023, 0.0), (1024, 0.0), (1025, 0.027261565852477042), (1026, 0.020649945953367485), (1027, 0.0), (1028, 0.012075954675032322), (1029, 0.017372655796680226), (1030, 0.0), (1031, 0.0), (1032, 0.0), (1033, 0.008616559591758218), (1034, 0.0), (1035, 0.004585479913870663), (1036, 0.0), (1037, 0.0), (1038, 0.028812314122742884), (1039, 0.008128673911394678), (1040, 0.010106604587649925), (1041, 0.03805030927414282), (1042, 0.00800517995282145), (1043, 0.0), (1044, 0.0), (1045, 0.012043308397008986), (1046, 0.028847819318509924), (1047, 0.0), (1048, 0.004714466790722258), (1049, 0.01360844699510105), (1050, 0.039913830838865655), (1051, 0.0), (1052, 0.004275361655992421), (1053, 0.0), (1054, 0.004249465533557248), (1055, 0.0), (1056, 0.0), (1057, 0.02544360269953088), (1058, 0.0), (1059, 0.004521145309932743), (1060, 0.01622247210618905), (1061, 0.0), (1062, 0.009967561133237022), (1063, 0.0), (1064, 0.0), (1065, 0.0), (1066, 0.004338543316583013), (1067, 0.010685228314471327), (1068, 0.016067978623130474), (1069, 0.0), (1070, 0.0), (1071, 0.014425422581131326), (1072, 0.05463456447450868), (1073, 0.010953726136533505), (1074, 0.0), (1075, 0.0), (1076, 0.010764662329850225), (1077, 0.01634455032251218), (1078, 0.0), (1079, 0.014883969731932786), (1080, 0.033997791678335144), (1081, 0.01120411488693222), (1082, 0.04764431472990322), (1083, 0.0), (1084, 0.011062393140842971), (1085, 0.013888654507019198), (1086, 0.0), (1087, 0.009058790710418749), (1088, 0.0), (1089, 0.012730058715367002), (1090, 0.022186702112509882), (1091, 0.0), (1092, 0.05636325070584051), (1093, 0.0), (1094, 0.053214656815687586), (1095, 0.028349870422029334), (1096, 0.0), (1097, 0.0), (1098, 0.0), (1099, 0.0), (1100, 0.00937173754061547), (1101, 0.0), (1102, 0.0), (1103, 0.0), (1104, 0.017314893201280122), (1105, 0.02133500525163983), (1106, 0.012918753254980311), (1107, 0.029245096944827402), (1108, 0.0), (1109, 0.01867366187133119), (1110, 0.0), (1111, 0.004604202949047932), (1112, 0.011387851391176165), (1113, 0.004452771990966976), (1114, 0.025099150703854815), (1115, 0.014528849255245908), (1116, 0.012684179540987751), (1117, 0.011390884013555942), (1118, 0.01808347602084296), (1119, 0.0), (1120, 0.004012754586866087), (1121, 0.0), (1122, 0.016607900867716217), (1123, 0.0), (1124, 0.0), (1125, 0.0), (1126, 0.0), (1127, 0.0), (1128, 0.0), (1129, 0.016121237413105803), (1130, 0.013421779246358269), (1131, 0.0), (1132, 0.015501397623366369), (1133, 0.009192216516303763), (1134, 0.010481956295672373), (1135, 0.01127937553056199), (1136, 0.004109208614180238), (1137, 0.0), (1138, 0.0), (1139, 0.0), (1140, 0.004777366860265643), (1141, 0.0), (1142, 0.0), (1143, 0.0), (1144, 0.0), (1145, 0.0), (1146, 0.0046725543564608745), (1147, 0.0), (1148, 0.0), (1149, 0.0), (1150, 0.0), (1151, 0.0), (1152, 0.03152790392139603), (1153, 0.012587011142478798), (1154, 0.0), (1155, 0.014311283101358693), (1156, 0.0), (1157, 0.01502061754662902), (1158, 0.0), (1159, 0.0), (1160, 0.0), (1161, 0.013041947541167364), (1162, 0.0), (1163, 0.024665975732335924), (1164, 0.0), (1165, 0.01367886973387475), (1166, 0.0258614691602245), (1167, 0.0), (1168, 0.0052081351383293974), (1169, 0.0), (1170, 0.0), (1171, 0.016516824393424785), (1172, 0.01211171109901186), (1173, 0.00425776086553226), (1174, 0.0), (1175, 0.012195175660267376), (1176, 0.06899382430705998), (1177, 0.0), (1178, 0.03466146664369883), (1179, 0.004689831415104384), (1180, 0.0280547596441224), (1181, 0.0), (1182, 0.033517420557972855), (1183, 0.0), (1184, 0.0), (1185, 0.0), (1186, 0.0), (1187, 0.0), (1188, 0.0), (1189, 0.0), (1190, 0.0), (1191, 0.009210427928808052), (1192, 0.009342898091250901), (1193, 0.0), (1194, 0.004020027770365424), (1195, 0.028168089856890805), (1196, 0.0), (1197, 0.011168216464565034), (1198, 0.013532346169877942), (1199, 0.0), (1200, 0.0), (1201, 0.0), (1202, 0.04003735818148914), (1203, 0.0), (1204, 0.0), (1205, 0.0), (1206, 0.0), (1207, 0.01548917818368431), (1208, 0.0056272335199905625), (1209, 0.010860210780539711), (1210, 0.05291382349250227), (1211, 0.02330512375252832), (1212, 0.04452735713951777), (1213, 0.008344757622564248), (1214, 0.015803858075138025), (1215, 0.014177580695959863), (1216, 0.031532444856049176), (1217, 0.0), (1218, 0.0), (1219, 0.010682798720257417), (1220, 0.0), (1221, 0.0038869211482324387), (1222, 0.010136860940852312), (1223, 0.00470657601774473), (1224, 0.0), (1225, 0.0), (1226, 0.03700650157940813), (1227, 0.0121225446962913), (1228, 0.012474489240139391), (1229, 0.0), (1230, 0.0), (1231, 0.011218491175439145), (1232, 0.012416945879670216), (1233, 0.0), (1234, 0.0), (1235, 0.011390619757303298), (1236, 0.0), (1237, 0.023405629050885623), (1238, 0.0), (1239, 0.004621487407325666), (1240, 0.0), (1241, 0.03621064417927049), (1242, 0.008554798177022399), (1243, 0.0), (1244, 0.0), (1245, 0.00911354208096919), (1246, 0.014570374453827162), (1247, 0.01152092583306159), (1248, 0.0), (1249, 0.008372629982504898), (1250, 0.016556509176181518), (1251, 0.091941120823412), (1252, 0.0), (1253, 0.0208489890414195), (1254, 0.03478663304324652), (1255, 0.011504853785376282), (1256, 0.0), (1257, 0.06555126361582393), (1258, 0.0), (1259, 0.025905012589184546), (1260, 0.0), (1261, 0.0), (1262, 0.004720019332583411), (1263, 0.011455104820818306), (1264, 0.0), (1265, 0.0), (1266, 0.0), (1267, 0.01309078445368832), (1268, 0.0), (1269, 0.011842692357592137), (1270, 0.0042338788541778465), (1271, 0.0), (1272, 0.0), (1273, 0.0), (1274, 0.0), (1275, 0.0), (1276, 0.10147676855245019), (1277, 0.00742909552971317), (1278, 0.019653635017257233), (1279, 0.03090608768861193), (1280, 0.0), (1281, 0.0), (1282, 0.025155849161443568), (1283, 0.0), (1284, 0.030553673980021602), (1285, 0.01326052532525006), (1286, 0.0), (1287, 0.0), (1288, 0.01091525709274991), (1289, 0.0), (1290, 0.0), (1291, 0.021131548063560816), (1292, 0.01087575302738559), (1293, 0.0), (1294, 0.0), (1295, 0.018039370710325842), (1296, 0.030093335341825844), (1297, 0.0), (1298, 0.0), (1299, 0.0), (1300, 0.0), (1301, 0.014401345457636206), (1302, 0.0), (1303, 0.0), (1304, 0.009084363871772347), (1305, 0.03791433729094456), (1306, 0.01923718012949197), (1307, 0.021476079512981187), (1308, 0.004287491493894159), (1309, 0.0), (1310, 0.0), (1311, 0.0), (1312, 0.004110324988177405), (1313, 0.0), (1314, 0.004333588143292374), (1315, 0.0), (1316, 0.0), (1317, 0.0), (1318, 0.0), (1319, 0.060311466036435196), (1320, 0.0), (1321, 0.02327130896976765), (1322, 0.0051141137966297335), (1323, 0.012357842801954181), (1324, 0.0), (1325, 0.0), (1326, 0.0), (1327, 0.05227197082757827), (1328, 0.0), (1329, 0.00899918483642772), (1330, 0.0), (1331, 0.0), (1332, 0.0), (1333, 0.02707859368348546), (1334, 0.00936086296203166), (1335, 0.0), (1336, 0.023590752220399608), (1337, 0.0), (1338, 0.004586000552408034), (1339, 0.04169573348136264), (1340, 0.0), (1341, 0.017439480865304804), (1342, 0.0), (1343, 0.005412877122189496), (1344, 0.021022305751385875), (1345, 0.012401034216429636), (1346, 0.004825273348287727), (1347, 0.0), (1348, 0.0), (1349, 0.005085155432685835), (1350, 0.0), (1351, 0.040125833276265274), (1352, 0.014395239476504687), (1353, 0.01813838677972491), (1354, 0.008411691114433397), (1355, 0.0), (1356, 0.03388290002004113), (1357, 0.0), (1358, 0.0), (1359, 0.0), (1360, 0.004395326787000157), (1361, 0.0), (1362, 0.0), (1363, 0.0), (1364, 0.042613099029159544), (1365, 0.04676672045467191), (1366, 0.008433440017056487), (1367, 0.0), (1368, 0.0132348413182795), (1369, 0.011650560052388365), (1370, 0.0), (1371, 0.0), (1372, 0.0), (1373, 0.016028868139202325), (1374, 0.009200716869429462), (1375, 0.0), (1376, 0.0), (1377, 0.003947935580783027), (1378, 0.0), (1379, 0.013950209687785847), (1380, 0.0), (1381, 0.005316918052833884), (1382, 0.0), (1383, 0.022514684975307467), (1384, 0.004171155933342635), (1385, 0.011215282246298275), (1386, 0.0), (1387, 0.01075355489246351), (1388, 0.0), (1389, 0.0), (1390, 0.022937960715260566), (1391, 0.0), (1392, 0.008528071818959525), (1393, 0.009967782407092892), (1394, 0.003998161636887048), (1395, 0.0037815295415234693), (1396, 0.0046964094842966405), (1397, 0.012117130116613828), (1398, 0.0), (1399, 0.0), (1400, 0.0), (1401, 0.00973863803761695), (1402, 0.004744934253142659), (1403, 0.014509578315659766), (1404, 0.013299878323683472), (1405, 0.03808500314739403), (1406, 0.011472407035014402), (1407, 0.01670396367966385), (1408, 0.0), (1409, 0.04419488231675651), (1410, 0.0), (1411, 0.014189404744202452), (1412, 0.028513429361079763), (1413, 0.004729323803526498), (1414, 0.010683826046313762), (1415, 0.0), (1416, 0.0), (1417, 0.0), (1418, 0.0036128374037111264), (1419, 0.009474301914171014), (1420, 0.009081050894995777), (1421, 0.011320777862960683), (1422, 0.0), (1423, 0.010454294324331212), (1424, 0.0), (1425, 0.0), (1426, 0.0), (1427, 0.030073507088812068), (1428, 0.0), (1429, 0.0), (1430, 0.026836692248536846), (1431, 0.013646386251468488), (1432, 0.0), (1433, 0.043917005698386316), (1434, 0.0), (1435, 0.0), (1436, 0.0046846402191717705), (1437, 0.0), (1438, 0.0), (1439, 0.0), (1440, 0.0), (1441, 0.0), (1442, 0.0045157858371254155), (1443, 0.016786835993411964), (1444, 0.0), (1445, 0.01230977393019956), (1446, 0.004455433042767338), (1447, 0.016571714064036465), (1448, 0.0), (1449, 0.0), (1450, 0.04481408152166528), (1451, 0.013191392634527906), (1452, 0.0), (1453, 0.018064277985707367), (1454, 0.03790112934961823), (1455, 0.0), (1456, 0.025692767254159445), (1457, 0.0), (1458, 0.018767068398090992), (1459, 0.009249763269765194), (1460, 0.015116549311372069), (1461, 0.004667503686817278), (1462, 0.0), (1463, 0.0), (1464, 0.01782246887404481), (1465, 0.014689166480695445), (1466, 0.0), (1467, 0.018262442872910508), (1468, 0.03911010631498075), (1469, 0.0), (1470, 0.0), (1471, 0.007012682487318795), (1472, 0.021091788338057037), (1473, 0.08395798652061733), (1474, 0.0146225533961817), (1475, 0.012199925729736402), (1476, 0.0), (1477, 0.06806277725043296), (1478, 0.03459107856604869), (1479, 0.012677358845353029), (1480, 0.017133053383722542), (1481, 0.016233709500289576), (1482, 0.014985012600950134), (1483, 0.0), (1484, 0.0), (1485, 0.026845225497089717), (1486, 0.0), (1487, 0.019362911063577452), (1488, 0.0), (1489, 0.01840213897506354), (1490, 0.0), (1491, 0.0), (1492, 0.02639863137018384), (1493, 0.015530207624988603), (1494, 0.01884329938656626), (1495, 0.031987006251274104), (1496, 0.041591843728129935), (1497, 0.0), (1498, 0.0), (1499, 0.0), (1500, 0.00901722709160857), (1501, 0.0046200224452028465), (1502, 0.0), (1503, 0.02364439829420762), (1504, 0.0), (1505, 0.062286676835624), (1506, 0.009460958749865793), (1507, 0.010745309749777056), (1508, 0.0), (1509, 0.011437908240934177), (1510, 0.004441055570026158), (1511, 0.01813486107230225), (1512, 0.0), (1513, 0.0), (1514, 0.0), (1515, 0.004558884646971379), (1516, 0.0), (1517, 0.009291360754811814), (1518, 0.0), (1519, 0.0), (1520, 0.004949475347230497), (1521, 0.016512694966613572), (1522, 0.009288902602390793), (1523, 0.06325131298427977), (1524, 0.015729294495706998), (1525, 0.0046718355793976315), (1526, 0.01660229997226814), (1527, 0.0), (1528, 0.0), (1529, 0.03157092627767467), (1530, 0.00389308918595814), (1531, 0.0), (1532, 0.010963343921409366), (1533, 0.0), (1534, 0.0), (1535, 0.0038940974865425263), (1536, 0.0), (1537, 0.004931243957083852), (1538, 0.029859596328114874), (1539, 0.01259540664349367), (1540, 0.0), (1541, 0.0), (1542, 0.0), (1543, 0.010765293069096644), (1544, 0.05250540708900488), (1545, 0.0), (1546, 0.004124315170689466), (1547, 0.0), (1548, 0.005761376486826872), (1549, 0.009572930993750015), (1550, 0.03185670106119863), (1551, 0.004604094976990046), (1552, 0.022445940944873916), (1553, 0.008059860060871919), (1554, 0.0), (1555, 0.004271942402061433), (1556, 0.0), (1557, 0.09922218430901178), (1558, 0.0), (1559, 0.022555057054107833), (1560, 0.0), (1561, 0.020617424902681356), (1562, 0.029006911518845255), (1563, 0.010025394981554676), (1564, 0.014766529871529332), (1565, 0.0), (1566, 0.0), (1567, 0.0), (1568, 0.03704327771364166), (1569, 0.01903209764149727), (1570, 0.028959475836610182), (1571, 0.0), (1572, 0.0), (1573, 0.0), (1574, 0.03814437767261425), (1575, 0.0), (1576, 0.0), (1577, 0.01689891756055141), (1578, 0.025571595726865612), (1579, 0.012802847223211148), (1580, 0.010343479918112746), (1581, 0.0), (1582, 0.017737175176921367), (1583, 0.0), (1584, 0.03601215731087559), (1585, 0.0), (1586, 0.06923800928554483), (1587, 0.004824939709692618), (1588, 0.012451882237253364), (1589, 0.0), (1590, 0.0), (1591, 0.0), (1592, 0.0), (1593, 0.0), (1594, 0.009938308655682631), (1595, 0.0), (1596, 0.0), (1597, 0.0044527505859514385), (1598, 0.0), (1599, 0.009641580755984962), (1600, 0.013934333460405113), (1601, 0.014978849620603309), (1602, 0.013495922684289742), (1603, 0.012241865407937938), (1604, 0.011627758160077885), (1605, 0.0), (1606, 0.012195376536020474), (1607, 0.012732656846002383), (1608, 0.008663565042899182), (1609, 0.029839469721543763), (1610, 0.016352627983406247), (1611, 0.0), (1612, 0.0), (1613, 0.004739827286245958), (1614, 0.017615185285265685), (1615, 0.0), (1616, 0.01861006256977197), (1617, 0.004451587675515422), (1618, 0.0), (1619, 0.004773213387360882), (1620, 0.004549651596887151), (1621, 0.01144731882206587), (1622, 0.0), (1623, 0.0), (1624, 0.0), (1625, 0.010744107957691141), (1626, 0.015088751530440814), (1627, 0.0), (1628, 0.0), (1629, 0.031734034634647273), (1630, 0.00866556760285041), (1631, 0.0), (1632, 0.008897512693474736), (1633, 0.0), (1634, 0.01586302519732078), (1635, 0.0), (1636, 0.0), (1637, 0.0), (1638, 0.0), (1639, 0.0), (1640, 0.020209575236634754), (1641, 0.0), (1642, 0.0043607182837309185), (1643, 0.0), (1644, 0.0), (1645, 0.021280283189576768), (1646, 0.09653774568218997), (1647, 0.027827676605650456), (1648, 0.007092995987061627), (1649, 0.008752200539022998), (1650, 0.008409514101623666), (1651, 0.0), (1652, 0.008397865150811472), (1653, 0.0), (1654, 0.011217926618968914), (1655, 0.014608656691321711), (1656, 0.0), (1657, 0.0), (1658, 0.0), (1659, 0.0), (1660, 0.004780973730430253), (1661, 0.0), (1662, 0.004295931754847084), (1663, 0.011415221884815661), (1664, 0.03533399294609195), (1665, 0.0), (1666, 0.02083436122492943), (1667, 0.011162137520137531), (1668, 0.00881353259613812), (1669, 0.0), (1670, 0.0), (1671, 0.0), (1672, 0.011051683118642432), (1673, 0.0), (1674, 0.0), (1675, 0.012669842841054066), (1676, 0.027614887850077197), (1677, 0.009563651144702126), (1678, 0.014008941002065116), (1679, 0.01494486950862954), (1680, 0.0), (1681, 0.005173468667641834), (1682, 0.028917384976054006), (1683, 0.0), (1684, 0.0), (1685, 0.0), (1686, 0.0), (1687, 0.0), (1688, 0.004742591845998888), (1689, 0.004694688991361451), (1690, 0.010643393320079976), (1691, 0.00387198092440216), (1692, 0.016358164913868566), (1693, 0.0), (1694, 0.03139357252558189), (1695, 0.013302347110383066), (1696, 0.01190511485737813), (1697, 0.0), (1698, 0.03727131979759665), (1699, 0.0), (1700, 0.06358429049311942), (1701, 0.018205426903527992), (1702, 0.005030151561296441), (1703, 0.030573719517835763), (1704, 0.004961387290233527), (1705, 0.0), (1706, 0.01317538390503805), (1707, 0.003914431064356645), (1708, 0.0), (1709, 0.013622121022895017), (1710, 0.0), (1711, 0.016391996553220226), (1712, 0.0), (1713, 0.0), (1714, 0.11617902073919108), (1715, 0.028578438769526388), (1716, 0.0), (1717, 0.0), (1718, 0.014904566024759772), (1719, 0.004156859062814106), (1720, 0.013221919040335539), (1721, 0.0), (1722, 0.0), (1723, 0.00879506825660386), (1724, 0.04021349814285782), (1725, 0.019118439330861308), (1726, 0.01633513713179165), (1727, 0.0), (1728, 0.0), (1729, 0.0), (1730, 0.0), (1731, 0.0), (1732, 0.0), (1733, 0.005067504395241399), (1734, 0.012715046431639938), (1735, 0.0), (1736, 0.0), (1737, 0.0738333100036124), (1738, 0.004517358202105412), (1739, 0.0), (1740, 0.0), (1741, 0.011251513784527748), (1742, 0.004440273424817881), (1743, 0.039959998556288984), (1744, 0.0), (1745, 0.0), (1746, 0.004310243350569018), (1747, 0.0), (1748, 0.0), (1749, 0.0), (1750, 0.0), (1751, 0.004698429310661116), (1752, 0.0), (1753, 0.0), (1754, 0.0), (1755, 0.022202363518747256), (1756, 0.00437197920995103), (1757, 0.00929375442407343), (1758, 0.06781399353119813), (1759, 0.01158495187876788), (1760, 0.033610640977317315), (1761, 0.0), (1762, 0.0335602702658295), (1763, 0.0), (1764, 0.03143140532122289), (1765, 0.0), (1766, 0.0), (1767, 0.0), (1768, 0.016153697986339477), (1769, 0.01357377622023003), (1770, 0.0), (1771, 0.043872768747948654), (1772, 0.004118902384459197), (1773, 0.0), (1774, 0.018285095333895246), (1775, 0.0), (1776, 0.021919637784593132), (1777, 0.00960763419989853), (1778, 0.037600783938320455), (1779, 0.0124819562051442), (1780, 0.0), (1781, 0.0077338137774122006), (1782, 0.004436605021133767), (1783, 0.0), (1784, 0.014843125896193044), (1785, 0.0), (1786, 0.0), (1787, 0.03053406904172326), (1788, 0.012942139071901075), (1789, 0.03475538487891741), (1790, 0.0), (1791, 0.012832713182019829), (1792, 0.0), (1793, 0.004405686445756397), (1794, 0.032724040418381894), (1795, 0.0), (1796, 0.0), (1797, 0.01589376741920867), (1798, 0.005025493829354854), (1799, 0.03636612921827598), (1800, 0.012858024990717663), (1801, 0.0), (1802, 0.007994627957824189), (1803, 0.0), (1804, 0.009234976870654148), (1805, 0.0), (1806, 0.0), (1807, 0.0), (1808, 0.021364043132298928), (1809, 0.008470588804316998), (1810, 0.08031828876065356), (1811, 0.011788718193883817), (1812, 0.026564803721442716), (1813, 0.07139972092417153), (1814, 0.014960514704410354), (1815, 0.0), (1816, 0.012579160245919737), (1817, 0.03377197378105781), (1818, 0.015706610991599756), (1819, 0.0), (1820, 0.012623771246494508), (1821, 0.0), (1822, 0.0), (1823, 0.008803272836161412), (1824, 0.021971715975067294), (1825, 0.008869284452629246), (1826, 0.0), (1827, 0.010794573279607665), (1828, 0.020775951229780924), (1829, 0.0), (1830, 0.0), (1831, 0.0), (1832, 0.0), (1833, 0.05272609480146134), (1834, 0.05883884855085722), (1835, 0.0), (1836, 0.0), (1837, 0.013554210432570619), (1838, 0.0), (1839, 0.0), (1840, 0.0), (1841, 0.01924250343436838), (1842, 0.042151715801068315), (1843, 0.0), (1844, 0.01428236769541641), (1845, 0.04768778546469277), (1846, 0.0), (1847, 0.0), (1848, 0.0), (1849, 0.016621229404328596), (1850, 0.0040432262320488875), (1851, 0.0049064360158261626), (1852, 0.009233372394617386), (1853, 0.0), (1854, 0.0), (1855, 0.03219628623175131), (1856, 0.0), (1857, 0.004556109980194815), (1858, 0.004961128503897418), (1859, 0.009673532513529775), (1860, 0.07382430778139323), (1861, 0.024036307394594957), (1862, 0.03566291649148507), (1863, 0.0), (1864, 0.01895284860444499), (1865, 0.00850897544887534), (1866, 0.0), (1867, 0.0), (1868, 0.025893574768506004), (1869, 0.010684474575642821), (1870, 0.0), (1871, 0.009415188244287928), (1872, 0.0), (1873, 0.01617259166606462), (1874, 0.0), (1875, 0.0), (1876, 0.022243358758292746), (1877, 0.010929499233004679), (1878, 0.008943936033008455), (1879, 0.0), (1880, 0.0), (1881, 0.014256635212899337), (1882, 0.0), (1883, 0.0), (1884, 0.0), (1885, 0.0), (1886, 0.08515624993694727), (1887, 0.005191914109445916), (1888, 0.02843835543173707), (1889, 0.0), (1890, 0.0), (1891, 0.023929939604131225), (1892, 0.0), (1893, 0.004924135419692583), (1894, 0.0), (1895, 0.004311844938591535), (1896, 0.0), (1897, 0.012796672078741994), (1898, 0.0), (1899, 0.0), (1900, 0.0), (1901, 0.0), (1902, 0.0), (1903, 0.06539169253833454), (1904, 0.0), (1905, 0.0), (1906, 0.0), (1907, 0.004955722593923748), (1908, 0.004714337281712489), (1909, 0.0), (1910, 0.02231945206053568), (1911, 0.0), (1912, 0.011353597181626582), (1913, 0.0), (1914, 0.015374245387962386), (1915, 0.009211465254445767), (1916, 0.0), (1917, 0.0), (1918, 0.0), (1919, 0.009569560362485472), (1920, 0.04666780192919518), (1921, 0.011410027314181559), (1922, 0.0), (1923, 0.0), (1924, 0.0), (1925, 0.01994999682542669), (1926, 0.034279062865919536), (1927, 0.03106795862528449), (1928, 0.0), (1929, 0.0), (1930, 0.0), (1931, 0.012430010897176115), (1932, 0.0), (1933, 0.0358643891951021), (1934, 0.010899509826900734), (1935, 0.036864768647098006), (1936, 0.0), (1937, 0.025114757605576257), (1938, 0.0), (1939, 0.0), (1940, 0.0), (1941, 0.0), (1942, 0.012126161298715861), (1943, 0.0), (1944, 0.029800874522978804), (1945, 0.0), (1946, 0.0), (1947, 0.0), (1948, 0.03180745334490734), (1949, 0.0), (1950, 0.04728111864204436), (1951, 0.017124253624487672), (1952, 0.005022351041386765), (1953, 0.03504199009659703), (1954, 0.020214904852132738), (1955, 0.0), (1956, 0.0), (1957, 0.007764821636429819), (1958, 0.0), (1959, 0.03458653088667271), (1960, 0.0), (1961, 0.016594580914503283), (1962, 0.0), (1963, 0.009743048711517002), (1964, 0.06564785271116895), (1965, 0.0), (1966, 0.0), (1967, 0.009499657678362063), (1968, 0.005139690033075771), (1969, 0.016715392220623387), (1970, 0.0), (1971, 0.004099514428469989), (1972, 0.0), (1973, 0.015317078695220001), (1974, 0.05903772673317861), (1975, 0.0), (1976, 0.0), (1977, 0.008365106230719758), (1978, 0.008244899177575793), (1979, 0.023283090210098292), (1980, 0.0), (1981, 0.0038693042278011114), (1982, 0.008472556007460552), (1983, 0.0), (1984, 0.0045152205225923465), (1985, 0.0046745454404008525), (1986, 0.0), (1987, 0.004175654482365754), (1988, 0.004400950016704654), (1989, 0.0), (1990, 0.004200769797049677), (1991, 0.0), (1992, 0.0225603240401722), (1993, 0.01218104334973845), (1994, 0.004154944183392606), (1995, 0.0), (1996, 0.0), (1997, 0.005025041057552811), (1998, 0.016352391163471185), (1999, 0.014833907273769039), (2000, 0.030880172423215533), (2001, 0.0), (2002, 0.0), (2003, 0.004661650914042339), (2004, 0.0), (2005, 0.034901007731317296), (2006, 0.0), (2007, 0.016864704556497936), (2008, 0.0), (2009, 0.013784355511528698), (2010, 0.0), (2011, 0.0), (2012, 0.0051301440441066624), (2013, 0.0036859360980047093), (2014, 0.02454115644720779), (2015, 0.0), (2016, 0.08375055724724575), (2017, 0.00461470841208669), (2018, 0.0), (2019, 0.013175878749575286), (2020, 0.0), (2021, 0.0), (2022, 0.02524117870285745), (2023, 0.0), (2024, 0.0), (2025, 0.0), (2026, 0.0), (2027, 0.004552639073308037), (2028, 0.0), (2029, 0.00444217880467149), (2030, 0.014117555037705167), (2031, 0.008407140580360128), (2032, 0.005228519245924493), (2033, 0.0), (2034, 0.013729919767756529), (2035, 0.0), (2036, 0.017942429623528683), (2037, 0.014648914880878314), (2038, 0.012448226719837373), (2039, 0.013479934807713067), (2040, 0.021417986545712173), (2041, 0.013669491253173844), (2042, 0.0), (2043, 0.012634836856000881), (2044, 0.0), (2045, 0.004581346075353373), (2046, 0.0), (2047, 0.003976159908718366), (2048, 0.0), (2049, 0.0), (2050, 0.011682005604104163), (2051, 0.013571608737030623), (2052, 0.0), (2053, 0.009932627967792443), (2054, 0.0), (2055, 0.0194885299641823), (2056, 0.004494114886827517), (2057, 0.0), (2058, 0.004169846192548496), (2059, 0.022112457061724388), (2060, 0.02398480633746344), (2061, 0.0531699186093328), (2062, 0.008687779016258588), (2063, 0.0), (2064, 0.012479464363622432), (2065, 0.008138582512150286), (2066, 0.0), (2067, 0.0), (2068, 0.0), (2069, 0.0), (2070, 0.003914448943552983), (2071, 0.004553222566968232), (2072, 0.004760895503363419), (2073, 0.016186925485249314), (2074, 0.016559330175723776), (2075, 0.0), (2076, 0.0), (2077, 0.0), (2078, 0.0), (2079, 0.0051587832830394045), (2080, 0.0), (2081, 0.0), (2082, 0.0), (2083, 0.0), (2084, 0.0), (2085, 0.017141577099238005), (2086, 0.017139333731068), (2087, 0.0), (2088, 0.012498371246502972), (2089, 0.0), (2090, 0.0), (2091, 0.0), (2092, 0.0), (2093, 0.0), (2094, 0.004317800226708939), (2095, 0.012840949297857559), (2096, 0.0), (2097, 0.03136950620874827), (2098, 0.07728781456108874), (2099, 0.0), (2100, 0.026704808659930808), (2101, 0.0), (2102, 0.03650962934665532), (2103, 0.009136211369480401), (2104, 0.029905689218414744), (2105, 0.0), (2106, 0.0), (2107, 0.011298269287493218), (2108, 0.0), (2109, 0.028164574479686115), (2110, 0.0), (2111, 0.020586400861155166), (2112, 0.004945586920938961), (2113, 0.02670657149038767), (2114, 0.02588443000948478), (2115, 0.0), (2116, 0.012974940399418565), (2117, 0.0), (2118, 0.03143152695687793), (2119, 0.0), (2120, 0.0), (2121, 0.023037897222941986), (2122, 0.009297664696426008), (2123, 0.0), (2124, 0.0), (2125, 0.0), (2126, 0.0048421015770962585), (2127, 0.0), (2128, 0.004497041272015854), (2129, 0.0), (2130, 0.0), (2131, 0.004483581920113574), (2132, 0.0), (2133, 0.0), (2134, 0.0), (2135, 0.07865136309880838), (2136, 0.0), (2137, 0.0), (2138, 0.05030061976693406), (2139, 0.0), (2140, 0.01968292169766552), (2141, 0.0), (2142, 0.0), (2143, 0.010879216710529714), (2144, 0.011749452674082936), (2145, 0.05607712441245661), (2146, 0.0), (2147, 0.004877480645752573), (2148, 0.0), (2149, 0.0), (2150, 0.012707561738385852), (2151, 0.0), (2152, 0.0), (2153, 0.013132184835031908), (2154, 0.0), (2155, 0.01708292612898855), (2156, 0.004078144723624816), (2157, 0.0), (2158, 0.010499518228261038), (2159, 0.010270626190540016), (2160, 0.009047596342454231), (2161, 0.054851652360994894), (2162, 0.0), (2163, 0.0), (2164, 0.0), (2165, 0.0), (2166, 0.0), (2167, 0.0252805301138214), (2168, 0.0), (2169, 0.004619497192733913), (2170, 0.015728519448170965), (2171, 0.0), (2172, 0.0), (2173, 0.0), (2174, 0.00919335719258915), (2175, 0.008683939812102073), (2176, 0.0), (2177, 0.014101766888403767), (2178, 0.004524475712440669), (2179, 0.0), (2180, 0.0052255225704341685), (2181, 0.0), (2182, 0.0), (2183, 0.012459456880181173), (2184, 0.026080733512336595), (2185, 0.014568659404441716), (2186, 0.0), (2187, 0.0), (2188, 0.0), (2189, 0.0), (2190, 0.051237728750208586), (2191, 0.008605053582349009), (2192, 0.011641877323520828), (2193, 0.00463992411369454), (2194, 0.0), (2195, 0.02023239065355849), (2196, 0.027117363198426864), (2197, 0.040539689656947535), (2198, 0.004632206208860697), (2199, 0.0), (2200, 0.014082315941061394), (2201, 0.02153683998797439), (2202, 0.0), (2203, 0.0), (2204, 0.011991688299672891), (2205, 0.0), (2206, 0.011424489579066083), (2207, 0.012872616167274134), (2208, 0.0), (2209, 0.0), (2210, 0.0), (2211, 0.02389639429424726), (2212, 0.02442774595558922), (2213, 0.0), (2214, 0.0), (2215, 0.009030991388376593), (2216, 0.0), (2217, 0.0), (2218, 0.04340717874624072), (2219, 0.0), (2220, 0.0073022322439834095), (2221, 0.04123805223775249), (2222, 0.017477328064378406), (2223, 0.0), (2224, 0.00855779972581033), (2225, 0.0), (2226, 0.011682291803446517), (2227, 0.024951358493444386), (2228, 0.0), (2229, 0.0), (2230, 0.0), (2231, 0.0), (2232, 0.026334037840866575), (2233, 0.0), (2234, 0.03546405944246364), (2235, 0.02243834644197641), (2236, 0.019583318537141663), (2237, 0.024425305214921825), (2238, 0.0), (2239, 0.01360480964504846), (2240, 0.0), (2241, 0.0048733696841124), (2242, 0.0), (2243, 0.0), (2244, 0.0), (2245, 0.027025917993535535), (2246, 0.004698328797472404), (2247, 0.0), (2248, 0.0), (2249, 0.0), (2250, 0.05429454782716733), (2251, 0.0), (2252, 0.0100067357748405), (2253, 0.0), (2254, 0.0), (2255, 0.0), (2256, 0.0), (2257, 0.0), (2258, 0.0), (2259, 0.004937797180971772), (2260, 0.0), (2261, 0.0), (2262, 0.012677470306913324), (2263, 0.029412264246985613), (2264, 0.0683185014055874), (2265, 0.0), (2266, 0.01951336484389762), (2267, 0.016167142734915887), (2268, 0.01649382283940347), (2269, 0.0), (2270, 0.0), (2271, 0.0), (2272, 0.0), (2273, 0.0), (2274, 0.014493694322689207), (2275, 0.0), (2276, 0.0), (2277, 0.004811849344172638), (2278, 0.004710319562768654), (2279, 0.0), (2280, 0.041226076899439745), (2281, 0.0), (2282, 0.0), (2283, 0.02798061519995747), (2284, 0.0), (2285, 0.00828058570601988), (2286, 0.0), (2287, 0.008499782011962477), (2288, 0.0), (2289, 0.0), (2290, 0.049099082960432625), (2291, 0.004332298495381542), (2292, 0.03276490553660232), (2293, 0.0), (2294, 0.0), (2295, 0.0), (2296, 0.0038151719966352197), (2297, 0.01889869450870886), (2298, 0.0), (2299, 0.045245958861246285), (2300, 0.0), (2301, 0.004231428605095467), (2302, 0.0), (2303, 0.030456895905233664), (2304, 0.0), (2305, 0.0), (2306, 0.0), (2307, 0.0), (2308, 0.0), (2309, 0.0), (2310, 0.0), (2311, 0.013057742552848084), (2312, 0.0), (2313, 0.0), (2314, 0.0), (2315, 0.0), (2316, 0.0), (2317, 0.013696497182949621), (2318, 0.0076658009973153115), (2319, 0.0), (2320, 0.010728450207961454), (2321, 0.06271290407027307), (2322, 0.06867888541061992), (2323, 0.0), (2324, 0.0), (2325, 0.0), (2326, 0.011793553565379372), (2327, 0.0197549858636853), (2328, 0.0), (2329, 0.03973992015582705), (2330, 0.0), (2331, 0.0), (2332, 0.013554477609036681), (2333, 0.0), (2334, 0.004876153883394447), (2335, 0.06933443416404114), (2336, 0.0), (2337, 0.0), (2338, 0.0082673079197119), (2339, 0.005190831921813864), (2340, 0.04534250599891179), (2341, 0.0), (2342, 0.0), (2343, 0.0), (2344, 0.0), (2345, 0.0), (2346, 0.0), (2347, 0.008781561210171807), (2348, 0.0), (2349, 0.0), (2350, 0.0), (2351, 0.005424428871366556), (2352, 0.022033374118387412), (2353, 0.02905515049999044), (2354, 0.01167795741453234), (2355, 0.0), (2356, 0.0), (2357, 0.0), (2358, 0.0), (2359, 0.034240554179918996), (2360, 0.032170000669764484), (2361, 0.0), (2362, 0.0), (2363, 0.00584767816061335), (2364, 0.0), (2365, 0.017666735948369434), (2366, 0.015426271020799163), (2367, 0.01522877202051288), (2368, 0.013873476572405279), (2369, 0.0), (2370, 0.03210816076872667), (2371, 0.0), (2372, 0.028775153591110283), (2373, 0.0), (2374, 0.0), (2375, 0.0), (2376, 0.007225453408260217), (2377, 0.0038100440123653334), (2378, 0.011401986530095293), (2379, 0.0), (2380, 0.0), (2381, 0.0), (2382, 0.0), (2383, 0.0), (2384, 0.0), (2385, 0.0), (2386, 0.0), (2387, 0.0), (2388, 0.0), (2389, 0.0), (2390, 0.012458213175981607), (2391, 0.0), (2392, 0.03587605080138093), (2393, 0.07687397917417862), (2394, 0.0), (2395, 0.0), (2396, 0.0), (2397, 0.0), (2398, 0.03527008247414434), (2399, 0.008579881047127466), (2400, 0.0), (2401, 0.0), (2402, 0.0), (2403, 0.0), (2404, 0.0), (2405, 0.0), (2406, 0.03236420568093159), (2407, 0.0), (2408, 0.02509823712849136), (2409, 0.013454121664379058), (2410, 0.0), (2411, 0.0), (2412, 0.007942369063873904), (2413, 0.01780426710646325), (2414, 0.0180331108943309), (2415, 0.0), (2416, 0.0047171617431027435), (2417, 0.0), (2418, 0.004997919931846069), (2419, 0.0), (2420, 0.0), (2421, 0.009465599529872276), (2422, 0.009198011144894014), (2423, 0.0), (2424, 0.0), (2425, 0.0), (2426, 0.0), (2427, 0.010788536874180195), (2428, 0.0), (2429, 0.0), (2430, 0.013599510650188617), (2431, 0.004772210538414281), (2432, 0.0), (2433, 0.07579498923004273), (2434, 0.0), (2435, 0.0), (2436, 0.005067625030345517), (2437, 0.0), (2438, 0.0), (2439, 0.0), (2440, 0.0), (2441, 0.009581843025706945), (2442, 0.022903788236049962), (2443, 0.06823342653493092), (2444, 0.0047454975186691575), (2445, 0.044104948567515), (2446, 0.004414934405106814), (2447, 0.003965413461913206), (2448, 0.0), (2449, 0.0), (2450, 0.024541696454396453), (2451, 0.014235195367287694), (2452, 0.0), (2453, 0.0), (2454, 0.0), (2455, 0.0), (2456, 0.0), (2457, 0.014993848464922495), (2458, 0.005357151786972873), (2459, 0.0), (2460, 0.009997102304665266), (2461, 0.0), (2462, 0.014726315950779764), (2463, 0.0), (2464, 0.0), (2465, 0.0), (2466, 0.0), (2467, 0.0), (2468, 0.0), (2469, 0.0), (2470, 0.0), (2471, 0.0), (2472, 0.012757816683030854), (2473, 0.015469822064794757), (2474, 0.011062724164911128), (2475, 0.0), (2476, 0.030672442899543236), (2477, 0.0), (2478, 0.0), (2479, 0.015867618653059794), (2480, 0.004502791270757315), (2481, 0.013870008029570655), (2482, 0.0), (2483, 0.0), (2484, 0.01752234079603365), (2485, 0.010481320665382824), (2486, 0.0), (2487, 0.00482880060149217), (2488, 0.0), (2489, 0.0), (2490, 0.0), (2491, 0.00427766900736806), (2492, 0.009366107227251999), (2493, 0.0), (2494, 0.02215821701276397), (2495, 0.0), (2496, 0.016491487928861577), (2497, 0.0), (2498, 0.008968500403721711), (2499, 0.0), (2500, 0.0), (2501, 0.004661515163844956), (2502, 0.037878734309282076), (2503, 0.004588521336411952), (2504, 0.018647104767852314), (2505, 0.0), (2506, 0.0), (2507, 0.01012016537528373), (2508, 0.0), (2509, 0.0507992316894709), (2510, 0.010311660996154472), (2511, 0.004732504549020053), (2512, 0.0), (2513, 0.012852926016713414), (2514, 0.012793685474387816), (2515, 0.0), (2516, 0.014561104653164068), (2517, 0.01997280060326408), (2518, 0.005150671246740923), (2519, 0.0), (2520, 0.0), (2521, 0.017136977586663108), (2522, 0.0), (2523, 0.0), (2524, 0.0), (2525, 0.012739187597075666), (2526, 0.014180963091169735), (2527, 0.0), (2528, 0.011068206661301936), (2529, 0.0), (2530, 0.0), (2531, 0.0), (2532, 0.015530661818807346), (2533, 0.011840266559507288), (2534, 0.0063811256089541055), (2535, 0.0), (2536, 0.0), (2537, 0.0), (2538, 0.005846367968777365), (2539, 0.011868994505672657), (2540, 0.03255496672890227), (2541, 0.03461624256697865), (2542, 0.0), (2543, 0.0), (2544, 0.007984828689593356), (2545, 0.0), (2546, 0.004955501403787903), (2547, 0.0056732211808958035), (2548, 0.017400851259783967), (2549, 0.0), (2550, 0.010374161200360707), (2551, 0.0), (2552, 0.013109727405256807), (2553, 0.04043841253281148), (2554, 0.01674117714406417), (2555, 0.0), (2556, 0.0), (2557, 0.0), (2558, 0.0), (2559, 0.0), (2560, 0.018166226437413405), (2561, 0.0), (2562, 0.015880602657280717), (2563, 0.023681186745878387), (2564, 0.0), (2565, 0.0), (2566, 0.0), (2567, 0.0), (2568, 0.049379274600824814), (2569, 0.0), (2570, 0.018972206536825676), (2571, 0.0), (2572, 0.0), (2573, 0.010163754921679622), (2574, 0.012778099990923572), (2575, 0.0), (2576, 0.0), (2577, 0.0), (2578, 0.015423844326999439), (2579, 0.01282135924435657), (2580, 0.038415353117581756), (2581, 0.0055729307489444406), (2582, 0.009439116045110977), (2583, 0.026308382709404582), (2584, 0.0498696707495315), (2585, 0.021194241427463335), (2586, 0.012516429349937727), (2587, 0.004085282349652351), (2588, 0.03493046627142394), (2589, 0.022917800331659785), (2590, 0.0), (2591, 0.08090129866064467), (2592, 0.0), (2593, 0.0), (2594, 0.0), (2595, 0.01447636950624948), (2596, 0.0), (2597, 0.0), (2598, 0.0), (2599, 0.0), (2600, 0.0), (2601, 0.009996795575999747), (2602, 0.0), (2603, 0.01402937849086267), (2604, 0.0), (2605, 0.0), (2606, 0.0), (2607, 0.0), (2608, 0.004231418313628471), (2609, 0.0), (2610, 0.004799126699792026), (2611, 0.031838052602611376), (2612, 0.016416742213909385), (2613, 0.0), (2614, 0.0), (2615, 0.03687918742583726), (2616, 0.008948942291767572), (2617, 0.0), (2618, 0.0), (2619, 0.0), (2620, 0.0), (2621, 0.0), (2622, 0.003892760755700531), (2623, 0.07295690475344321), (2624, 0.0), (2625, 0.010575192583649988), (2626, 0.018165071128122327), (2627, 0.0040919367314040025), (2628, 0.0), (2629, 0.0), (2630, 0.0), (2631, 0.004337236654485106), (2632, 0.018796797518918874), (2633, 0.017731708612781262), (2634, 0.029650538246336806), (2635, 0.0), (2636, 0.015540561200778402), (2637, 0.009535439283791691), (2638, 0.0), (2639, 0.0), (2640, 0.004655378983728654), (2641, 0.0), (2642, 0.015909997971254586), (2643, 0.0), (2644, 0.011263376767875885), (2645, 0.005948712095573897), (2646, 0.030375611480401805), (2647, 0.10379052444865501), (2648, 0.0), (2649, 0.03885862247504737), (2650, 0.0), (2651, 0.0), (2652, 0.013395770676445403), (2653, 0.0), (2654, 0.04419223036318161), (2655, 0.0), (2656, 0.011220371313479591), (2657, 0.0), (2658, 0.0), (2659, 0.0), (2660, 0.03994731533948303), (2661, 0.012009183725643937), (2662, 0.030263075526670527), (2663, 0.02057952960935401), (2664, 0.032320544836239015), (2665, 0.0076989763418999066), (2666, 0.028199161657260708), (2667, 0.03766684058652495), (2668, 0.04837966634922451), (2669, 0.0), (2670, 0.0), (2671, 0.0071902547568411905), (2672, 0.0), (2673, 0.005751059134229388), (2674, 0.0), (2675, 0.004933864035055192), (2676, 0.0), (2677, 0.015938852653623135), (2678, 0.0), (2679, 0.0), (2680, 0.008642907385780139), (2681, 0.0), (2682, 0.06043011140466329), (2683, 0.0), (2684, 0.0), (2685, 0.011741072086134289), (2686, 0.008474607063231188), (2687, 0.009308192107795559), (2688, 0.011651604184174923), (2689, 0.004805154130511148), (2690, 0.0), (2691, 0.0047345677640815535), (2692, 0.0), (2693, 0.0), (2694, 0.0), (2695, 0.0), (2696, 0.014292235182951252), (2697, 0.0), (2698, 0.00450235232101689), (2699, 0.0), (2700, 0.0), (2701, 0.0), (2702, 0.0), (2703, 0.0), (2704, 0.014891055297186694), (2705, 0.0), (2706, 0.00462843049723441), (2707, 0.0), (2708, 0.013919345322868764), (2709, 0.0), (2710, 0.020916806520884613), (2711, 0.0), (2712, 0.01473038303757455), (2713, 0.0), (2714, 0.0), (2715, 0.017668063203595586), (2716, 0.0), (2717, 0.015137467219460821), (2718, 0.0), (2719, 0.014295959056149752), (2720, 0.026554333363532585), (2721, 0.0), (2722, 0.0), (2723, 0.0), (2724, 0.008255127698151546), (2725, 0.004774609766895227), (2726, 0.0), (2727, 0.0), (2728, 0.0), (2729, 0.00473982872460436), (2730, 0.011269109867426148), (2731, 0.0), (2732, 0.0165194792006726), (2733, 0.0), (2734, 0.013032704622963989), (2735, 0.0), (2736, 0.0), (2737, 0.0), (2738, 0.0055826721998242295), (2739, 0.0), (2740, 0.0053099884198033525), (2741, 0.010699605462381767), (2742, 0.0), (2743, 0.0), (2744, 0.0), (2745, 0.0), (2746, 0.019121375599962298), (2747, 0.049310070295529605), (2748, 0.0), (2749, 0.014590434677523639), (2750, 0.0), (2751, 0.008832957266316842), (2752, 0.04161367260298167), (2753, 0.03629197035727631), (2754, 0.0), (2755, 0.005059001082984585), (2756, 0.0), (2757, 0.0), (2758, 0.0), (2759, 0.04322265071860065), (2760, 0.0221038238216072), (2761, 0.013868044586504282), (2762, 0.021099533970133998), (2763, 0.009031417674975577), (2764, 0.0), (2765, 0.008867530404400322), (2766, 0.026746460794695358), (2767, 0.0), (2768, 0.0), (2769, 0.0), (2770, 0.014687853692864999), (2771, 0.010614105671660705), (2772, 0.0), (2773, 0.0), (2774, 0.0037037020458313705), (2775, 0.0), (2776, 0.009952011079475192), (2777, 0.00445216290791419), (2778, 0.0), (2779, 0.0), (2780, 0.0), (2781, 0.016029579446709956), (2782, 0.013302003626853057), (2783, 0.0), (2784, 0.0), (2785, 0.0), (2786, 0.0), (2787, 0.0), (2788, 0.01643148898721151), (2789, 0.027194275343738403), (2790, 0.004853818383640787), (2791, 0.00882547523937257), (2792, 0.0046916900391690405), (2793, 0.021503004805440484), (2794, 0.0), (2795, 0.0), (2796, 0.0), (2797, 0.0), (2798, 0.004822575520482915), (2799, 0.0), (2800, 0.0), (2801, 0.012266245002058777), (2802, 0.0), (2803, 0.0), (2804, 0.011588170503985583), (2805, 0.0), (2806, 0.0), (2807, 0.00466821600140909), (2808, 0.0045395396410488715), (2809, 0.047386506114817574), (2810, 0.0), (2811, 0.0), (2812, 0.004619449760490919), (2813, 0.05621200059313956), (2814, 0.03609364623133593), (2815, 0.0), (2816, 0.004809005077468769), (2817, 0.014813092068253257), (2818, 0.006542838714080717), (2819, 0.0), (2820, 0.0), (2821, 0.0), (2822, 0.011623315022930243), (2823, 0.0), (2824, 0.01847460601003823), (2825, 0.0), (2826, 0.009197262876634808), (2827, 0.0), (2828, 0.0), (2829, 0.008916043051908457), (2830, 0.0), (2831, 0.02475374573838682), (2832, 0.0), (2833, 0.0), (2834, 0.005581515298383789), (2835, 0.05153862654592588), (2836, 0.0), (2837, 0.0), (2838, 0.0), (2839, 0.02397820850799739), (2840, 0.017939482071552083), (2841, 0.014486071793830678), (2842, 0.003953627795227294), (2843, 0.0), (2844, 0.018979871406094202), (2845, 0.008474733707910818), (2846, 0.0), (2847, 0.0), (2848, 0.0), (2849, 0.0), (2850, 0.0), (2851, 0.019413788436976227), (2852, 0.03156847283614256), (2853, 0.0), (2854, 0.01797760714660713), (2855, 0.004193080850094349), (2856, 0.01373442357563801), (2857, 0.049479760932223976), (2858, 0.0), (2859, 0.004377603438512537), (2860, 0.0), (2861, 0.0), (2862, 0.0043430518168787735), (2863, 0.0), (2864, 0.014369195329549252), (2865, 0.011932264151790276), (2866, 0.0), (2867, 0.014815941946301621), (2868, 0.0), (2869, 0.0), (2870, 0.0), (2871, 0.0), (2872, 0.0), (2873, 0.00505651022856211), (2874, 0.0), (2875, 0.0), (2876, 0.014539003538991086), (2877, 0.0), (2878, 0.014224139570601544), (2879, 0.0), (2880, 0.0), (2881, 0.0), (2882, 0.012981878128389364), (2883, 0.0), (2884, 0.037884639819604916), (2885, 0.0), (2886, 0.0), (2887, 0.0), (2888, 0.0), (2889, 0.0), (2890, 0.0), (2891, 0.0), (2892, 0.004373382036389194), (2893, 0.0), (2894, 0.0), (2895, 0.0), (2896, 0.0), (2897, 0.09992308193227725), (2898, 0.0), (2899, 0.015083735725756027), (2900, 0.004798494784416214), (2901, 0.0), (2902, 0.0), (2903, 0.0), (2904, 0.0), (2905, 0.0), (2906, 0.0041884358925879245), (2907, 0.0), (2908, 0.020421338881329475), (2909, 0.0), (2910, 0.004775833695996707), (2911, 0.0048971604368984335), (2912, 0.009264845786941431), (2913, 0.0), (2914, 0.0), (2915, 0.01288387296605343), (2916, 0.0), (2917, 0.0), (2918, 0.011631653935373564), (2919, 0.0), (2920, 0.0042941114817367345), (2921, 0.0), (2922, 0.0), (2923, 0.0), (2924, 0.0), (2925, 0.039349545277857674), (2926, 0.0), (2927, 0.015884135725141614), (2928, 0.0), (2929, 0.014494923702463006), (2930, 0.0), (2931, 0.008365329650846371), (2932, 0.0), (2933, 0.004054883584985132), (2934, 0.0), (2935, 0.00885964512226324), (2936, 0.0), (2937, 0.0), (2938, 0.0632052879809398), (2939, 0.0), (2940, 0.0047644200603046164), (2941, 0.0), (2942, 0.012317640242575666), (2943, 0.0), (2944, 0.038608698865776045), (2945, 0.0), (2946, 0.0), (2947, 0.0), (2948, 0.0), (2949, 0.0), (2950, 0.0), (2951, 0.01796460324335028), (2952, 0.019721904751303625), (2953, 0.0), (2954, 0.015682270192179486), (2955, 0.0), (2956, 0.0), (2957, 0.028972508899453627), (2958, 0.0), (2959, 0.0), (2960, 0.0), (2961, 0.0), (2962, 0.03256172226291742), (2963, 0.004871370726782185), (2964, 0.02090678237016116), (2965, 0.03496968947910891), (2966, 0.0), (2967, 0.0), (2968, 0.0), (2969, 0.003933377719710128), (2970, 0.0), (2971, 0.0), (2972, 0.0), (2973, 0.0), (2974, 0.0), (2975, 0.008096390154350142), (2976, 0.0), (2977, 0.0), (2978, 0.0), (2979, 0.0), (2980, 0.03815278270487965), (2981, 0.01836315859825004), (2982, 0.013678680970183446), (2983, 0.0), (2984, 0.0), (2985, 0.0038722506050604026), (2986, 0.0), (2987, 0.0), (2988, 0.0), (2989, 0.0), (2990, 0.0), (2991, 0.0), (2992, 0.0), (2993, 0.0), (2994, 0.0), (2995, 0.0), (2996, 0.019499157316430968), (2997, 0.0), (2998, 0.0), (2999, 0.012275451078090707), (3000, 0.009515418218837486), (3001, 0.0), (3002, 0.0), (3003, 0.013683112117140848), (3004, 0.0), (3005, 0.0), (3006, 0.0), (3007, 0.0), (3008, 0.0), (3009, 0.0), (3010, 0.013494706183326712), (3011, 0.004449397960626596), (3012, 0.0), (3013, 0.0), (3014, 0.008985546760740974), (3015, 0.0), (3016, 0.0), (3017, 0.0), (3018, 0.004668102456264665), (3019, 0.0), (3020, 0.0), (3021, 0.0), (3022, 0.010579058469870393), (3023, 0.0), (3024, 0.02411760005886141), (3025, 0.0), (3026, 0.0), (3027, 0.0448595285448703), (3028, 0.004360160356923398), (3029, 0.0), (3030, 0.03856673991487337), (3031, 0.0), (3032, 0.0), (3033, 0.0046080258466226764), (3034, 0.0), (3035, 0.0), (3036, 0.0), (3037, 0.0), (3038, 0.0), (3039, 0.0), (3040, 0.0), (3041, 0.0), (3042, 0.0), (3043, 0.0), (3044, 0.0), (3045, 0.007766918849317728), (3046, 0.004414673470345774), (3047, 0.03485766396263607), (3048, 0.0), (3049, 0.0), (3050, 0.0), (3051, 0.0), (3052, 0.0), (3053, 0.0045834794653891), (3054, 0.0), (3055, 0.0), (3056, 0.0), (3057, 0.01882366378344977), (3058, 0.0), (3059, 0.0), (3060, 0.01234820855888678), (3061, 0.0), (3062, 0.0), (3063, 0.0), (3064, 0.0), (3065, 0.0), (3066, 0.00454490554455782), (3067, 0.0), (3068, 0.0), (3069, 0.0), (3070, 0.0), (3071, 0.004272364582634137), (3072, 0.0), (3073, 0.004619592640339382), (3074, 0.0), (3075, 0.0), (3076, 0.0), (3077, 0.011130681077052253), (3078, 0.0), (3079, 0.0), (3080, 0.0), (3081, 0.0), (3082, 0.0), (3083, 0.01599898547637367), (3084, 0.0), (3085, 0.0), (3086, 0.0), (3087, 0.0), (3088, 0.0), (3089, 0.0), (3090, 0.0), (3091, 0.007819985542907), (3092, 0.02116060311279783), (3093, 0.0), (3094, 0.0), (3095, 0.0), (3096, 0.008137377811820645), (3097, 0.0), (3098, 0.02724701944698144), (3099, 0.0), (3100, 0.0), (3101, 0.02019841111268201), (3102, 0.0), (3103, 0.033246344831854895), (3104, 0.01159372402560983), (3105, 0.0), (3106, 0.01708927365748708), (3107, 0.0), (3108, 0.004084378149410368), (3109, 0.03973384800136513), (3110, 0.0174601482514378), (3111, 0.0223839720844181), (3112, 0.0), (3113, 0.009850352329880664), (3114, 0.0), (3115, 0.0), (3116, 0.04323883196356565), (3117, 0.010454763495489225), (3118, 0.0), (3119, 0.03903830472622195), (3120, 0.06566684814327174), (3121, 0.013540133340750944), (3122, 0.00910734617656752), (3123, 0.0), (3124, 0.0), (3125, 0.004713354074546111), (3126, 0.0), (3127, 0.0043013787085792975), (3128, 0.0), (3129, 0.028576156777620994), (3130, 0.0), (3131, 0.0), (3132, 0.0), (3133, 0.026558144259605967), (3134, 0.0), (3135, 0.0), (3136, 0.0), (3137, 0.0), (3138, 0.0), (3139, 0.0), (3140, 0.0), (3141, 0.008912533044411768), (3142, 0.006306781414913464), (3143, 0.0), (3144, 0.062262734335567074), (3145, 0.0062175266913290774), (3146, 0.0), (3147, 0.0), (3148, 0.0), (3149, 0.015661317469952314), (3150, 0.004664762523292567), (3151, 0.0045243196508252155), (3152, 0.011415124585413954), (3153, 0.0), (3154, 0.0), (3155, 0.016475527948345895), (3156, 0.0), (3157, 0.0), (3158, 0.0), (3159, 0.0), (3160, 0.0), (3161, 0.0), (3162, 0.09841134358161055), (3163, 0.0), (3164, 0.0), (3165, 0.0), (3166, 0.0), (3167, 0.0), (3168, 0.0), (3169, 0.0), (3170, 0.0), (3171, 0.0), (3172, 0.0054081371520001776), (3173, 0.024018002603290067), (3174, 0.0), (3175, 0.009860004826093578), (3176, 0.0), (3177, 0.0), (3178, 0.0), (3179, 0.02482329837282481), (3180, 0.013200151039708343), (3181, 0.04989810275006394), (3182, 0.0), (3183, 0.0), (3184, 0.0), (3185, 0.0), (3186, 0.0), (3187, 0.0), (3188, 0.011627087222546979), (3189, 0.0), (3190, 0.0), (3191, 0.0), (3192, 0.0), (3193, 0.0), (3194, 0.0), (3195, 0.009215194992984996), (3196, 0.0), (3197, 0.0), (3198, 0.0), (3199, 0.01943959367046717), (3200, 0.0), (3201, 0.06916246866097799), (3202, 0.0), (3203, 0.0), (3204, 0.0), (3205, 0.01830544029566776), (3206, 0.013872212449483461), (3207, 0.0), (3208, 0.03394728012300722), (3209, 0.02435480197867172), (3210, 0.0), (3211, 0.004065655345950841), (3212, 0.03918719376784896), (3213, 0.07251809170170023), (3214, 0.016670956811535107), (3215, 0.008121084345179398), (3216, 0.0), (3217, 0.0), (3218, 0.0264927783918049), (3219, 0.0), (3220, 0.0), (3221, 0.013184006514672443), (3222, 0.0039032897361648182), (3223, 0.0), (3224, 0.009785096706196112), (3225, 0.044853157389589615), (3226, 0.0042235082367396894), (3227, 0.0), (3228, 0.03839235503715968), (3229, 0.009888534803641076), (3230, 0.0), (3231, 0.023562937149672697), (3232, 0.0), (3233, 0.004790104803443867), (3234, 0.010059460233391942), (3235, 0.0), (3236, 0.0), (3237, 0.004554065926521526), (3238, 0.03442001735936329), (3239, 0.0), (3240, 0.004377728129060865), (3241, 0.0), (3242, 0.0), (3243, 0.0), (3244, 0.019684536215540525), (3245, 0.0), (3246, 0.0), (3247, 0.0), (3248, 0.0), (3249, 0.0), (3250, 0.0), (3251, 0.013929357396256802), (3252, 0.024529076736068998), (3253, 0.0), (3254, 0.010256417326263074), (3255, 0.0), (3256, 0.026981065640066127), (3257, 0.0), (3258, 0.0), (3259, 0.004890537410055862), (3260, 0.03521836427297011), (3261, 0.0), (3262, 0.0), (3263, 0.0314733432827761), (3264, 0.004898293745168286), (3265, 0.004659123062444466), (3266, 0.0), (3267, 0.0), (3268, 0.0), (3269, 0.017135571830497076), (3270, 0.03010519638714495), (3271, 0.0), (3272, 0.026564843853262982), (3273, 0.01288349752508179), (3274, 0.0), (3275, 0.0), (3276, 0.0), (3277, 0.004995791483357391), (3278, 0.0), (3279, 0.010513294078182921), (3280, 0.0), (3281, 0.0), (3282, 0.0), (3283, 0.06158682685861194), (3284, 0.012809055963888632), (3285, 0.0), (3286, 0.026292973141227218), (3287, 0.013951148752463685), (3288, 0.03135506528898711), (3289, 0.0), (3290, 0.0), (3291, 0.0), (3292, 0.0), (3293, 0.01567532949225309), (3294, 0.028973235757472147), (3295, 0.004454249517958831), (3296, 0.0), (3297, 0.023648815656600028), (3298, 0.016254729860476345), (3299, 0.0), (3300, 0.0), (3301, 0.0), (3302, 0.04478557834132413), (3303, 0.016773872027443595), (3304, 0.0), (3305, 0.0), (3306, 0.03086691098359502), (3307, 0.0), (3308, 0.033085039772035855), (3309, 0.0), (3310, 0.0), (3311, 0.012978742930482682), (3312, 0.018182937059748914), (3313, 0.026754993327669927), (3314, 0.0), (3315, 0.023125766514102697), (3316, 0.0036087269287464036), (3317, 0.026122262224428656), (3318, 0.011030503803363931), (3319, 0.0), (3320, 0.02228780184586121), (3321, 0.004667061756899141), (3322, 0.0), (3323, 0.0), (3324, 0.0), (3325, 0.0), (3326, 0.0), (3327, 0.004115742101009116), (3328, 0.027630839654182244), (3329, 0.008517528651986754), (3330, 0.016534704879946772), (3331, 0.06209984332465767), (3332, 0.0), (3333, 0.0), (3334, 0.0), (3335, 0.0), (3336, 0.00408458465502944), (3337, 0.0), (3338, 0.02045159826879083), (3339, 0.0), (3340, 0.0), (3341, 0.0), (3342, 0.0042976135097776225), (3343, 0.004495554637205032), (3344, 0.02133263410355704), (3345, 0.011436874325878262), (3346, 0.01181123208097399), (3347, 0.0), (3348, 0.0), (3349, 0.0), (3350, 0.0), (3351, 0.0), (3352, 0.0), (3353, 0.0), (3354, 0.0), (3355, 0.0), (3356, 0.0), (3357, 0.0), (3358, 0.0), (3359, 0.0), (3360, 0.0040633509046111), (3361, 0.03638089736461171), (3362, 0.00383117843302389), (3363, 0.0), (3364, 0.005368023362109434), (3365, 0.0033263114014074635), (3366, 0.022206725584508404), (3367, 0.0), (3368, 0.004624231774566731), (3369, 0.01072020535223663), (3370, 0.00879601714135846), (3371, 0.0), (3372, 0.0), (3373, 0.03161134228059911), (3374, 0.004886961987673694), (3375, 0.02440201702650076), (3376, 0.010128283958169185), (3377, 0.0), (3378, 0.0), (3379, 0.0), (3380, 0.0), (3381, 0.0), (3382, 0.0), (3383, 0.0), (3384, 0.005281922392746297), (3385, 0.0), (3386, 0.004788216387496734), (3387, 0.017519311367521148), (3388, 0.0), (3389, 0.015045284262937348), (3390, 0.049892300814664), (3391, 0.0), (3392, 0.0), (3393, 0.014770378729160372), (3394, 0.0), (3395, 0.012378431869065355), (3396, 0.0), (3397, 0.01753870689480741), (3398, 0.0), (3399, 0.004377501948575145), (3400, 0.0), (3401, 0.0), (3402, 0.0), (3403, 0.004053984864699206), (3404, 0.0), (3405, 0.0), (3406, 0.0), (3407, 0.01615535045361472), (3408, 0.013360337301947984), (3409, 0.003993618324051485), (3410, 0.003738207267794629), (3411, 0.012695338210963605), (3412, 0.055953114678946855), (3413, 0.013546217079225379), (3414, 0.010317663105988572), (3415, 0.05831274424647592), (3416, 0.0), (3417, 0.0), (3418, 0.0), (3419, 0.0), (3420, 0.017265515758318653), (3421, 0.025078275759840927), (3422, 0.024786767461950732), (3423, 0.0), (3424, 0.010391377813634637), (3425, 0.013773845928908218), (3426, 0.0), (3427, 0.01698407286761925), (3428, 0.0), (3429, 0.0), (3430, 0.019611784596374818), (3431, 0.0), (3432, 0.0), (3433, 0.0), (3434, 0.0), (3435, 0.004612787365016314), (3436, 0.0), (3437, 0.0), (3438, 0.0), (3439, 0.0), (3440, 0.0), (3441, 0.028606093922309173), (3442, 0.012250531095306709), (3443, 0.01202397433332782), (3444, 0.019522003560252032), (3445, 0.0), (3446, 0.004666289539651899), (3447, 0.013167518025801472), (3448, 0.005752397236573457), (3449, 0.0), (3450, 0.0), (3451, 0.0), (3452, 0.009278410959685289), (3453, 0.0), (3454, 0.00889512287566779), (3455, 0.0), (3456, 0.022435684844289747), (3457, 0.031486896370885205), (3458, 0.01871849186210804), (3459, 0.015390385592459596), (3460, 0.0), (3461, 0.019118220570535374), (3462, 0.0), (3463, 0.0048097379118138455), (3464, 0.004738673586627488), (3465, 0.004368330352790092), (3466, 0.011348849399313493), (3467, 0.12370418176345627), (3468, 0.0), (3469, 0.005030356584020486), (3470, 0.0), (3471, 0.0666869181680684), (3472, 0.0), (3473, 0.015872442373678613), (3474, 0.010589068266753158), (3475, 0.0), (3476, 0.013428107795507295), (3477, 0.016528733339630317), (3478, 0.0), (3479, 0.0), (3480, 0.0), (3481, 0.016969624325319774), (3482, 0.013775187167817494), (3483, 0.0), (3484, 0.004136077658253914), (3485, 0.012037635478245719), (3486, 0.0), (3487, 0.009149969852785206), (3488, 0.03440643309936187), (3489, 0.0), (3490, 0.0), (3491, 0.004660900530930146), (3492, 0.0), (3493, 0.0), (3494, 0.0), (3495, 0.026637540957494814), (3496, 0.0), (3497, 0.0), (3498, 0.0), (3499, 0.0), (3500, 0.0), (3501, 0.012117055447079663), (3502, 0.005573818050828126), (3503, 0.021367037333307352), (3504, 0.0), (3505, 0.015025051324249581), (3506, 0.03237411533494784), (3507, 0.004779768225530111), (3508, 0.0), (3509, 0.03260291071405715), (3510, 0.0), (3511, 0.0), (3512, 0.0), (3513, 0.0), (3514, 0.0), (3515, 0.02412690115730718), (3516, 0.0), (3517, 0.02501883552461337), (3518, 0.021138768910105), (3519, 0.0), (3520, 0.009323152706609635), (3521, 0.0), (3522, 0.0), (3523, 0.0), (3524, 0.0), (3525, 0.0), (3526, 0.03259076517476922), (3527, 0.0), (3528, 0.0), (3529, 0.009998009863869109), (3530, 0.0), (3531, 0.04432742336831582), (3532, 0.0), (3533, 0.0), (3534, 0.0), (3535, 0.0), (3536, 0.004648833441944259), (3537, 0.0), (3538, 0.0), (3539, 0.0), (3540, 0.03581303653030718), (3541, 0.0), (3542, 0.0), (3543, 0.0), (3544, 0.0), (3545, 0.0), (3546, 0.015651933730532086), (3547, 0.0), (3548, 0.027500172895714402), (3549, 0.004779933257564379), (3550, 0.026531815422755945), (3551, 0.004768319268619858), (3552, 0.0), (3553, 0.016575998703622884), (3554, 0.0), (3555, 0.0), (3556, 0.010354997220765105), (3557, 0.01651947183463004), (3558, 0.0), (3559, 0.0465710442582895), (3560, 0.0), (3561, 0.0), (3562, 0.017192930356437902), (3563, 0.004290637564731103), (3564, 0.0), (3565, 0.0), (3566, 0.004529470645430241), (3567, 0.004525062981584919), (3568, 0.004586751802621833), (3569, 0.0), (3570, 0.0), (3571, 0.0), (3572, 0.0), (3573, 0.0), (3574, 0.01038363241255235), (3575, 0.0), (3576, 0.0), (3577, 0.005472137272344571), (3578, 0.020949823696577635), (3579, 0.012693168580487484), (3580, 0.0), (3581, 0.0), (3582, 0.011440680614228498), (3583, 0.0), (3584, 0.0), (3585, 0.009518335001246431), (3586, 0.0), (3587, 0.0), (3588, 0.0), (3589, 0.02640429558801747), (3590, 0.0), (3591, 0.0), (3592, 0.0), (3593, 0.013212336039823034), (3594, 0.020996997421717595), (3595, 0.0), (3596, 0.0), (3597, 0.0), (3598, 0.004169324048021066), (3599, 0.004775850955802586), (3600, 0.0), (3601, 0.0), (3602, 0.011979308363523953), (3603, 0.0), (3604, 0.0), (3605, 0.0), (3606, 0.02281621406573068), (3607, 0.02760729590466879), (3608, 0.0), (3609, 0.0), (3610, 0.0054028211289639146), (3611, 0.04506138834464239), (3612, 0.01727649116672507), (3613, 0.0), (3614, 0.0), (3615, 0.011436142484753335), (3616, 0.01968019425053979), (3617, 0.0), (3618, 0.005091275679866487), (3619, 0.010375838643340997), (3620, 0.0), (3621, 0.07087792976340307), (3622, 0.0), (3623, 0.0), (3624, 0.0), (3625, 0.0), (3626, 0.012608329843365625), (3627, 0.0), (3628, 0.01470113170638004), (3629, 0.0), (3630, 0.01708898123394229), (3631, 0.027828763758532517), (3632, 0.07070531397885109), (3633, 0.016734628068725395), (3634, 0.0), (3635, 0.0), (3636, 0.0), (3637, 0.00840667832879221), (3638, 0.0), (3639, 0.0), (3640, 0.0), (3641, 0.0), (3642, 0.0), (3643, 0.004787657954969043), (3644, 0.011826588310831521), (3645, 0.0), (3646, 0.004415982629596118), (3647, 0.012299495029009044), (3648, 0.05112753107886527), (3649, 0.0), (3650, 0.02357504017419098), (3651, 0.015830141419196704), (3652, 0.0), (3653, 0.03958550938541659), (3654, 0.0), (3655, 0.004166195780981312), (3656, 0.0), (3657, 0.021313629213890923), (3658, 0.018274684051122696), (3659, 0.045878249590848845), (3660, 0.0735795288137186), (3661, 0.00529276722797578), (3662, 0.03150575269207976), (3663, 0.0), (3664, 0.0), (3665, 0.009150238612503726), (3666, 0.01754175434445665), (3667, 0.0), (3668, 0.022092248527541453), (3669, 0.0), (3670, 0.0), (3671, 0.016348739539331157), (3672, 0.0), (3673, 0.011687591545487363), (3674, 0.025910378388909614), (3675, 0.0), (3676, 0.0), (3677, 0.010144838232276786), (3678, 0.014637416774077844), (3679, 0.0), (3680, 0.0), (3681, 0.017805100119628273), (3682, 0.0), (3683, 0.016631254398147617), (3684, 0.013817811201758847), (3685, 0.02902675994538935), (3686, 0.0), (3687, 0.0), (3688, 0.0), (3689, 0.0047469863269006506), (3690, 0.009414224922275142), (3691, 0.0), (3692, 0.0), (3693, 0.0), (3694, 0.0), (3695, 0.0), (3696, 0.015630680752863925), (3697, 0.012663812627883169), (3698, 0.051576798156960764), (3699, 0.0), (3700, 0.0), (3701, 0.004614530663690082), (3702, 0.0), (3703, 0.0), (3704, 0.0), (3705, 0.008629015836292856), (3706, 0.0), (3707, 0.0), (3708, 0.0), (3709, 0.013766771043334505), (3710, 0.0), (3711, 0.01485659506619241), (3712, 0.0), (3713, 0.0), (3714, 0.0), (3715, 0.0), (3716, 0.008502937351306965), (3717, 0.0), (3718, 0.0112641346527127), (3719, 0.0), (3720, 0.004529950544338332), (3721, 0.0), (3722, 0.02912887605150289), (3723, 0.0), (3724, 0.0), (3725, 0.0), (3726, 0.0), (3727, 0.0), (3728, 0.0), (3729, 0.0), (3730, 0.018274774629941332), (3731, 0.011863895372268885), (3732, 0.0), (3733, 0.0), (3734, 0.023540030429413498), (3735, 0.013883474891998353), (3736, 0.01287584832840778), (3737, 0.0), (3738, 0.0), (3739, 0.004539411501435712), (3740, 0.0), (3741, 0.01097595500579435), (3742, 0.0), (3743, 0.009214409898886822), (3744, 0.0), (3745, 0.0), (3746, 0.025162115160870017), (3747, 0.012216642453774485), (3748, 0.004088966698946554), (3749, 0.0), (3750, 0.0), (3751, 0.007606888420670492), (3752, 0.012592262246759894), (3753, 0.0), (3754, 0.010704277081518578), (3755, 0.0), (3756, 0.0), (3757, 0.0), (3758, 0.0), (3759, 0.013897947276976352), (3760, 0.0), (3761, 0.0), (3762, 0.0), (3763, 0.0), (3764, 0.0), (3765, 0.009513618087224961), (3766, 0.0), (3767, 0.0), (3768, 0.01224470416981138), (3769, 0.01637607929778304), (3770, 0.0), (3771, 0.0), (3772, 0.0), (3773, 0.0), (3774, 0.0), (3775, 0.0), (3776, 0.023656822916660228), (3777, 0.0), (3778, 0.00472587435842387), (3779, 0.0), (3780, 0.004993303554480582), (3781, 0.012382357634719798), (3782, 0.023804074343066514), (3783, 0.0), (3784, 0.0), (3785, 0.029113722868341914), (3786, 0.00451900375693643), (3787, 0.0), (3788, 0.0), (3789, 0.0), (3790, 0.013918425302045425), (3791, 0.0), (3792, 0.0), (3793, 0.0), (3794, 0.008894842030664367), (3795, 0.0), (3796, 0.0), (3797, 0.017835544091078927), (3798, 0.0), (3799, 0.0), (3800, 0.0), (3801, 0.015433026701185931), (3802, 0.010354329275692457), (3803, 0.015721971611488375), (3804, 0.0), (3805, 0.013568403766806866), (3806, 0.0), (3807, 0.0), (3808, 0.03588050610242525), (3809, 0.012017245893459873), (3810, 0.0049542272952466165), (3811, 0.0), (3812, 0.014314189850160749), (3813, 0.0), (3814, 0.0), (3815, 0.0), (3816, 0.014649934970218253), (3817, 0.02516294803053403), (3818, 0.0046467690709092735), (3819, 0.004458594242037391), (3820, 0.0), (3821, 0.00391259940490346), (3822, 0.02304511591868487), (3823, 0.008937598502359059), (3824, 0.010869869025265828), (3825, 0.04764685700337756), (3826, 0.015625530878520345), (3827, 0.0), (3828, 0.0), (3829, 0.04769135293970834), (3830, 0.030003463303951493), (3831, 0.0), (3832, 0.0), (3833, 0.0), (3834, 0.0), (3835, 0.007600463363230865), (3836, 0.0), (3837, 0.0), (3838, 0.08309722353019831), (3839, 0.01053086266111351), (3840, 0.012073393053926023), (3841, 0.004279427643511584), (3842, 0.0), (3843, 0.044178389123234796), (3844, 0.0), (3845, 0.0), (3846, 0.013525962199476285), (3847, 0.013479698503359113), (3848, 0.0), (3849, 0.0), (3850, 0.0), (3851, 0.0), (3852, 0.0702585113213669), (3853, 0.0), (3854, 0.013012327358633577), (3855, 0.0), (3856, 0.0), (3857, 0.004963639068666695), (3858, 0.018569892092794006), (3859, 0.0), (3860, 0.05913917288509092), (3861, 0.0), (3862, 0.0), (3863, 0.010771835924128894), (3864, 0.052469166272330676), (3865, 0.05327345932050298), (3866, 0.01957712234143015), (3867, 0.0), (3868, 0.004497585338704003), (3869, 0.0), (3870, 0.05692227034277779), (3871, 0.08982648098988345), (3872, 0.0), (3873, 0.0), (3874, 0.0), (3875, 0.007544597624418364), (3876, 0.011662356934209226), (3877, 0.0), (3878, 0.0), (3879, 0.0), (3880, 0.0), (3881, 0.0), (3882, 0.02131465903862012), (3883, 0.0), (3884, 0.0), (3885, 0.0), (3886, 0.004448569597351015), (3887, 0.0), (3888, 0.0), (3889, 0.012954897825677053), (3890, 0.020544615574669897), (3891, 0.004414017473936185), (3892, 0.0), (3893, 0.017951400613735947), (3894, 0.013176274189356173), (3895, 0.0), (3896, 0.0), (3897, 0.005081907547400328), (3898, 0.0), (3899, 0.0), (3900, 0.0), (3901, 0.0), (3902, 0.0), (3903, 0.01056400272894399), (3904, 0.0), (3905, 0.0), (3906, 0.027506470383735854), (3907, 0.009663583393611737), (3908, 0.0), (3909, 0.018780380711704223), (3910, 0.051491957780844616), (3911, 0.0), (3912, 0.0), (3913, 0.032703740151099794), (3914, 0.014819718694403362), (3915, 0.0), (3916, 0.020059982226307147), (3917, 0.004674370516757181), (3918, 0.0), (3919, 0.004920030559961885), (3920, 0.005019652248184912), (3921, 0.010488581335032523), (3922, 0.0), (3923, 0.0), (3924, 0.015195557259766962), (3925, 0.0), (3926, 0.01151164387035782), (3927, 0.0), (3928, 0.00407022909811293), (3929, 0.0), (3930, 0.0), (3931, 0.0), (3932, 0.0), (3933, 0.0), (3934, 0.0), (3935, 0.0), (3936, 0.0), (3937, 0.0), (3938, 0.0), (3939, 0.0), (3940, 0.007710825201392664), (3941, 0.0), (3942, 0.0), (3943, 0.03596529748860059), (3944, 0.004036990358213336), (3945, 0.0), (3946, 0.0), (3947, 0.0), (3948, 0.0), (3949, 0.0), (3950, 0.013071281471856322), (3951, 0.0), (3952, 0.0), (3953, 0.0), (3954, 0.0), (3955, 0.004599500250287968), (3956, 0.04531556667860489), (3957, 0.003947576692501337), (3958, 0.0), (3959, 0.004917388414480194), (3960, 0.010415799702287983), (3961, 0.0), (3962, 0.0), (3963, 0.004722927606850545), (3964, 0.0), (3965, 0.0), (3966, 0.013797100172674248), (3967, 0.0), (3968, 0.0), (3969, 0.016837612176674982), (3970, 0.0087589723748051), (3971, 0.0), (3972, 0.0), (3973, 0.028129485115189097), (3974, 0.0), (3975, 0.0), (3976, 0.0), (3977, 0.0), (3978, 0.0), (3979, 0.0), (3980, 0.004028738472410473), (3981, 0.0), (3982, 0.0), (3983, 0.010798963834479555), (3984, 0.01864351690674845), (3985, 0.0), (3986, 0.028926874613999426), (3987, 0.0), (3988, 0.0), (3989, 0.0), (3990, 0.0), (3991, 0.012775957840285623), (3992, 0.0), (3993, 0.02257008066647205), (3994, 0.02023764671999517), (3995, 0.0), (3996, 0.0), (3997, 0.012622745504275357), (3998, 0.004503550391419383), (3999, 0.0), (4000, 0.0), (4001, 0.009415163653544808), (4002, 0.0), (4003, 0.05677461663934173), (4004, 0.0), (4005, 0.0), (4006, 0.0), (4007, 0.006092481762314775), (4008, 0.0), (4009, 0.016765175918057734), (4010, 0.015908988644559103), (4011, 0.0), (4012, 0.004525573159166616), (4013, 0.004816887264036089), (4014, 0.0), (4015, 0.06032705076893689), (4016, 0.0), (4017, 0.0), (4018, 0.0), (4019, 0.0), (4020, 0.0), (4021, 0.0), (4022, 0.0), (4023, 0.013678114759142108), (4024, 0.0), (4025, 0.004729389806178973), (4026, 0.0), (4027, 0.0), (4028, 0.0), (4029, 0.0), (4030, 0.0), (4031, 0.0), (4032, 0.010592248520423824), (4033, 0.0), (4034, 0.014783955117005384), (4035, 0.0), (4036, 0.0), (4037, 0.026274386142604595), (4038, 0.004861884419919617), (4039, 0.0), (4040, 0.0), (4041, 0.0), (4042, 0.0), (4043, 0.0), (4044, 0.0), (4045, 0.0), (4046, 0.01301943041297003), (4047, 0.015372299056971623), (4048, 0.0), (4049, 0.0), (4050, 0.0), (4051, 0.051432737303026915), (4052, 0.0), (4053, 0.0), (4054, 0.04185057620129975), (4055, 0.008303879017099678), (4056, 0.0), (4057, 0.019643338450938488), (4058, 0.0), (4059, 0.004488894093391095), (4060, 0.0), (4061, 0.009830499766820119), (4062, 0.005371009507599517), (4063, 0.01588025762093187), (4064, 0.020619360647638852), (4065, 0.0), (4066, 0.012131460653551931), (4067, 0.0), (4068, 0.004585527964715313), (4069, 0.0), (4070, 0.025304864996891357), (4071, 0.0), (4072, 0.0), (4073, 0.0), (4074, 0.012443708402695045), (4075, 0.0), (4076, 0.014756005051183784), (4077, 0.0), (4078, 0.0), (4079, 0.010118093830454129), (4080, 0.0), (4081, 0.0), (4082, 0.0), (4083, 0.0), (4084, 0.0), (4085, 0.0), (4086, 0.01522612941507911), (4087, 0.0), (4088, 0.0), (4089, 0.05206094474139254), (4090, 0.03272499279753695), (4091, 0.0), (4092, 0.0), (4093, 0.0), (4094, 0.0), (4095, 0.020743210162477734), (4096, 0.0), (4097, 0.0), (4098, 0.012897950947041987), (4099, 0.04420354801377159), (4100, 0.0), (4101, 0.0), (4102, 0.0), (4103, 0.0), (4104, 0.010534225956689259), (4105, 0.0), (4106, 0.01928318300618158), (4107, 0.0), (4108, 0.004914640584059747), (4109, 0.012593559291127857), (4110, 0.008780397294252828), (4111, 0.012546233831320657), (4112, 0.017757518420263338), (4113, 0.014697621669500813), (4114, 0.0), (4115, 0.0), (4116, 0.0), (4117, 0.011121222932267008), (4118, 0.010359997733923959), (4119, 0.004966609103058937), (4120, 0.0), (4121, 0.0), (4122, 0.01186093762843358), (4123, 0.0), (4124, 0.0), (4125, 0.03242849843725414), (4126, 0.0), (4127, 0.0), (4128, 0.0), (4129, 0.0), (4130, 0.0), (4131, 0.0), (4132, 0.0), (4133, 0.0), (4134, 0.0), (4135, 0.031325110396824125), (4136, 0.004865245682944549), (4137, 0.004531586926368938), (4138, 0.012781138510595579), (4139, 0.0), (4140, 0.0), (4141, 0.0), (4142, 0.0), (4143, 0.012714833986367476), (4144, 0.022540830742897172), (4145, 0.0), (4146, 0.0), (4147, 0.02512344981230729), (4148, 0.0), (4149, 0.02769386292188585), (4150, 0.0), (4151, 0.0), (4152, 0.034651001708197016), (4153, 0.0), (4154, 0.0), (4155, 0.013098508259907193), (4156, 0.003972924821138256), (4157, 0.004552816692471234), (4158, 0.003968367875320394), (4159, 0.0), (4160, 0.0), (4161, 0.0), (4162, 0.03590402810569008), (4163, 0.0), (4164, 0.02535408308257179), (4165, 0.0), (4166, 0.0), (4167, 0.0), (4168, 0.0), (4169, 0.009881987724109484), (4170, 0.0), (4171, 0.034128677030723364), (4172, 0.0), (4173, 0.034139623613798936), (4174, 0.048453334871772336), (4175, 0.0), (4176, 0.004305239359637118), (4177, 0.012896884429044957), (4178, 0.04308994284074315), (4179, 0.0), (4180, 0.0), (4181, 0.0), (4182, 0.056540041715388754), (4183, 0.011666146718379908), (4184, 0.0), (4185, 0.0), (4186, 0.027995024493774993), (4187, 0.0), (4188, 0.0), (4189, 0.020217996677864697), (4190, 0.0), (4191, 0.022205006113314364), (4192, 0.008770378953753816), (4193, 0.0), (4194, 0.005655816259065153), (4195, 0.013356652758397092), (4196, 0.014679181575267528), (4197, 0.022489534622237416), (4198, 0.0), (4199, 0.0168508940074105), (4200, 0.0), (4201, 0.007979080514334911), (4202, 0.0), (4203, 0.019009490125444867), (4204, 0.0), (4205, 0.008794185906258392), (4206, 0.0), (4207, 0.014850937784079607), (4208, 0.0), (4209, 0.0), (4210, 0.029953075731955228), (4211, 0.0), (4212, 0.0), (4213, 0.0), (4214, 0.01823658462435615), (4215, 0.0), (4216, 0.0), (4217, 0.004435576818435167), (4218, 0.004616271437696149), (4219, 0.0), (4220, 0.02179434759374059), (4221, 0.0), (4222, 0.0), (4223, 0.0), (4224, 0.0), (4225, 0.03032149338096783), (4226, 0.0050359502973932905), (4227, 0.0), (4228, 0.0), (4229, 0.0), (4230, 0.0), (4231, 0.0), (4232, 0.0), (4233, 0.019748987992345757), (4234, 0.0), (4235, 0.0), (4236, 0.0), (4237, 0.07436763178332077), (4238, 0.0), (4239, 0.0), (4240, 0.013111998937326383), (4241, 0.009459544350184677), (4242, 0.017197488705457245), (4243, 0.0), (4244, 0.0), (4245, 0.012635057800881208), (4246, 0.0), (4247, 0.010768333016603201), (4248, 0.0), (4249, 0.0), (4250, 0.015014536511533854), (4251, 0.0), (4252, 0.015636349234089453), (4253, 0.0), (4254, 0.012113023620623754), (4255, 0.0), (4256, 0.0), (4257, 0.00434010608673756), (4258, 0.0), (4259, 0.0), (4260, 0.0), (4261, 0.0), (4262, 0.004825644428536045), (4263, 0.019854659554411208), (4264, 0.0), (4265, 0.004831496727772379), (4266, 0.0), (4267, 0.005306299275869511), (4268, 0.02544211282171121), (4269, 0.005271790307499989), (4270, 0.02386154928797598), (4271, 0.0), (4272, 0.0043573401032431435), (4273, 0.0), (4274, 0.0), (4275, 0.0), (4276, 0.03239621919960839), (4277, 0.03341784813898156), (4278, 0.0), (4279, 0.011935506087222403), (4280, 0.037546476024599845), (4281, 0.0053034382332022316), (4282, 0.008713944534108635), (4283, 0.04945895925388536), (4284, 0.0), (4285, 0.0), (4286, 0.0), (4287, 0.016504068892738748), (4288, 0.0), (4289, 0.012489814950812602), (4290, 0.018783429848152247), (4291, 0.0), (4292, 0.008949039036112081), (4293, 0.0), (4294, 0.0), (4295, 0.0), (4296, 0.0), (4297, 0.004177993478470141), (4298, 0.0), (4299, 0.0), (4300, 0.0), (4301, 0.0), (4302, 0.0), (4303, 0.029910283222929344), (4304, 0.018529803549237386), (4305, 0.0), (4306, 0.0), (4307, 0.0), (4308, 0.0), (4309, 0.0), (4310, 0.0), (4311, 0.0), (4312, 0.004908223932472018), (4313, 0.0), (4314, 0.01182985708978569), (4315, 0.0), (4316, 0.0), (4317, 0.0), (4318, 0.0), (4319, 0.0), (4320, 0.0), (4321, 0.0), (4322, 0.0), (4323, 0.01461756805219978), (4324, 0.013062332015457501), (4325, 0.015094482979276933), (4326, 0.0), (4327, 0.010988516367356049), (4328, 0.004448634320978), (4329, 0.028049851291600085), (4330, 0.005014052595581566), (4331, 0.0), (4332, 0.009782174686255501), (4333, 0.0), (4334, 0.0401459649152852), (4335, 0.0), (4336, 0.0), (4337, 0.03257848107768403), (4338, 0.013000832382717658), (4339, 0.00443302076108466), (4340, 0.0), (4341, 0.01578881193973466), (4342, 0.0), (4343, 0.008411938419779996), (4344, 0.007906615236733677), (4345, 0.023530479176595172), (4346, 0.014911686792884602), (4347, 0.013788195474208825), (4348, 0.004260842250683624), (4349, 0.0), (4350, 0.010883672218713926), (4351, 0.01969298211598397), (4352, 0.0), (4353, 0.0), (4354, 0.0), (4355, 0.0), (4356, 0.0), (4357, 0.0), (4358, 0.010411018123947997), (4359, 0.0), (4360, 0.0), (4361, 0.0), (4362, 0.0), (4363, 0.005105753478437196), (4364, 0.012034280016071808), (4365, 0.0), (4366, 0.010609332602550446), (4367, 0.0), (4368, 0.0), (4369, 0.0), (4370, 0.0), (4371, 0.0), (4372, 0.0), (4373, 0.0), (4374, 0.07060802429412438), (4375, 0.0), (4376, 0.017490824449342676), (4377, 0.0), (4378, 0.022343005229192206), (4379, 0.004835604446238134), (4380, 0.011613583722144818), (4381, 0.0), (4382, 0.0), (4383, 0.0), (4384, 0.0), (4385, 0.0), (4386, 0.0), (4387, 0.0), (4388, 0.01617146673084684), (4389, 0.0), (4390, 0.0), (4391, 0.0), (4392, 0.0), (4393, 0.0), (4394, 0.030590238306576846), (4395, 0.004803733276251966), (4396, 0.012625898373028577), (4397, 0.0), (4398, 0.0), (4399, 0.004354709354981145), (4400, 0.0), (4401, 0.03371168746456391), (4402, 0.01984827908277472), (4403, 0.0), (4404, 0.0), (4405, 0.020136343073241518), (4406, 0.0047597717871877936), (4407, 0.02186425392346115), (4408, 0.0), (4409, 0.011929092423433934), (4410, 0.037254643457796756), (4411, 0.047786641816150346), (4412, 0.0), (4413, 0.0), (4414, 0.0038495664350372406), (4415, 0.0), (4416, 0.0), (4417, 0.0), (4418, 0.0), (4419, 0.0), (4420, 0.009729176085494649), (4421, 0.024322702640897698), (4422, 0.012183790778876411), (4423, 0.0), (4424, 0.0), (4425, 0.0), (4426, 0.008470950404619485), (4427, 0.0), (4428, 0.0), (4429, 0.0), (4430, 0.0), (4431, 0.00986101137455253), (4432, 0.0), (4433, 0.03275915582322489), (4434, 0.0), (4435, 0.0), (4436, 0.004942863345254682), (4437, 0.0), (4438, 0.004501677321305494), (4439, 0.0), (4440, 0.0), (4441, 0.008715104958620714), (4442, 0.004449139475252537), (4443, 0.02919322874958964), (4444, 0.0), (4445, 0.007183311982548341), (4446, 0.0), (4447, 0.0), (4448, 0.005121830915052847), (4449, 0.0), (4450, 0.0), (4451, 0.011077436604863522), (4452, 0.0), (4453, 0.0), (4454, 0.017580015625434067), (4455, 0.0), (4456, 0.027698394177874945), (4457, 0.013784317313856364), (4458, 0.0), (4459, 0.004268244278466058), (4460, 0.018402958372551702), (4461, 0.0), (4462, 0.005032117686033484), (4463, 0.0), (4464, 0.0), (4465, 0.0), (4466, 0.0), (4467, 0.004675608500865614), (4468, 0.0), (4469, 0.0), (4470, 0.0), (4471, 0.0), (4472, 0.004371074864960305), (4473, 0.004285381349615552), (4474, 0.0), (4475, 0.0), (4476, 0.0), (4477, 0.005536797893213487), (4478, 0.0), (4479, 0.010859801765216831), (4480, 0.0), (4481, 0.0), (4482, 0.0), (4483, 0.0), (4484, 0.0), (4485, 0.032036304284198736), (4486, 0.0047179135871100435), (4487, 0.0), (4488, 0.0), (4489, 0.0), (4490, 0.0), (4491, 0.0), (4492, 0.01392469441773598), (4493, 0.0), (4494, 0.0), (4495, 0.0), (4496, 0.02748837063450637), (4497, 0.0), (4498, 0.04341777964392529), (4499, 0.0), (4500, 0.03573254636646023), (4501, 0.0), (4502, 0.011116927775815317), (4503, 0.0), (4504, 0.004531578674603526), (4505, 0.0), (4506, 0.0), (4507, 0.0), (4508, 0.0), (4509, 0.0), (4510, 0.0), (4511, 0.011438659057066185), (4512, 0.0), (4513, 0.0), (4514, 0.0), (4515, 0.004996786893011759), (4516, 0.0), (4517, 0.0), (4518, 0.019586156092395657), (4519, 0.025321024970097854), (4520, 0.0), (4521, 0.0), (4522, 0.0), (4523, 0.04482882090882851), (4524, 0.054845968084903385), (4525, 0.0), (4526, 0.01655202217198737), (4527, 0.0), (4528, 0.0), (4529, 0.0), (4530, 0.0), (4531, 0.0), (4532, 0.0), (4533, 0.0), (4534, 0.008939877844095192), (4535, 0.0), (4536, 0.0), (4537, 0.0), (4538, 0.0), (4539, 0.0), (4540, 0.0), (4541, 0.007087780317067822), (4542, 0.0), (4543, 0.0), (4544, 0.0), (4545, 0.0), (4546, 0.0), (4547, 0.0), (4548, 0.024845663944932147), (4549, 0.005154049010592502), (4550, 0.0), (4551, 0.014773742232243297), (4552, 0.0), (4553, 0.011447145853310125), (4554, 0.0), (4555, 0.020444029066550594), (4556, 0.0), (4557, 0.0), (4558, 0.010638669930051779), (4559, 0.0), (4560, 0.0), (4561, 0.0), (4562, 0.0), (4563, 0.0), (4564, 0.004428501896629928), (4565, 0.0), (4566, 0.029800851176038114), (4567, 0.00937639026745549), (4568, 0.004244773499162221), (4569, 0.015169847017035911), (4570, 0.016528651393769238), (4571, 0.0), (4572, 0.0), (4573, 0.0), (4574, 0.0), (4575, 0.0), (4576, 0.03147988961239504), (4577, 0.0), (4578, 0.0), (4579, 0.02941220292907626), (4580, 0.0), (4581, 0.0), (4582, 0.022304584531813648), (4583, 0.0), (4584, 0.0), (4585, 0.0), (4586, 0.0), (4587, 0.0), (4588, 0.0), (4589, 0.01081509762933444), (4590, 0.004046836112230026), (4591, 0.01162644312730351), (4592, 0.004655311017328638), (4593, 0.0), (4594, 0.0), (4595, 0.0), (4596, 0.007965947765102671), (4597, 0.0), (4598, 0.015481067089913949), (4599, 0.0), (4600, 0.004442669645610771), (4601, 0.0), (4602, 0.0), (4603, 0.0), (4604, 0.016988878283129245), (4605, 0.0437937219319119), (4606, 0.012219278327341652), (4607, 0.013503431865598992), (4608, 0.0), (4609, 0.012211597788863318), (4610, 0.010244371251492426), (4611, 0.0), (4612, 0.0058717125806639564), (4613, 0.01892186632600952), (4614, 0.0), (4615, 0.0), (4616, 0.011148784497987821), (4617, 0.0), (4618, 0.0), (4619, 0.0), (4620, 0.0), (4621, 0.004995054438966537), (4622, 0.0), (4623, 0.009225971334108452), (4624, 0.010126279867209074), (4625, 0.02657325107189377), (4626, 0.0), (4627, 0.010680154676432203), (4628, 0.0), (4629, 0.004851366167165981), (4630, 0.0), (4631, 0.0), (4632, 0.0), (4633, 0.02834022350708589), (4634, 0.004315189411504151), (4635, 0.0), (4636, 0.0), (4637, 0.0), (4638, 0.0), (4639, 0.0), (4640, 0.04223295706848648), (4641, 0.0592542206569302), (4642, 0.0), (4643, 0.0), (4644, 0.0), (4645, 0.0), (4646, 0.0), (4647, 0.04939237638036534), (4648, 0.0), (4649, 0.0), (4650, 0.0105760193698054), (4651, 0.0), (4652, 0.007506774335255348), (4653, 0.0), (4654, 0.0), (4655, 0.0), (4656, 0.0), (4657, 0.0), (4658, 0.024509189262282797), (4659, 0.0), (4660, 0.0), (4661, 0.01043672566326836), (4662, 0.03129576583539673), (4663, 0.0), (4664, 0.0), (4665, 0.04473214099989439), (4666, 0.0), (4667, 0.0), (4668, 0.0), (4669, 0.0), (4670, 0.0), (4671, 0.0), (4672, 0.0), (4673, 0.0), (4674, 0.022624086859686317), (4675, 0.0), (4676, 0.014752228138763727), (4677, 0.009551753901491116), (4678, 0.0), (4679, 0.008560816547232007), (4680, 0.0), (4681, 0.0), (4682, 0.008947505299656246), (4683, 0.0), (4684, 0.0), (4685, 0.0), (4686, 0.004696869163847395), (4687, 0.00458690208375374), (4688, 0.021417061140300682), (4689, 0.00429974749563926), (4690, 0.0), (4691, 0.0), (4692, 0.0), (4693, 0.0), (4694, 0.0), (4695, 0.03311559871955346), (4696, 0.0), (4697, 0.0), (4698, 0.0), (4699, 0.0), (4700, 0.0), (4701, 0.0), (4702, 0.0), (4703, 0.012125455724145058), (4704, 0.0), (4705, 0.0), (4706, 0.0), (4707, 0.0), (4708, 0.0), (4709, 0.0), (4710, 0.0), (4711, 0.0), (4712, 0.0), (4713, 0.0), (4714, 0.0), (4715, 0.0), (4716, 0.0), (4717, 0.0), (4718, 0.0), (4719, 0.0), (4720, 0.0), (4721, 0.014940600906336188), (4722, 0.0), (4723, 0.0), (4724, 0.0), (4725, 0.0), (4726, 0.0), (4727, 0.0), (4728, 0.01286460003600787), (4729, 0.0), (4730, 0.0), (4731, 0.0), (4732, 0.01759057387136711), (4733, 0.0), (4734, 0.0), (4735, 0.03284762488083046), (4736, 0.009311202054544835), (4737, 0.0), (4738, 0.032225823816845994), (4739, 0.0), (4740, 0.0), (4741, 0.0), (4742, 0.0), (4743, 0.009117668953386072), (4744, 0.0), (4745, 0.0), (4746, 0.0295386531620445), (4747, 0.010601915807268205), (4748, 0.004037463584677343), (4749, 0.0), (4750, 0.0), (4751, 0.0), (4752, 0.02052848235194086), (4753, 0.0), (4754, 0.04831792750529311), (4755, 0.0), (4756, 0.009614473419025627), (4757, 0.0), (4758, 0.0), (4759, 0.0)]\n"
          ]
        }
      ]
    },
    {
      "cell_type": "code",
      "source": [
        "len(Recommendation_Score)"
      ],
      "metadata": {
        "colab": {
          "base_uri": "https://localhost:8080/"
        },
        "id": "8ll3vXK9NYAX",
        "outputId": "15328677-75ed-407a-e4ad-3dbf2072fbd7"
      },
      "execution_count": 38,
      "outputs": [
        {
          "output_type": "execute_result",
          "data": {
            "text/plain": [
              "4760"
            ]
          },
          "metadata": {},
          "execution_count": 38
        }
      ]
    },
    {
      "cell_type": "code",
      "source": [
        "Sorted_Similar_Movies = sorted(Recommendation_Score , key = lambda x:x[1], reverse= True)\n",
        "print(Sorted_Similar_Movies)"
      ],
      "metadata": {
        "colab": {
          "base_uri": "https://localhost:8080/"
        },
        "id": "hxU8QVqSNkGW",
        "outputId": "5a77f4ec-c0f0-4b52-9124-3968890b38b4"
      },
      "execution_count": 40,
      "outputs": [
        {
          "output_type": "stream",
          "name": "stdout",
          "text": [
            "[(2, 1.0), (247, 0.13165843050488332), (3467, 0.12370418176345627), (230, 0.11908027434400197), (1714, 0.11617902073919108), (2647, 0.10379052444865501), (1276, 0.10147676855245019), (2897, 0.09992308193227725), (1557, 0.09922218430901178), (3162, 0.09841134358161055), (1646, 0.09653774568218997), (1251, 0.091941120823412), (106, 0.09172975814859874), (3871, 0.08982648098988345), (14, 0.08557563690511474), (1886, 0.08515624993694727), (1473, 0.08395798652061733), (2016, 0.08375055724724575), (3838, 0.08309722353019831), (178, 0.0818799853784977), (2591, 0.08090129866064467), (1810, 0.08031828876065356), (2135, 0.07865136309880838), (752, 0.07742828584785279), (2098, 0.07728781456108874), (385, 0.07719299775162765), (2393, 0.07687397917417862), (286, 0.07657960647715087), (2433, 0.07579498923004273), (709, 0.07502152737526725), (4237, 0.07436763178332077), (624, 0.07430599286362866), (1737, 0.0738333100036124), (1860, 0.07382430778139323), (3660, 0.0735795288137186), (2623, 0.07295690475344321), (3213, 0.07251809170170023), (794, 0.072329351483725), (619, 0.07215816678972853), (1813, 0.07139972092417153), (698, 0.07122182295392934), (3621, 0.07087792976340307), (3632, 0.07070531397885109), (4374, 0.07060802429412438), (3852, 0.0702585113213669), (2335, 0.06933443416404114), (293, 0.06930408884673474), (1586, 0.06923800928554483), (3201, 0.06916246866097799), (1176, 0.06899382430705998), (2322, 0.06867888541061992), (2264, 0.0683185014055874), (2443, 0.06823342653493092), (1477, 0.06806277725043296), (1758, 0.06781399353119813), (540, 0.06732851266962983), (182, 0.06701014753058368), (3471, 0.0666869181680684), (3120, 0.06566684814327174), (1964, 0.06564785271116895), (1257, 0.06555126361582393), (1903, 0.06539169253833454), (705, 0.06530891137247682), (1700, 0.06358429049311942), (1523, 0.06325131298427977), (2938, 0.0632052879809398), (2321, 0.06271290407027307), (1505, 0.062286676835624), (3144, 0.062262734335567074), (3331, 0.06209984332465767), (459, 0.06197224952912627), (353, 0.06173490198462899), (3283, 0.06158682685861194), (239, 0.061429323034968564), (427, 0.06090489667620368), (2682, 0.06043011140466329), (4015, 0.06032705076893689), (1319, 0.060311466036435196), (4641, 0.0592542206569302), (989, 0.05914522588996726), (3860, 0.05913917288509092), (1974, 0.05903772673317861), (1834, 0.05883884855085722), (137, 0.058316388914776425), (3415, 0.05831274424647592), (881, 0.057901342135776135), (853, 0.057357282734923125), (121, 0.0573021099849088), (3870, 0.05692227034277779), (4003, 0.05677461663934173), (4182, 0.056540041715388754), (1092, 0.05636325070584051), (2813, 0.05621200059313956), (2145, 0.05607712441245661), (3412, 0.055953114678946855), (463, 0.05592310338409939), (911, 0.05525845696955367), (185, 0.055069249713277334), (2161, 0.054851652360994894), (4524, 0.054845968084903385), (1072, 0.05463456447450868), (2250, 0.05429454782716733), (3865, 0.05327345932050298), (1094, 0.053214656815687586), (2061, 0.0531699186093328), (1210, 0.05291382349250227), (1833, 0.05272609480146134), (566, 0.052676238478487264), (1544, 0.05250540708900488), (3864, 0.052469166272330676), (1327, 0.05227197082757827), (1009, 0.052254822962427255), (4089, 0.05206094474139254), (3698, 0.051576798156960764), (2835, 0.05153862654592588), (3910, 0.051491957780844616), (4051, 0.051432737303026915), (2190, 0.051237728750208586), (3648, 0.05112753107886527), (2509, 0.0507992316894709), (691, 0.05074126959023084), (2138, 0.05030061976693406), (3181, 0.04989810275006394), (3390, 0.049892300814664), (2584, 0.0498696707495315), (2857, 0.049479760932223976), (4283, 0.04945895925388536), (4647, 0.04939237638036534), (2568, 0.049379274600824814), (2747, 0.049310070295529605), (160, 0.049217847228395735), (768, 0.04918318805823847), (2290, 0.049099082960432625), (4174, 0.048453334871772336), (2668, 0.04837966634922451), (4754, 0.04831792750529311), (852, 0.04813194458184426), (562, 0.04787026211653724), (4411, 0.047786641816150346), (3829, 0.04769135293970834), (1845, 0.04768778546469277), (3825, 0.04764685700337756), (1082, 0.04764431472990322), (472, 0.04755036122618317), (2809, 0.047386506114817574), (1950, 0.04728111864204436), (546, 0.0471717584121384), (165, 0.04708178573456448), (421, 0.04682742449805602), (1365, 0.04676672045467191), (651, 0.046725778038905846), (1920, 0.04666780192919518), (3559, 0.0465710442582895), (862, 0.045915946470424795), (3659, 0.045878249590848845), (946, 0.04579031114790213), (2340, 0.04534250599891179), (3956, 0.04531556667860489), (2299, 0.045245958861246285), (3611, 0.04506138834464239), (3027, 0.0448595285448703), (3225, 0.044853157389589615), (4523, 0.04482882090882851), (1450, 0.04481408152166528), (3302, 0.04478557834132413), (4665, 0.04473214099989439), (1212, 0.04452735713951777), (3531, 0.04432742336831582), (665, 0.04423062463203425), (4099, 0.04420354801377159), (1010, 0.04419640966897348), (1409, 0.04419488231675651), (2654, 0.04419223036318161), (3843, 0.044178389123234796), (79, 0.044146514796313124), (2445, 0.044104948567515), (1433, 0.043917005698386316), (1771, 0.043872768747948654), (4605, 0.0437937219319119), (4498, 0.04341777964392529), (2218, 0.04340717874624072), (3116, 0.04323883196356565), (2759, 0.04322265071860065), (4178, 0.04308994284074315), (1364, 0.042613099029159544), (879, 0.042466512554601515), (4640, 0.04223295706848648), (1842, 0.042151715801068315), (4054, 0.04185057620129975), (1339, 0.04169573348136264), (2752, 0.04161367260298167), (1496, 0.041591843728129935), (880, 0.041462297888856), (2221, 0.04123805223775249), (2280, 0.041226076899439745), (2197, 0.040539689656947535), (2553, 0.04043841253281148), (1724, 0.04021349814285782), (4334, 0.0401459649152852), (1351, 0.040125833276265274), (730, 0.040117620994530284), (1202, 0.04003735818148914), (1743, 0.039959998556288984), (2660, 0.03994731533948303), (1050, 0.039913830838865655), (2329, 0.03973992015582705), (3109, 0.03973384800136513), (3653, 0.03958550938541659), (2925, 0.039349545277857674), (3212, 0.03918719376784896), (1468, 0.03911010631498075), (3119, 0.03903830472622195), (233, 0.0388886380234768), (2649, 0.03885862247504737), (2944, 0.038608698865776045), (3030, 0.03856673991487337), (2580, 0.038415353117581756), (3228, 0.03839235503715968), (2980, 0.03815278270487965), (1574, 0.03814437767261425), (1405, 0.03808500314739403), (0, 0.03807032572268844), (1041, 0.03805030927414282), (1305, 0.03791433729094456), (1454, 0.03790112934961823), (2884, 0.037884639819604916), (2502, 0.037878734309282076), (2667, 0.03766684058652495), (1778, 0.037600783938320455), (4280, 0.037546476024599845), (596, 0.03741980032909414), (1698, 0.03727131979759665), (4410, 0.037254643457796756), (1568, 0.03704327771364166), (1226, 0.03700650157940813), (212, 0.03698586008220983), (2615, 0.03687918742583726), (1935, 0.036864768647098006), (815, 0.0368479736143885), (2102, 0.03650962934665532), (3361, 0.03638089736461171), (1799, 0.03636612921827598), (2753, 0.03629197035727631), (1002, 0.03624610945234066), (1241, 0.03621064417927049), (2814, 0.03609364623133593), (1584, 0.03601215731087559), (3943, 0.03596529748860059), (4162, 0.03590402810569008), (3808, 0.03588050610242525), (2392, 0.03587605080138093), (1933, 0.0358643891951021), (3540, 0.03581303653030718), (4500, 0.03573254636646023), (948, 0.03570995469040045), (1862, 0.03566291649148507), (2234, 0.03546405944246364), (70, 0.03542239723172083), (594, 0.035404962545353046), (1664, 0.03533399294609195), (2398, 0.03527008247414434), (3260, 0.03521836427297011), (912, 0.03519094683575736), (708, 0.03505481252742362), (1953, 0.03504199009659703), (988, 0.0350153446308377), (2965, 0.03496968947910891), (2588, 0.03493046627142394), (2005, 0.034901007731317296), (3047, 0.03485766396263607), (1254, 0.03478663304324652), (1789, 0.03475538487891741), (1178, 0.03466146664369883), (4152, 0.034651001708197016), (2541, 0.03461624256697865), (1478, 0.03459107856604869), (1959, 0.03458653088667271), (3238, 0.03442001735936329), (429, 0.034413962743681324), (567, 0.03441336704531374), (3488, 0.03440643309936187), (643, 0.03438009091570024), (474, 0.034362988282619966), (1926, 0.034279062865919536), (2359, 0.034240554179918996), (217, 0.03423043080223216), (4173, 0.034139623613798936), (4171, 0.034128677030723364), (1021, 0.034016675356048076), (337, 0.03401367355449056), (1080, 0.033997791678335144), (3208, 0.03394728012300722), (146, 0.03390278428278766), (1356, 0.03388290002004113), (1817, 0.03377197378105781), (4401, 0.03371168746456391), (1760, 0.033610640977317315), (1762, 0.0335602702658295), (155, 0.03354741550035384), (1182, 0.033517420557972855), (96, 0.033471818807117096), (887, 0.033425018232883165), (4277, 0.03341784813898156), (3103, 0.033246344831854895), (108, 0.03322500584940298), (893, 0.03315163276338265), (4695, 0.03311559871955346), (3308, 0.033085039772035855), (4735, 0.03284762488083046), (2292, 0.03276490553660232), (4433, 0.03275915582322489), (4090, 0.03272499279753695), (1794, 0.032724040418381894), (3913, 0.032703740151099794), (3509, 0.03260291071405715), (3526, 0.03259076517476922), (4337, 0.03257848107768403), (2962, 0.03256172226291742), (2540, 0.03255496672890227), (787, 0.03244731744570177), (4125, 0.03242849843725414), (4276, 0.03239621919960839), (3506, 0.03237411533494784), (2406, 0.03236420568093159), (2664, 0.032320544836239015), (173, 0.03227530917013583), (4738, 0.032225823816845994), (1855, 0.03219628623175131), (2360, 0.032170000669764484), (2370, 0.03210816076872667), (753, 0.032102005559447214), (4485, 0.032036304284198736), (1495, 0.031987006251274104), (500, 0.031927990104935425), (1550, 0.03185670106119863), (2611, 0.031838052602611376), (1948, 0.03180745334490734), (166, 0.03177883598591808), (1629, 0.031734034634647273), (640, 0.031688655030566976), (198, 0.03162589873422597), (3373, 0.03161134228059911), (1529, 0.03157092627767467), (2852, 0.03156847283614256), (1216, 0.031532444856049176), (1152, 0.03152790392139603), (806, 0.031522315181885883), (3662, 0.03150575269207976), (3457, 0.031486896370885205), (4576, 0.03147988961239504), (3263, 0.0314733432827761), (2118, 0.03143152695687793), (1764, 0.03143140532122289), (1694, 0.03139357252558189), (2097, 0.03136950620874827), (3288, 0.03135506528898711), (4135, 0.031325110396824125), (4662, 0.03129576583539673), (392, 0.031081413455469324), (1927, 0.03106795862528449), (1279, 0.03090608768861193), (2000, 0.030880172423215533), (3306, 0.03086691098359502), (428, 0.030753472580431332), (2476, 0.030672442899543236), (4394, 0.030590238306576846), (1703, 0.030573719517835763), (1284, 0.030553673980021602), (1787, 0.03053406904172326), (850, 0.030518967734576328), (140, 0.03050063095568907), (446, 0.030457163378801232), (2303, 0.030456895905233664), (2646, 0.030375611480401805), (144, 0.030333597894960117), (4225, 0.03032149338096783), (2662, 0.030263075526670527), (22, 0.03017256658445099), (3270, 0.03010519638714495), (488, 0.030094297673155388), (1296, 0.030093335341825844), (1427, 0.030073507088812068), (269, 0.030015006236062115), (3830, 0.030003463303951493), (256, 0.02997811783298606), (561, 0.0299669864659919), (4210, 0.029953075731955228), (620, 0.029950781370340893), (4303, 0.029910283222929344), (2104, 0.029905689218414744), (743, 0.029901408596051313), (1538, 0.029859596328114874), (1609, 0.029839469721543763), (1944, 0.029800874522978804), (4566, 0.029800851176038114), (2634, 0.029650538246336806), (578, 0.029564127760796213), (4746, 0.0295386531620445), (778, 0.02949703195220354), (53, 0.029475447357403373), (91, 0.029455543462414562), (2263, 0.029412264246985613), (4579, 0.02941220292907626), (846, 0.02935078020173576), (1107, 0.029245096944827402), (4443, 0.02919322874958964), (3722, 0.02912887605150289), (3785, 0.029113722868341914), (2353, 0.02905515049999044), (3685, 0.02902675994538935), (1562, 0.029006911518845255), (3294, 0.028973235757472147), (2957, 0.028972508899453627), (1570, 0.028959475836610182), (548, 0.028930321568438354), (3986, 0.028926874613999426), (1682, 0.028917384976054006), (1046, 0.028847819318509924), (1038, 0.028812314122742884), (2372, 0.028775153591110283), (406, 0.028667477317149595), (355, 0.02862236444423598), (3441, 0.028606093922309173), (1715, 0.028578438769526388), (3129, 0.028576156777620994), (1412, 0.028513429361079763), (1888, 0.02843835543173707), (461, 0.02842218208410865), (1095, 0.028349870422029334), (4633, 0.02834022350708589), (508, 0.02834011705908195), (507, 0.02821857020718961), (2666, 0.028199161657260708), (72, 0.028184552650138972), (1195, 0.028168089856890805), (2109, 0.028164574479686115), (3973, 0.028129485115189097), (703, 0.028124032495959704), (1180, 0.0280547596441224), (4329, 0.028049851291600085), (932, 0.02803400451181303), (4186, 0.027995024493774993), (2283, 0.02798061519995747), (3631, 0.027828763758532517), (1647, 0.027827676605650456), (769, 0.027811592116675818), (524, 0.027764343585446275), (4456, 0.027698394177874945), (4149, 0.02769386292188585), (3328, 0.027630839654182244), (1676, 0.027614887850077197), (3607, 0.02760729590466879), (3906, 0.027506470383735854), (3548, 0.027500172895714402), (4496, 0.02748837063450637), (26, 0.027419348962276654), (346, 0.027405070126909147), (196, 0.027294402632023623), (1025, 0.027261565852477042), (3098, 0.02724701944698144), (530, 0.027215637607335762), (2789, 0.027194275343738403), (821, 0.027159625705767507), (2196, 0.027117363198426864), (1333, 0.02707859368348546), (363, 0.027066313938112714), (2245, 0.027025917993535535), (179, 0.027022689085760568), (3256, 0.026981065640066127), (717, 0.026953808342167894), (1485, 0.026845225497089717), (1430, 0.026836692248536846), (3313, 0.026754993327669927), (2766, 0.026746460794695358), (2113, 0.02670657149038767), (2100, 0.026704808659930808), (350, 0.026675183610666325), (3495, 0.026637540957494814), (742, 0.026631883754946503), (4625, 0.02657325107189377), (3272, 0.026564843853262982), (1812, 0.026564803721442716), (3133, 0.026558144259605967), (2720, 0.026554333363532585), (538, 0.026547573989476735), (3550, 0.026531815422755945), (3218, 0.0264927783918049), (170, 0.026472319280633178), (3589, 0.02640429558801747), (1492, 0.02639863137018384), (2232, 0.026334037840866575), (2583, 0.026308382709404582), (3286, 0.026292973141227218), (4037, 0.026274386142604595), (49, 0.02612234423804168), (3317, 0.026122262224428656), (2184, 0.026080733512336595), (953, 0.025981921504118523), (926, 0.02592408378205411), (3674, 0.025910378388909614), (1259, 0.025905012589184546), (1868, 0.025893574768506004), (2114, 0.02588443000948478), (1166, 0.0258614691602245), (954, 0.025800883104805123), (1456, 0.025692767254159445), (324, 0.025661419143435053), (498, 0.025657782189572778), (884, 0.025597239042920033), (1578, 0.025571595726865612), (1057, 0.02544360269953088), (4268, 0.02544211282171121), (4164, 0.02535408308257179), (4519, 0.025321024970097854), (4070, 0.025304864996891357), (2167, 0.0252805301138214), (2022, 0.02524117870285745), (3817, 0.02516294803053403), (3746, 0.025162115160870017), (1282, 0.025155849161443568), (4147, 0.02512344981230729), (646, 0.025117966736179317), (1937, 0.025114757605576257), (1114, 0.025099150703854815), (2408, 0.02509823712849136), (3421, 0.025078275759840927), (995, 0.025023426456369298), (3517, 0.02501883552461337), (2227, 0.024951358493444386), (731, 0.024921413533805593), (4548, 0.024845663944932147), (3179, 0.02482329837282481), (3422, 0.024786767461950732), (2831, 0.02475374573838682), (740, 0.024668233402021438), (1163, 0.024665975732335924), (2450, 0.024541696454396453), (2014, 0.02454115644720779), (3252, 0.024529076736068998), (4658, 0.024509189262282797), (935, 0.02448857825798422), (356, 0.024451597000124448), (2212, 0.02442774595558922), (2237, 0.024425305214921825), (3375, 0.02440201702650076), (360, 0.024365742199430374), (362, 0.02436534699751268), (3209, 0.02435480197867172), (4421, 0.024322702640897698), (277, 0.02431018220052811), (829, 0.024278883323039353), (370, 0.02415721771103212), (662, 0.024149493053417063), (3515, 0.02412690115730718), (3024, 0.02411760005886141), (906, 0.02405865513352116), (1861, 0.024036307394594957), (3173, 0.024018002603290067), (2060, 0.02398480633746344), (2839, 0.02397820850799739), (469, 0.023947499688056935), (1891, 0.023929939604131225), (2211, 0.02389639429424726), (4270, 0.02386154928797598), (3782, 0.023804074343066514), (936, 0.023746411396585107), (2563, 0.023681186745878387), (3776, 0.023656822916660228), (3297, 0.023648815656600028), (1503, 0.02364439829420762), (279, 0.023619233068021706), (621, 0.02360774428477231), (1336, 0.023590752220399608), (3650, 0.02357504017419098), (3231, 0.023562937149672697), (3734, 0.023540030429413498), (4345, 0.023530479176595172), (327, 0.02345164583162203), (1237, 0.023405629050885623), (1211, 0.02330512375252832), (1979, 0.023283090210098292), (1321, 0.02327130896976765), (455, 0.023215035773307028), (804, 0.023197462985443923), (555, 0.023150991327499162), (3315, 0.023125766514102697), (229, 0.023070277834191907), (3822, 0.02304511591868487), (2121, 0.023037897222941986), (130, 0.023006226502961177), (1390, 0.022937960715260566), (2589, 0.022917800331659785), (2442, 0.022903788236049962), (597, 0.022878580208583715), (3606, 0.02281621406573068), (891, 0.022778739856656433), (657, 0.022770315463823042), (4674, 0.022624086859686317), (899, 0.02258781503282918), (3993, 0.02257008066647205), (1992, 0.0225603240401722), (1559, 0.022555057054107833), (4144, 0.022540830742897172), (1383, 0.022514684975307467), (4197, 0.022489534622237416), (609, 0.022488745288114134), (699, 0.02246723619147142), (1552, 0.022445940944873916), (2235, 0.02243834644197641), (3456, 0.022435684844289747), (3111, 0.0223839720844181), (136, 0.022350088500742857), (4378, 0.022343005229192206), (1910, 0.02231945206053568), (4582, 0.022304584531813648), (47, 0.022293294225954267), (3320, 0.02228780184586121), (1876, 0.022243358758292746), (3366, 0.022206725584508404), (4191, 0.022205006113314364), (1755, 0.022202363518747256), (1090, 0.022186702112509882), (86, 0.02217703203551901), (2494, 0.02215821701276397), (2059, 0.022112457061724388), (434, 0.022104199334178294), (2760, 0.0221038238216072), (3668, 0.022092248527541453), (2352, 0.022033374118387412), (1824, 0.021971715975067294), (1776, 0.021919637784593132), (4407, 0.02186425392346115), (187, 0.021862021468409504), (560, 0.021852208645542916), (379, 0.021845178643197412), (4220, 0.02179434759374059), (192, 0.021772460748886866), (231, 0.02176756963148615), (856, 0.021683196204073222), (648, 0.021663486762760312), (2201, 0.02153683998797439), (2793, 0.021503004805440484), (1307, 0.021476079512981187), (2040, 0.021417986545712173), (4688, 0.021417061140300682), (706, 0.021409472300964294), (58, 0.02140915913328926), (3503, 0.021367037333307352), (1808, 0.021364043132298928), (810, 0.021344015455631464), (855, 0.021342695861282932), (1105, 0.02133500525163983), (3344, 0.02133263410355704), (3882, 0.02131465903862012), (3657, 0.021313629213890923), (1645, 0.021280283189576768), (2585, 0.021194241427463335), (785, 0.021186241270065027), (3092, 0.02116060311279783), (3518, 0.021138768910105), (1291, 0.021131548063560816), (2762, 0.021099533970133998), (1472, 0.021091788338057037), (1344, 0.021022305751385875), (3594, 0.020996997421717595), (3578, 0.020949823696577635), (2710, 0.020916806520884613), (2964, 0.02090678237016116), (1253, 0.0208489890414195), (1666, 0.02083436122492943), (831, 0.02082729756651342), (1828, 0.020775951229780924), (690, 0.020756985033801096), (4095, 0.020743210162477734), (1026, 0.020649945953367485), (4064, 0.020619360647638852), (1561, 0.020617424902681356), (532, 0.02059127374767621), (2111, 0.020586400861155166), (1008, 0.020585616985589493), (894, 0.02058005180470754), (2663, 0.02057952960935401), (3890, 0.020544615574669897), (75, 0.020534038209426904), (4752, 0.02052848235194086), (373, 0.020483365371850817), (3338, 0.02045159826879083), (4555, 0.020444029066550594), (2908, 0.020421338881329475), (780, 0.02028991885437738), (496, 0.020276362289274055), (202, 0.02025188512469101), (3994, 0.02023764671999517), (2195, 0.02023239065355849), (4189, 0.020217996677864697), (1954, 0.020214904852132738), (1640, 0.020209575236634754), (3101, 0.02019841111268201), (4405, 0.020136343073241518), (3916, 0.020059982226307147), (2517, 0.01997280060326408), (1925, 0.01994999682542669), (4263, 0.019854659554411208), (4402, 0.01984827908277472), (2327, 0.0197549858636853), (4233, 0.019748987992345757), (2952, 0.019721904751303625), (4351, 0.01969298211598397), (3244, 0.019684536215540525), (2140, 0.01968292169766552), (3616, 0.01968019425053979), (1011, 0.019667850712416994), (1278, 0.019653635017257233), (4057, 0.019643338450938488), (517, 0.019623922636929428), (3430, 0.019611784596374818), (4518, 0.019586156092395657), (2236, 0.019583318537141663), (3866, 0.01957712234143015), (3444, 0.019522003560252032), (2266, 0.01951336484389762), (2996, 0.019499157316430968), (2055, 0.0194885299641823), (451, 0.01945119817451553), (3199, 0.01943959367046717), (2851, 0.019413788436976227), (1487, 0.019362911063577452), (465, 0.019305295514323143), (4106, 0.01928318300618158), (1841, 0.01924250343436838), (1306, 0.01923718012949197), (265, 0.019153718589623503), (874, 0.019138978071848983), (2746, 0.019121375599962298), (1725, 0.019118439330861308), (3461, 0.019118220570535374), (27, 0.019044293720978402), (1569, 0.01903209764149727), (4203, 0.019009490125444867), (270, 0.019001715881175434), (2844, 0.018979871406094202), (2570, 0.018972206536825676), (1864, 0.01895284860444499), (4613, 0.01892186632600952), (2297, 0.01889869450870886), (495, 0.018872289054255684), (820, 0.018871519138491694), (1494, 0.01884329938656626), (3057, 0.01882366378344977), (2632, 0.018796797518918874), (4290, 0.018783429848152247), (3909, 0.018780380711704223), (1458, 0.018767068398090992), (3458, 0.01871849186210804), (1018, 0.018697792278349307), (1109, 0.01867366187133119), (2504, 0.018647104767852314), (3984, 0.01864351690674845), (1616, 0.01861006256977197), (317, 0.018609912026769024), (900, 0.018593899927332413), (3858, 0.018569892092794006), (985, 0.018542725949036585), (4304, 0.018529803549237386), (2824, 0.01847460601003823), (4460, 0.018402958372551702), (1489, 0.01840213897506354), (2981, 0.01836315859825004), (3205, 0.01830544029566776), (1774, 0.018285095333895246), (3730, 0.018274774629941332), (3658, 0.018274684051122696), (1467, 0.018262442872910508), (4214, 0.01823658462435615), (1701, 0.018205426903527992), (3312, 0.018182937059748914), (2560, 0.018166226437413405), (2626, 0.018165071128122327), (1353, 0.01813838677972491), (1511, 0.01813486107230225), (847, 0.01811553659944385), (1118, 0.01808347602084296), (1453, 0.018064277985707367), (10, 0.018053702621056687), (1295, 0.018039370710325842), (2414, 0.0180331108943309), (2854, 0.01797760714660713), (2951, 0.01796460324335028), (3893, 0.017951400613735947), (2036, 0.017942429623528683), (2840, 0.017939482071552083), (683, 0.017936605756592974), (991, 0.017901561675220373), (3797, 0.017835544091078927), (203, 0.01782295303548998), (1464, 0.01782246887404481), (737, 0.017807508273909332), (3681, 0.017805100119628273), (2413, 0.01780426710646325), (695, 0.017793763441932845), (57, 0.01776069890849615), (4112, 0.017757518420263338), (958, 0.01775723052257157), (1582, 0.017737175176921367), (2633, 0.017731708612781262), (415, 0.017731126770373414), (2715, 0.017668063203595586), (2365, 0.017666735948369434), (1614, 0.017615185285265685), (441, 0.01760946928883544), (4732, 0.01759057387136711), (4454, 0.017580015625434067), (384, 0.017564279707854104), (73, 0.017558361701707124), (3666, 0.01754175434445665), (3397, 0.01753870689480741), (2484, 0.01752234079603365), (3387, 0.017519311367521148), (4376, 0.017490824449342676), (2222, 0.017477328064378406), (3110, 0.0174601482514378), (1341, 0.017439480865304804), (2548, 0.017400851259783967), (1029, 0.017372655796680226), (763, 0.017356314075498227), (479, 0.01735315096704786), (1104, 0.017314893201280122), (3612, 0.01727649116672507), (3420, 0.017265515758318653), (890, 0.01723635464153219), (4242, 0.017197488705457245), (3562, 0.017192930356437902), (557, 0.017189629022629604), (895, 0.017183604615805315), (805, 0.017142378909946073), (2085, 0.017141577099238005), (2086, 0.017139333731068), (2521, 0.017136977586663108), (3269, 0.017135571830497076), (1480, 0.017133053383722542), (1951, 0.017124253624487672), (3106, 0.01708927365748708), (3630, 0.01708898123394229), (2155, 0.01708292612898855), (696, 0.017061658972653354), (409, 0.01701531934102576), (4604, 0.016988878283129245), (3427, 0.01698407286761925), (3481, 0.016969624325319774), (216, 0.01696731992008991), (122, 0.01695417159600103), (82, 0.016907170526508686), (1577, 0.01689891756055141), (201, 0.01688288634586089), (2007, 0.016864704556497936), (4199, 0.0168508940074105), (3969, 0.016837612176674982), (1006, 0.016822262850850936), (1443, 0.016786835993411964), (981, 0.016779132149417626), (3303, 0.016773872027443595), (750, 0.016773506503092853), (4009, 0.016765175918057734), (610, 0.016758909072368943), (347, 0.016750164394501714), (2554, 0.01674117714406417), (656, 0.016736518795045868), (3633, 0.016734628068725395), (1969, 0.016715392220623387), (1407, 0.01670396367966385), (3214, 0.016670956811535107), (351, 0.016662658855808594), (892, 0.016662235675747393), (3683, 0.016631254398147617), (1849, 0.016621229404328596), (1122, 0.016607900867716217), (271, 0.01660288495076348), (1526, 0.01660229997226814), (1961, 0.016594580914503283), (3553, 0.016575998703622884), (1447, 0.016571714064036465), (2074, 0.016559330175723776), (1250, 0.016556509176181518), (4526, 0.01655202217198737), (3330, 0.016534704879946772), (3477, 0.016528733339630317), (4570, 0.016528651393769238), (2732, 0.0165194792006726), (3557, 0.01651947183463004), (169, 0.016519089758006294), (1171, 0.016516824393424785), (1521, 0.016512694966613572), (4287, 0.016504068892738748), (2268, 0.01649382283940347), (2496, 0.016491487928861577), (448, 0.016476538694969033), (3155, 0.016475527948345895), (585, 0.01647032920302299), (973, 0.016470243460174793), (378, 0.016469661275479542), (971, 0.01646000627975177), (251, 0.016435269430592894), (2788, 0.01643148898721151), (2612, 0.016416742213909385), (966, 0.016400055444898212), (1711, 0.016391996553220226), (358, 0.016382340724772612), (3769, 0.01637607929778304), (1692, 0.016358164913868566), (1610, 0.016352627983406247), (1998, 0.016352391163471185), (3671, 0.016348739539331157), (1077, 0.01634455032251218), (1726, 0.01633513713179165), (3298, 0.016254729860476345), (225, 0.016240645950545207), (1481, 0.016233709500289576), (1060, 0.01622247210618905), (568, 0.016191262264571463), (2073, 0.016186925485249314), (1873, 0.01617259166606462), (4388, 0.01617146673084684), (2267, 0.016167142734915887), (762, 0.016156763135857656), (3407, 0.01615535045361472), (1768, 0.016153697986339477), (403, 0.01613545561517408), (1129, 0.016121237413105803), (1068, 0.016067978623130474), (2781, 0.016029579446709956), (1373, 0.016028868139202325), (3083, 0.01599898547637367), (44, 0.01597770821960809), (391, 0.015974802714663904), (30, 0.015972301685172212), (2677, 0.015938852653623135), (618, 0.01591221907118395), (2642, 0.015909997971254586), (29, 0.015909614349075424), (4010, 0.015908988644559103), (1797, 0.01589376741920867), (2927, 0.015884135725141614), (2562, 0.015880602657280717), (4063, 0.01588025762093187), (3473, 0.015872442373678613), (2479, 0.015867618653059794), (1634, 0.01586302519732078), (3651, 0.015830141419196704), (1214, 0.015803858075138025), (4341, 0.01578881193973466), (1524, 0.015729294495706998), (2170, 0.015728519448170965), (3803, 0.015721971611488375), (878, 0.015715191212802213), (1818, 0.015706610991599756), (2954, 0.015682270192179486), (3293, 0.01567532949225309), (336, 0.015662196829093845), (3149, 0.015661317469952314), (3546, 0.015651933730532086), (4252, 0.015636349234089453), (3696, 0.015630680752863925), (3826, 0.015625530878520345), (501, 0.015590819076508512), (786, 0.015560100658211083), (2636, 0.015540561200778402), (541, 0.015535396653045814), (2532, 0.015530661818807346), (1493, 0.015530207624988603), (915, 0.01551665455898888), (1132, 0.015501397623366369), (1207, 0.01548917818368431), (4598, 0.015481067089913949), (2473, 0.015469822064794757), (3801, 0.015433026701185931), (2366, 0.015426271020799163), (2578, 0.015423844326999439), (3459, 0.015390385592459596), (1914, 0.015374245387962386), (4047, 0.015372299056971623), (1973, 0.015317078695220001), (52, 0.015293965352635407), (177, 0.015285669455104749), (549, 0.015270584907557755), (827, 0.015264929476548946), (2367, 0.01522877202051288), (4086, 0.01522612941507911), (3924, 0.015195557259766962), (4569, 0.015169847017035911), (304, 0.015161149352871323), (102, 0.015152384165459155), (2717, 0.015137467219460821), (1460, 0.015116549311372069), (559, 0.015099536017063589), (4325, 0.015094482979276933), (1626, 0.015088751530440814), (2899, 0.015083735725756027), (3389, 0.015045284262937348), (3505, 0.015025051324249581), (1157, 0.01502061754662902), (4250, 0.015014536511533854), (2457, 0.014993848464922495), (1482, 0.014985012600950134), (1601, 0.014978849620603309), (330, 0.014975098382891919), (577, 0.01497225575993886), (1814, 0.014960514704410354), (1679, 0.01494486950862954), (4721, 0.014940600906336188), (184, 0.014937769745413141), (342, 0.014937655713602498), (836, 0.01492009576600635), (744, 0.014916133210479406), (4346, 0.014911686792884602), (1718, 0.014904566024759772), (454, 0.01489479322279998), (2704, 0.014891055297186694), (1079, 0.014883969731932786), (365, 0.014876856266128361), (3711, 0.01485659506619241), (4207, 0.014850937784079607), (1784, 0.014843125896193044), (1999, 0.014833907273769039), (3914, 0.014819718694403362), (2867, 0.014815941946301621), (2817, 0.014813092068253257), (4034, 0.014783955117005384), (4551, 0.014773742232243297), (792, 0.014770868578383962), (3393, 0.014770378729160372), (1564, 0.014766529871529332), (4076, 0.014756005051183784), (4676, 0.014752228138763727), (2712, 0.01473038303757455), (2462, 0.014726315950779764), (3628, 0.01470113170638004), (4113, 0.014697621669500813), (1465, 0.014689166480695445), (2770, 0.014687853692864999), (4196, 0.014679181575267528), (298, 0.014666641325878717), (3816, 0.014649934970218253), (2037, 0.014648914880878314), (33, 0.014642012326519328), (3678, 0.014637416774077844), (1474, 0.0146225533961817), (4323, 0.01461756805219978), (1655, 0.014608656691321711), (775, 0.014601942524279385), (861, 0.014597649663638163), (2749, 0.014590434677523639), (1246, 0.014570374453827162), (2185, 0.014568659404441716), (2516, 0.014561104653164068), (2876, 0.014539003538991086), (1115, 0.014528849255245908), (1403, 0.014509578315659766), (2929, 0.014494923702463006), (2274, 0.014493694322689207), (802, 0.014490376222864998), (2841, 0.014486071793830678), (2595, 0.01447636950624948), (1071, 0.014425422581131326), (1301, 0.014401345457636206), (1352, 0.014395239476504687), (2864, 0.014369195329549252), (928, 0.014353961422635916), (266, 0.014326446516332934), (3812, 0.014314189850160749), (1155, 0.014311283101358693), (2719, 0.014295959056149752), (931, 0.014294272157240764), (2696, 0.014292235182951252), (1844, 0.01428236769541641), (1881, 0.014256635212899337), (125, 0.01423607637464647), (2451, 0.014235195367287694), (639, 0.014229646636219184), (2878, 0.014224139570601544), (1411, 0.014189404744202452), (2526, 0.014180963091169735), (1215, 0.014177580695959863), (670, 0.014119706792268202), (2030, 0.014117555037705167), (2177, 0.014101766888403767), (2200, 0.014082315941061394), (642, 0.01407541512311024), (2603, 0.01402937849086267), (1678, 0.014008941002065116), (245, 0.014003401456649876), (3287, 0.013951148752463685), (1379, 0.013950209687785847), (797, 0.013944807080635514), (924, 0.013941980435637082), (582, 0.013940497439762995), (1600, 0.013934333460405113), (3251, 0.013929357396256802), (361, 0.013925868770767303), (4492, 0.01392469441773598), (2708, 0.013919345322868764), (3790, 0.013918425302045425), (3759, 0.013897947276976352), (1085, 0.013888654507019198), (3735, 0.013883474891998353), (2368, 0.013873476572405279), (3206, 0.013872212449483461), (905, 0.013870472438145732), (2481, 0.013870008029570655), (2761, 0.013868044586504282), (520, 0.013866701817362319), (150, 0.013850400187344653), (3684, 0.013817811201758847), (219, 0.013816241436453838), (3966, 0.013797100172674248), (69, 0.013789777457851605), (4347, 0.013788195474208825), (2009, 0.013784355511528698), (4457, 0.013784317313856364), (3482, 0.013775187167817494), (3425, 0.013773845928908218), (3709, 0.013766771043334505), (25, 0.01376410462081809), (2856, 0.01373442357563801), (2034, 0.013729919767756529), (945, 0.013722842319869262), (2317, 0.013696497182949621), (152, 0.013690803362075888), (3003, 0.013683112117140848), (1165, 0.01367886973387475), (2982, 0.013678680970183446), (4023, 0.013678114759142108), (819, 0.01367334019414327), (2041, 0.013669491253173844), (1431, 0.013646386251468488), (1709, 0.013622121022895017), (1049, 0.01360844699510105), (223, 0.013605859415302232), (2239, 0.01360480964504846), (2430, 0.013599510650188617), (1769, 0.01357377622023003), (2051, 0.013571608737030623), (3805, 0.013568403766806866), (2332, 0.013554477609036681), (1837, 0.013554210432570619), (3413, 0.013546217079225379), (3121, 0.013540133340750944), (1198, 0.013532346169877942), (3846, 0.013525962199476285), (4607, 0.013503431865598992), (1602, 0.013495922684289742), (3010, 0.013494706183326712), (2039, 0.013479934807713067), (3847, 0.013479698503359113), (674, 0.013472985879967498), (840, 0.013461482286798273), (2409, 0.013454121664379058), (3476, 0.013428107795507295), (790, 0.013427981959674531), (1130, 0.013421779246358269), (2652, 0.013395770676445403), (909, 0.01336880762654652), (3408, 0.013360337301947984), (4195, 0.013356652758397092), (1695, 0.013302347110383066), (2782, 0.013302003626853057), (1404, 0.013299878323683472), (1285, 0.01326052532525006), (1368, 0.0132348413182795), (263, 0.013228053480487315), (1720, 0.013221919040335539), (3593, 0.013212336039823034), (3180, 0.013200151039708343), (1451, 0.013191392634527906), (3221, 0.013184006514672443), (612, 0.013178890316315582), (3894, 0.013176274189356173), (2019, 0.013175878749575286), (1706, 0.01317538390503805), (3447, 0.013167518025801472), (345, 0.013158306410227328), (453, 0.01315533579891843), (998, 0.013147568098041436), (807, 0.013141426154200237), (2153, 0.013132184835031908), (240, 0.013122321729740205), (4240, 0.013111998937326383), (2552, 0.013109727405256807), (4155, 0.013098508259907193), (435, 0.01309315721300256), (1267, 0.01309078445368832), (3950, 0.013071281471856322), (4324, 0.013062332015457501), (2311, 0.013057742552848084), (284, 0.013042902332083437), (1161, 0.013041947541167364), (2734, 0.013032704622963989), (4046, 0.01301943041297003), (537, 0.01301894163151201), (3854, 0.013012327358633577), (4338, 0.013000832382717658), (2882, 0.012981878128389364), (3311, 0.012978742930482682), (2116, 0.012974940399418565), (3889, 0.012954897825677053), (1788, 0.012942139071901075), (338, 0.01292186913719158), (1106, 0.012918753254980311), (4098, 0.012897950947041987), (4177, 0.012896884429044957), (2915, 0.01288387296605343), (3273, 0.01288349752508179), (3736, 0.01287584832840778), (2207, 0.012872616167274134), (4728, 0.01286460003600787), (1800, 0.012858024990717663), (2513, 0.012852926016713414), (35, 0.01284599680683387), (2095, 0.012840949297857559), (630, 0.01283620168033677), (1791, 0.012832713182019829), (2579, 0.01282135924435657), (1000, 0.012812684840965136), (3284, 0.012809055963888632), (1579, 0.012802847223211148), (1897, 0.012796672078741994), (2514, 0.012793685474387816), (352, 0.01279336232864971), (4138, 0.012781138510595579), (335, 0.01278061828296016), (2574, 0.012778099990923572), (3991, 0.012775957840285623), (2472, 0.012757816683030854), (2525, 0.012739187597075666), (1607, 0.012732656846002383), (1089, 0.012730058715367002), (254, 0.012726584401344632), (1734, 0.012715046431639938), (4143, 0.012714833986367476), (2150, 0.012707561738385852), (3411, 0.012695338210963605), (3579, 0.012693168580487484), (1116, 0.012684179540987751), (2262, 0.012677470306913324), (1479, 0.012677358845353029), (1675, 0.012669842841054066), (3697, 0.012663812627883169), (957, 0.012660993412394692), (4245, 0.012635057800881208), (2043, 0.012634836856000881), (4396, 0.012625898373028577), (1820, 0.012623771246494508), (3997, 0.012622745504275357), (3626, 0.012608329843365625), (191, 0.012601706432720034), (1539, 0.01259540664349367), (4109, 0.012593559291127857), (3752, 0.012592262246759894), (1153, 0.012587011142478798), (1816, 0.012579160245919737), (369, 0.012578218813351935), (664, 0.01257444181602414), (4111, 0.012546233831320657), (2586, 0.012516429349937727), (67, 0.012515483596732805), (2088, 0.012498371246502972), (4289, 0.012489814950812602), (1779, 0.0124819562051442), (2064, 0.012479464363622432), (1228, 0.012474489240139391), (2183, 0.012459456880181173), (2390, 0.012458213175981607), (1588, 0.012451882237253364), (2038, 0.012448226719837373), (4074, 0.012443708402695045), (232, 0.012433051727885284), (1931, 0.012430010897176115), (1232, 0.012416945879670216), (1345, 0.012401034216429636), (3781, 0.012382357634719798), (3395, 0.012378431869065355), (1323, 0.012357842801954181), (3060, 0.01234820855888678), (176, 0.01234685737273047), (110, 0.01233562320166344), (2942, 0.012317640242575666), (920, 0.012311257643546706), (1445, 0.01230977393019956), (3647, 0.012299495029009044), (2999, 0.012275451078090707), (803, 0.012273405837258137), (2801, 0.012266245002058777), (811, 0.012256307575878528), (3442, 0.012250531095306709), (3768, 0.01224470416981138), (1603, 0.012241865407937938), (882, 0.01223998326834001), (872, 0.012230484895518713), (4606, 0.012219278327341652), (3747, 0.012216642453774485), (4609, 0.012211597788863318), (1475, 0.012199925729736402), (545, 0.012199632620617915), (1606, 0.012195376536020474), (1175, 0.012195175660267376), (4422, 0.012183790778876411), (1993, 0.01218104334973845), (622, 0.012174038377558965), (395, 0.012173375996467294), (4066, 0.012131460653551931), (1942, 0.012126161298715861), (4703, 0.012125455724145058), (1227, 0.0121225446962913), (1397, 0.012117130116613828), (3501, 0.012117055447079663), (4254, 0.012113023620623754), (1172, 0.01211171109901186), (793, 0.012102823507711033), (1028, 0.012075954675032322), (3840, 0.012073393053926023), (539, 0.012067614357962733), (1045, 0.012043308397008986), (3485, 0.012037635478245719), (4364, 0.012034280016071808), (849, 0.012030131140002613), (3443, 0.01202397433332782), (3809, 0.012017245893459873), (193, 0.01201047867798116), (2661, 0.012009183725643937), (2204, 0.011991688299672891), (273, 0.011983901083534053), (3602, 0.011979308363523953), (400, 0.01197597182905081), (467, 0.011955249967264124), (312, 0.01194815606766109), (4279, 0.011935506087222403), (2865, 0.011932264151790276), (464, 0.011929835870459413), (4409, 0.011929092423433934), (1016, 0.011914117750037449), (1696, 0.01190511485737813), (697, 0.011892147552561577), (50, 0.011887933853798794), (2539, 0.011868994505672657), (3731, 0.011863895372268885), (4122, 0.01186093762843358), (1269, 0.011842692357592137), (2533, 0.011840266559507288), (4314, 0.01182985708978569), (600, 0.011828131377888353), (3644, 0.011826588310831521), (349, 0.011821882536557709), (3346, 0.01181123208097399), (2326, 0.011793553565379372), (1811, 0.011788718193883817), (2144, 0.011749452674082936), (2685, 0.011741072086134289), (723, 0.01173720663767485), (676, 0.011702676008623132), (755, 0.011699369399278096), (3673, 0.011687591545487363), (2226, 0.011682291803446517), (2050, 0.011682005604104163), (2354, 0.01167795741453234), (4183, 0.011666146718379908), (3876, 0.011662356934209226), (2688, 0.011651604184174923), (1369, 0.011650560052388365), (2192, 0.011641877323520828), (2918, 0.011631653935373564), (1604, 0.011627758160077885), (3188, 0.011627087222546979), (4591, 0.01162644312730351), (2822, 0.011623315022930243), (88, 0.011619347261452964), (834, 0.011615549831583909), (4380, 0.011613583722144818), (3104, 0.01159372402560983), (114, 0.011588359407096602), (2804, 0.011588170503985583), (1759, 0.01158495187876788), (712, 0.01156291880776507), (693, 0.011550933105423837), (719, 0.01153181113672816), (1247, 0.01152092583306159), (724, 0.011517367277651415), (3926, 0.01151164387035782), (1255, 0.011504853785376282), (319, 0.011499460757375783), (315, 0.011475602516409663), (975, 0.011473223843070302), (1406, 0.011472407035014402), (1263, 0.011455104820818306), (1621, 0.01144731882206587), (4553, 0.011447145853310125), (3582, 0.011440680614228498), (4511, 0.011438659057066185), (1509, 0.011437908240934177), (3345, 0.011436874325878262), (3615, 0.011436142484753335), (628, 0.011436109959951292), (2206, 0.011424489579066083), (1663, 0.011415221884815661), (3152, 0.011415124585413954), (1921, 0.011410027314181559), (2378, 0.011401986530095293), (85, 0.011394768290217705), (1117, 0.011390884013555942), (1235, 0.011390619757303298), (1112, 0.011387851391176165), (466, 0.011384271456343475), (309, 0.011378526001213932), (838, 0.011375262480979633), (359, 0.011369588632330839), (1912, 0.011353597181626582), (3466, 0.011348849399313493), (473, 0.011347170815935927), (188, 0.011344023157226685), (689, 0.011329249104310466), (1421, 0.011320777862960683), (237, 0.011319845466280004), (2107, 0.011298269287493218), (1135, 0.01127937553056199), (833, 0.011269805216715856), (2730, 0.011269109867426148), (3718, 0.0112641346527127), (2644, 0.011263376767875885), (94, 0.01125221514529225), (1741, 0.011251513784527748), (812, 0.01122384757685191), (2656, 0.011220371313479591), (1231, 0.011218491175439145), (1654, 0.011217926618968914), (1385, 0.011215282246298275), (276, 0.011212615341094178), (1081, 0.01120411488693222), (939, 0.011190763807261686), (292, 0.01118154733219203), (835, 0.011179953899110823), (1197, 0.011168216464565034), (1667, 0.011162137520137531), (61, 0.011160366010606307), (4616, 0.011148784497987821), (3077, 0.011130681077052253), (4117, 0.011121222932267008), (4502, 0.011116927775815317), (868, 0.011116029320075818), (757, 0.011107219531632384), (449, 0.011103765547667538), (407, 0.011080721354062318), (4451, 0.011077436604863522), (2528, 0.011068206661301936), (2474, 0.011062724164911128), (1084, 0.011062393140842971), (1672, 0.011051683118642432), (3318, 0.011030503803363931), (4327, 0.010988516367356049), (3741, 0.01097595500579435), (1532, 0.010963343921409366), (1073, 0.010953726136533505), (1877, 0.010929499233004679), (1288, 0.01091525709274991), (1934, 0.010899509826900734), (80, 0.010887333552300968), (4350, 0.010883672218713926), (2143, 0.010879216710529714), (1292, 0.01087575302738559), (3824, 0.010869869025265828), (1209, 0.010860210780539711), (4479, 0.010859801765216831), (4589, 0.01081509762933444), (944, 0.010807220102047108), (3983, 0.010798963834479555), (1827, 0.010794573279607665), (2427, 0.010788536874180195), (3863, 0.010771835924128894), (684, 0.01077028755764666), (4247, 0.010768333016603201), (1543, 0.010765293069096644), (1076, 0.010764662329850225), (1387, 0.01075355489246351), (1507, 0.010745309749777056), (1625, 0.010744107957691141), (2320, 0.010728450207961454), (3369, 0.01072020535223663), (1004, 0.010711045319669809), (3754, 0.010704277081518578), (2741, 0.010699605462381767), (1067, 0.010685228314471327), (1869, 0.010684474575642821), (1414, 0.010683826046313762), (1219, 0.010682798720257417), (4627, 0.010680154676432203), (604, 0.010653355891227623), (1690, 0.010643393320079976), (154, 0.010640078296096816), (4558, 0.010638669930051779), (161, 0.010616747936115906), (2771, 0.010614105671660705), (4366, 0.010609332602550446), (4747, 0.010601915807268205), (813, 0.010599779881447526), (4032, 0.010592248520423824), (3474, 0.010589068266753158), (3022, 0.010579058469870393), (4650, 0.0105760193698054), (2625, 0.010575192583649988), (3903, 0.01056400272894399), (519, 0.010542008845742577), (4104, 0.010534225956689259), (3839, 0.01053086266111351), (3279, 0.010513294078182921), (2158, 0.010499518228261038), (3921, 0.010488581335032523), (1134, 0.010481956295672373), (2485, 0.010481320665382824), (457, 0.01046839611964382), (3117, 0.010454763495489225), (1423, 0.010454294324331212), (143, 0.010453809632926036), (4661, 0.01043672566326836), (149, 0.010428118880852388), (3960, 0.010415799702287983), (7, 0.010413459181243577), (4358, 0.010411018123947997), (3424, 0.010391377813634637), (3574, 0.01038363241255235), (3619, 0.010375838643340997), (2550, 0.010374161200360707), (4118, 0.010359997733923959), (3556, 0.010354997220765105), (3802, 0.010354329275692457), (1580, 0.010343479918112746), (3414, 0.010317663105988572), (2510, 0.010311660996154472), (2159, 0.010270626190540016), (839, 0.010264822741757976), (3254, 0.010256417326263074), (142, 0.010253004364249793), (4610, 0.010244371251492426), (2573, 0.010163754921679622), (3677, 0.010144838232276786), (1222, 0.010136860940852312), (3376, 0.010128283958169185), (4624, 0.010126279867209074), (2507, 0.01012016537528373), (4079, 0.010118093830454129), (334, 0.01011806994785675), (1040, 0.010106604587649925), (635, 0.010060950515236937), (3234, 0.010059460233391942), (1563, 0.010025394981554676), (611, 0.010022370739710794), (547, 0.010021738310718679), (2252, 0.0100067357748405), (3529, 0.009998009863869109), (2460, 0.009997102304665266), (2601, 0.009996795575999747), (1393, 0.009967782407092892), (1062, 0.009967561133237022), (2776, 0.009952011079475192), (1594, 0.009938308655682631), (2053, 0.009932627967792443), (341, 0.009931542693371192), (162, 0.009929232200454373), (175, 0.009928230488377028), (433, 0.00991967131745683), (3229, 0.009888534803641076), (4169, 0.009881987724109484), (4431, 0.00986101137455253), (3175, 0.009860004826093578), (3113, 0.009850352329880664), (4061, 0.009830499766820119), (3224, 0.009785096706196112), (74, 0.009784830895865527), (4332, 0.009782174686255501), (1963, 0.009743048711517002), (1401, 0.00973863803761695), (4420, 0.009729176085494649), (430, 0.00971294669735814), (297, 0.009679039587584147), (1859, 0.009673532513529775), (3907, 0.009663583393611737), (1599, 0.009641580755984962), (843, 0.009624069292246145), (4756, 0.009614473419025627), (1777, 0.00960763419989853), (2441, 0.009581843025706945), (1549, 0.009572930993750015), (1919, 0.009569560362485472), (1677, 0.009563651144702126), (4677, 0.009551753901491116), (2637, 0.009535439283791691), (87, 0.009530599363192057), (3585, 0.009518335001246431), (3000, 0.009515418218837486), (3765, 0.009513618087224961), (1967, 0.009499657678362063), (1419, 0.009474301914171014), (2421, 0.009465599529872276), (1506, 0.009460958749865793), (4241, 0.009459544350184677), (377, 0.009441005453128436), (2582, 0.009439116045110977), (1871, 0.009415188244287928), (4001, 0.009415163653544808), (3690, 0.009414224922275142), (4567, 0.00937639026745549), (1100, 0.00937173754061547), (2492, 0.009366107227251999), (1334, 0.00936086296203166), (1192, 0.009342898091250901), (3520, 0.009323152706609635), (4736, 0.009311202054544835), (2687, 0.009308192107795559), (404, 0.009300774311474759), (2122, 0.009297664696426008), (494, 0.009296385984985608), (1757, 0.00929375442407343), (1517, 0.009291360754811814), (1522, 0.009288902602390793), (259, 0.009282578380994928), (3452, 0.009278410959685289), (2912, 0.009264845786941431), (1459, 0.009249763269765194), (1804, 0.009234976870654148), (1852, 0.009233372394617386), (822, 0.009231803158557816), (4623, 0.009225971334108452), (3195, 0.009215194992984996), (3743, 0.009214409898886822), (1915, 0.009211465254445767), (1191, 0.009210427928808052), (328, 0.009202308775110265), (1374, 0.009200716869429462), (2422, 0.009198011144894014), (2826, 0.009197262876634808), (2174, 0.00919335719258915), (1133, 0.009192216516303763), (749, 0.009185580098509609), (339, 0.009185235193917016), (3665, 0.009150238612503726), (3487, 0.009149969852785206), (2103, 0.009136211369480401), (4743, 0.009117668953386072), (1245, 0.00911354208096919), (3122, 0.00910734617656752), (1304, 0.009084363871772347), (1420, 0.009081050894995777), (460, 0.009073846250884877), (1087, 0.009058790710418749), (2160, 0.009047596342454231), (2763, 0.009031417674975577), (2215, 0.009030991388376593), (607, 0.009022582536171731), (1500, 0.00901722709160857), (727, 0.009001060593029745), (1329, 0.00899918483642772), (3014, 0.008985546760740974), (2498, 0.008968500403721711), (4292, 0.008949039036112081), (2616, 0.008948942291767572), (4682, 0.008947505299656246), (1878, 0.008943936033008455), (4534, 0.008939877844095192), (3823, 0.008937598502359059), (962, 0.008924678494968575), (2829, 0.008916043051908457), (3141, 0.008912533044411768), (132, 0.008898586174865646), (1632, 0.008897512693474736), (3454, 0.00889512287566779), (3794, 0.008894842030664367), (310, 0.008886424204543551), (1825, 0.008869284452629246), (2765, 0.008867530404400322), (2935, 0.00885964512226324), (287, 0.008857862140598865), (221, 0.008845866940968743), (167, 0.008838580764815755), (641, 0.008832964379115793), (2751, 0.008832957266316842), (2791, 0.00882547523937257), (1668, 0.00881353259613812), (1823, 0.008803272836161412), (3370, 0.00879601714135846), (1723, 0.00879506825660386), (4205, 0.008794185906258392), (798, 0.008782799843090012), (2347, 0.008781561210171807), (1001, 0.008780885175663923), (4110, 0.008780397294252828), (4192, 0.008770378953753816), (3970, 0.0087589723748051), (1649, 0.008752200539022998), (92, 0.008748778736113166), (605, 0.008746435520672259), (311, 0.00873999790083535), (4441, 0.008715104958620714), (4282, 0.008713944534108635), (2062, 0.008687779016258588), (2175, 0.008683939812102073), (1630, 0.00866556760285041), (1608, 0.008663565042899182), (218, 0.008654699094895501), (2680, 0.008642907385780139), (3705, 0.008629015836292856), (1033, 0.008616559591758218), (2191, 0.008605053582349009), (2399, 0.008579881047127466), (745, 0.008573025837149082), (214, 0.008570328804871744), (4679, 0.008560816547232007), (2224, 0.00855779972581033), (1242, 0.008554798177022399), (858, 0.008548245353027627), (1392, 0.008528071818959525), (934, 0.008518170862346356), (3329, 0.008517528651986754), (1865, 0.00850897544887534), (3716, 0.008502937351306965), (2287, 0.008499782011962477), (647, 0.008494271395502552), (285, 0.00848930276170443), (2845, 0.008474733707910818), (2686, 0.008474607063231188), (1982, 0.008472556007460552), (4426, 0.008470950404619485), (1809, 0.008470588804316998), (1, 0.00844857868046558), (124, 0.00844304259157156), (1366, 0.008433440017056487), (4343, 0.008411938419779996), (1354, 0.008411691114433397), (1650, 0.008409514101623666), (2031, 0.008407140580360128), (3637, 0.00840667832879221), (1652, 0.008397865150811472), (1249, 0.008372629982504898), (2931, 0.008365329650846371), (1977, 0.008365106230719758), (37, 0.008360209891661752), (43, 0.008348759004619663), (1213, 0.008344757622564248), (4055, 0.008303879017099678), (2285, 0.00828058570601988), (629, 0.008276742003270566), (2338, 0.0082673079197119), (2724, 0.008255127698151546), (1978, 0.008244899177575793), (194, 0.008239641466546398), (357, 0.008226803031283703), (222, 0.008139702905089127), (2065, 0.008138582512150286), (3096, 0.008137377811820645), (1039, 0.008128673911394678), (3215, 0.008121084345179398), (2975, 0.008096390154350142), (653, 0.008093504563489473), (249, 0.008083204434507203), (1553, 0.008059860060871919), (733, 0.008019638076398189), (76, 0.008015050269649568), (1042, 0.00800517995282145), (1802, 0.007994627957824189), (2544, 0.007984828689593356), (4201, 0.007979080514334911), (4596, 0.007965947765102671), (2412, 0.007942369063873904), (4344, 0.007906615236733677), (3, 0.007902788941810897), (3091, 0.007819985542907), (692, 0.007812227343691302), (726, 0.007779557422826962), (3045, 0.007766918849317728), (1957, 0.007764821636429819), (1781, 0.0077338137774122006), (113, 0.007729573068978223), (3940, 0.007710825201392664), (2665, 0.0076989763418999066), (2318, 0.0076658009973153115), (156, 0.007642634125613893), (3751, 0.007606888420670492), (440, 0.007605243603266356), (3835, 0.007600463363230865), (3875, 0.007544597624418364), (4652, 0.007506774335255348), (412, 0.007500692619071721), (789, 0.0074404855163306945), (1277, 0.00742909552971317), (1005, 0.007313741379559809), (2220, 0.0073022322439834095), (2376, 0.007225453408260217), (2671, 0.0071902547568411905), (4445, 0.007183311982548341), (1648, 0.007092995987061627), (4541, 0.007087780317067822), (452, 0.00707831006040098), (228, 0.007038842152883211), (1471, 0.007012682487318795), (542, 0.006846909825937287), (553, 0.006631758382587697), (824, 0.00660146899949627), (243, 0.006553884857247603), (2818, 0.006542838714080717), (2534, 0.0063811256089541055), (3142, 0.006306781414913464), (3145, 0.0062175266913290774), (4007, 0.006092481762314775), (2645, 0.005948712095573897), (4612, 0.0058717125806639564), (2363, 0.00584767816061335), (2538, 0.005846367968777365), (1548, 0.005761376486826872), (3448, 0.005752397236573457), (2673, 0.005751059134229388), (2547, 0.0056732211808958035), (4194, 0.005655816259065153), (1208, 0.0056272335199905625), (2738, 0.0055826721998242295), (2834, 0.005581515298383789), (3502, 0.005573818050828126), (2581, 0.0055729307489444406), (4477, 0.005536797893213487), (3577, 0.005472137272344571), (491, 0.005464043209394251), (2351, 0.005424428871366556), (1343, 0.005412877122189496), (3172, 0.0054081371520001776), (3610, 0.0054028211289639146), (4062, 0.005371009507599517), (3364, 0.005368023362109434), (2458, 0.005357151786972873), (1381, 0.005316918052833884), (2740, 0.0053099884198033525), (4267, 0.005306299275869511), (614, 0.0053056770847424075), (4281, 0.0053034382332022316), (368, 0.005295995338178484), (3661, 0.00529276722797578), (3384, 0.005281922392746297), (4269, 0.005271790307499989), (2032, 0.005228519245924493), (2180, 0.0052255225704341685), (1168, 0.0052081351383293974), (425, 0.005197648270010326), (1887, 0.005191914109445916), (2339, 0.005190831921813864), (424, 0.005190492072113358), (1681, 0.005173468667641834), (2079, 0.0051587832830394045), (701, 0.005154303004845728), (4549, 0.005154049010592502), (2518, 0.005150671246740923), (380, 0.005148768519219593), (1968, 0.005139690033075771), (2012, 0.0051301440441066624), (4448, 0.005121830915052847), (1322, 0.0051141137966297335), (4363, 0.005105753478437196), (3618, 0.005091275679866487), (687, 0.0050890582770707), (1349, 0.005085155432685835), (666, 0.00508236942334148), (3897, 0.005081907547400328), (12, 0.005076187566359603), (2436, 0.005067625030345517), (1733, 0.005067504395241399), (2755, 0.005059001082984585), (2873, 0.00505651022856211), (250, 0.005044032005446809), (919, 0.00503825795147369), (4226, 0.0050359502973932905), (4462, 0.005032117686033484), (3469, 0.005030356584020486), (1702, 0.005030151561296441), (1798, 0.005025493829354854), (1997, 0.005025041057552811), (1952, 0.005022351041386765), (3920, 0.005019652248184912), (4330, 0.005014052595581566), (2418, 0.004997919931846069), (4515, 0.004996786893011759), (3277, 0.004995791483357391), (4621, 0.004995054438966537), (3780, 0.004993303554480582), (677, 0.004982570084242636), (747, 0.00497935959873323), (4119, 0.004966609103058937), (3857, 0.004963639068666695), (1704, 0.004961387290233527), (1858, 0.004961128503897418), (1907, 0.004955722593923748), (2546, 0.004955501403787903), (3810, 0.0049542272952466165), (1520, 0.004949475347230497), (2112, 0.004945586920938961), (4436, 0.004942863345254682), (2259, 0.004937797180971772), (982, 0.004936003583236574), (2675, 0.004933864035055192), (1537, 0.004931243957083852), (1893, 0.004924135419692583), (3919, 0.004920030559961885), (3959, 0.004917388414480194), (4108, 0.004914640584059747), (4312, 0.004908223932472018), (1851, 0.0049064360158261626), (700, 0.0049030099611997195), (3264, 0.004898293745168286), (2911, 0.0048971604368984335), (3259, 0.004890537410055862), (123, 0.004890293732693799), (3374, 0.004886961987673694), (101, 0.004881700950412111), (2147, 0.004877480645752573), (2334, 0.004876153883394447), (704, 0.004875764956700253), (2241, 0.0048733696841124), (418, 0.004871508954175926), (2963, 0.004871370726782185), (4136, 0.004865245682944549), (4038, 0.004861884419919617), (2790, 0.004853818383640787), (4629, 0.004851366167165981), (2126, 0.0048421015770962585), (4379, 0.004835604446238134), (913, 0.004831802732989071), (4265, 0.004831496727772379), (930, 0.004831308266072637), (2487, 0.00482880060149217), (272, 0.004826633892739708), (4262, 0.004825644428536045), (1346, 0.004825273348287727), (1587, 0.004824939709692618), (2798, 0.004822575520482915), (344, 0.00482159011694447), (4013, 0.004816887264036089), (781, 0.004816643684441382), (2277, 0.004811849344172638), (3463, 0.0048097379118138455), (2816, 0.004809005077468769), (2689, 0.004805154130511148), (4395, 0.004803733276251966), (2610, 0.004799126699792026), (2900, 0.004798494784416214), (11, 0.004793121024553405), (3233, 0.004790104803443867), (3386, 0.004788216387496734), (3643, 0.004787657954969043), (1660, 0.004780973730430253), (3549, 0.004779933257564379), (3507, 0.004779768225530111), (301, 0.0047774062642129194), (1140, 0.004777366860265643), (3599, 0.004775850955802586), (2910, 0.004775833695996707), (2725, 0.004774609766895227), (1619, 0.004773213387360882), (2431, 0.004772210538414281), (3551, 0.004768319268619858), (220, 0.0047672506378962426), (2940, 0.0047644200603046164), (2072, 0.004760895503363419), (4406, 0.0047597717871877936), (918, 0.004758275475292473), (908, 0.0047523186168867216), (525, 0.004747255521421929), (3689, 0.0047469863269006506), (2444, 0.0047454975186691575), (1402, 0.004744934253142659), (1688, 0.004742591845998888), (2729, 0.00473982872460436), (1613, 0.004739827286245958), (3464, 0.004738673586627488), (2691, 0.0047345677640815535), (2511, 0.004732504549020053), (189, 0.004732170524446729), (4025, 0.004729389806178973), (1413, 0.004729323803526498), (3778, 0.00472587435842387), (3963, 0.004722927606850545), (1262, 0.004720019332583411), (4486, 0.0047179135871100435), (2416, 0.0047171617431027435), (1048, 0.004714466790722258), (1908, 0.004714337281712489), (3125, 0.004713354074546111), (2278, 0.004710319562768654), (1223, 0.00470657601774473), (685, 0.004706483467974925), (483, 0.004699897509885209), (1751, 0.004698429310661116), (2246, 0.004698328797472404), (4686, 0.004696869163847395), (523, 0.0046968117035031546), (1396, 0.0046964094842966405), (1689, 0.004694688991361451), (2792, 0.0046916900391690405), (28, 0.004691611272717555), (504, 0.004690088702938539), (1179, 0.004689831415104384), (56, 0.004687032022370417), (1436, 0.0046846402191717705), (4467, 0.004675608500865614), (1985, 0.0046745454404008525), (3917, 0.004674370516757181), (1146, 0.0046725543564608745), (1525, 0.0046718355793976315), (264, 0.004671627923784268), (2807, 0.00466821600140909), (3018, 0.004668102456264665), (1461, 0.004667503686817278), (3321, 0.004667061756899141), (897, 0.004666866052198216), (3446, 0.004666289539651899), (3150, 0.004664762523292567), (2003, 0.004661650914042339), (2501, 0.004661515163844956), (3491, 0.004660900530930146), (3265, 0.004659123062444466), (2640, 0.004655378983728654), (4592, 0.004655311017328638), (3536, 0.004648833441944259), (3818, 0.0046467690709092735), (2193, 0.00463992411369454), (299, 0.004638987668443861), (529, 0.004638596814995718), (2198, 0.004632206208860697), (2706, 0.00462843049723441), (3368, 0.004624231774566731), (1239, 0.004621487407325666), (1501, 0.0046200224452028465), (3073, 0.004619592640339382), (2169, 0.004619497192733913), (2812, 0.004619449760490919), (736, 0.004617117047719717), (4218, 0.004616271437696149), (2017, 0.00461470841208669), (3701, 0.004614530663690082), (3435, 0.004612787365016314), (521, 0.004611638483525297), (3033, 0.0046080258466226764), (993, 0.004606416324675053), (1111, 0.004604202949047932), (1551, 0.004604094976990046), (3955, 0.004599500250287968), (2503, 0.004588521336411952), (4687, 0.00458690208375374), (3568, 0.004586751802621833), (1338, 0.004586000552408034), (4068, 0.004585527964715313), (1035, 0.004585479913870663), (3053, 0.0045834794653891), (2045, 0.004581346075353373), (105, 0.004567270073855006), (135, 0.004566901502520251), (938, 0.004563079612170134), (1022, 0.004559626936980745), (1515, 0.004558884646971379), (1857, 0.004556109980194815), (439, 0.004555214463355321), (3237, 0.004554065926521526), (2071, 0.004553222566968232), (4157, 0.004552816692471234), (2027, 0.004552639073308037), (260, 0.004550230825046071), (1620, 0.004549651596887151), (3066, 0.00454490554455782), (2808, 0.0045395396410488715), (3739, 0.004539411501435712), (613, 0.004534578881924185), (4137, 0.004531586926368938), (4504, 0.004531578674603526), (3720, 0.004529950544338332), (3566, 0.004529470645430241), (4012, 0.004525573159166616), (3567, 0.004525062981584919), (2178, 0.004524475712440669), (3151, 0.0045243196508252155), (1059, 0.004521145309932743), (348, 0.004519982556785808), (3786, 0.00451900375693643), (1738, 0.004517358202105412), (1442, 0.0045157858371254155), (1984, 0.0045152205225923465), (171, 0.004508615049071547), (112, 0.0045065568288145666), (261, 0.004504430416349311), (3998, 0.004503550391419383), (2480, 0.004502791270757315), (2698, 0.00450235232101689), (4438, 0.004501677321305494), (3868, 0.004497585338704003), (2128, 0.004497041272015854), (39, 0.004496313556220065), (3343, 0.004495554637205032), (2056, 0.004494114886827517), (4059, 0.004488894093391095), (2131, 0.004483581920113574), (870, 0.004477238864884073), (883, 0.004469782377099067), (854, 0.004462396145575746), (3819, 0.004458594242037391), (1446, 0.004455433042767338), (3295, 0.004454249517958831), (1113, 0.004452771990966976), (1597, 0.0044527505859514385), (2777, 0.00445216290791419), (1617, 0.004451587675515422), (3011, 0.004449397960626596), (4442, 0.004449139475252537), (4328, 0.004448634320978), (3886, 0.004448569597351015), (119, 0.004444755554968105), (4600, 0.004442669645610771), (2029, 0.00444217880467149), (1510, 0.004441055570026158), (1742, 0.004440273424817881), (1782, 0.004436605021133767), (4217, 0.004435576818435167), (138, 0.004434990487943623), (4339, 0.00443302076108466), (4564, 0.004428501896629928), (773, 0.004419814526995356), (3646, 0.004415982629596118), (2446, 0.004414934405106814), (3046, 0.004414673470345774), (3891, 0.004414017473936185), (1793, 0.004405686445756397), (215, 0.004401215356416492), (1988, 0.004400950016704654), (1360, 0.004395326787000157), (388, 0.004382815244063861), (3240, 0.004377728129060865), (2859, 0.004377603438512537), (3399, 0.004377501948575145), (866, 0.004373724985370754), (2892, 0.004373382036389194), (1756, 0.00437197920995103), (4472, 0.004371074864960305), (3465, 0.004368330352790092), (486, 0.004363112371728573), (1642, 0.0043607182837309185), (3028, 0.004360160356923398), (907, 0.0043587246840218925), (408, 0.004357789588243923), (4272, 0.0043573401032431435), (4399, 0.004354709354981145), (492, 0.004343321663769041), (974, 0.004343202922673693), (2862, 0.0043430518168787735), (9, 0.004343046097131074), (4257, 0.00434010608673756), (1066, 0.004338543316583013), (2631, 0.004337236654485106), (372, 0.0043361541469943785), (45, 0.004335058152356135), (1314, 0.004333588143292374), (2291, 0.004332298495381542), (2094, 0.004317800226708939), (4634, 0.004315189411504151), (1895, 0.004311844938591535), (1746, 0.004310243350569018), (963, 0.004308918523753451), (18, 0.00430758370804661), (4176, 0.004305239359637118), (3127, 0.0043013787085792975), (4689, 0.00429974749563926), (411, 0.004297898609772525), (3342, 0.0042976135097776225), (1662, 0.004295931754847084), (2920, 0.0042941114817367345), (3563, 0.004290637564731103), (1308, 0.004287491493894159), (4473, 0.004285381349615552), (3841, 0.004279427643511584), (2491, 0.00427766900736806), (1052, 0.004275361655992421), (3071, 0.004272364582634137), (1555, 0.004271942402061433), (4459, 0.004268244278466058), (4348, 0.004260842250683624), (1173, 0.00425776086553226), (291, 0.004249527412949083), (1054, 0.004249465533557248), (788, 0.004248555944668247), (306, 0.004247261998796198), (4568, 0.004244773499162221), (511, 0.0042396737537959625), (575, 0.004236312784653792), (354, 0.00423447577961394), (1270, 0.0042338788541778465), (2301, 0.004231428605095467), (2608, 0.004231418313628471), (569, 0.0042277334712315035), (3226, 0.0042235082367396894), (1990, 0.004200769797049677), (2855, 0.004193080850094349), (2906, 0.0041884358925879245), (4297, 0.004177993478470141), (583, 0.004177312751161386), (1987, 0.004175654482365754), (1384, 0.004171155933342635), (2058, 0.004169846192548496), (3598, 0.004169324048021066), (885, 0.004168638372393236), (410, 0.00416756745803916), (3655, 0.004166195780981312), (1719, 0.004156859062814106), (148, 0.00415650016696514), (1994, 0.004154944183392606), (722, 0.004146277490606805), (978, 0.0041414012382294035), (3484, 0.004136077658253914), (898, 0.004127927895286582), (1546, 0.004124315170689466), (1772, 0.004118902384459197), (3327, 0.004115742101009116), (1312, 0.004110324988177405), (1136, 0.004109208614180238), (1971, 0.004099514428469989), (2627, 0.0040919367314040025), (3748, 0.004088966698946554), (2587, 0.004085282349652351), (3336, 0.00408458465502944), (3108, 0.004084378149410368), (2156, 0.004078144723624816), (3928, 0.00407022909811293), (756, 0.00406681112798491), (3211, 0.004065655345950841), (3360, 0.0040633509046111), (497, 0.004062893271737593), (779, 0.004054935111763373), (2933, 0.004054883584985132), (3403, 0.004053984864699206), (4590, 0.004046836112230026), (1850, 0.0040432262320488875), (64, 0.004039969507618457), (4748, 0.004037463584677343), (3944, 0.004036990358213336), (3980, 0.004028738472410473), (97, 0.004027679838063719), (1194, 0.004020027770365424), (1120, 0.004012754586866087), (60, 0.004002438081949026), (1394, 0.003998161636887048), (3409, 0.003993618324051485), (2047, 0.003976159908718366), (4156, 0.003972924821138256), (4158, 0.003968367875320394), (2447, 0.003965413461913206), (2842, 0.003953627795227294), (195, 0.003953448057880978), (1377, 0.003947935580783027), (3957, 0.003947576692501337), (186, 0.003939329899029586), (2969, 0.003933377719710128), (725, 0.003918472678955893), (2070, 0.003914448943552983), (1707, 0.003914431064356645), (3821, 0.00391259940490346), (78, 0.003911466095667967), (3222, 0.0039032897361648182), (1535, 0.0038940974865425263), (1530, 0.00389308918595814), (2622, 0.003892760755700531), (288, 0.0038886560585867343), (1221, 0.0038869211482324387), (2985, 0.0038722506050604026), (1691, 0.00387198092440216), (1981, 0.0038693042278011114), (4414, 0.0038495664350372406), (3362, 0.00383117843302389), (2296, 0.0038151719966352197), (2377, 0.0038100440123653334), (1395, 0.0037815295415234693), (477, 0.003764724739649169), (738, 0.003761932090838374), (381, 0.003741257234934739), (3410, 0.003738207267794629), (159, 0.0037274731971801466), (2774, 0.0037037020458313705), (168, 0.0036975036005101264), (2013, 0.0036859360980047093), (668, 0.0036739025709673283), (510, 0.003671640670200313), (294, 0.0036451201499005503), (1418, 0.0036128374037111264), (3316, 0.0036087269287464036), (929, 0.0035413857653458984), (3365, 0.0033263114014074635), (4, 0.0), (5, 0.0), (6, 0.0), (8, 0.0), (13, 0.0), (15, 0.0), (16, 0.0), (17, 0.0), (19, 0.0), (20, 0.0), (21, 0.0), (23, 0.0), (24, 0.0), (31, 0.0), (32, 0.0), (34, 0.0), (36, 0.0), (38, 0.0), (40, 0.0), (41, 0.0), (42, 0.0), (46, 0.0), (48, 0.0), (51, 0.0), (54, 0.0), (55, 0.0), (59, 0.0), (62, 0.0), (63, 0.0), (65, 0.0), (66, 0.0), (68, 0.0), (71, 0.0), (77, 0.0), (81, 0.0), (83, 0.0), (84, 0.0), (89, 0.0), (90, 0.0), (93, 0.0), (95, 0.0), (98, 0.0), (99, 0.0), (100, 0.0), (103, 0.0), (104, 0.0), (107, 0.0), (109, 0.0), (111, 0.0), (115, 0.0), (116, 0.0), (117, 0.0), (118, 0.0), (120, 0.0), (126, 0.0), (127, 0.0), (128, 0.0), (129, 0.0), (131, 0.0), (133, 0.0), (134, 0.0), (139, 0.0), (141, 0.0), (145, 0.0), (147, 0.0), (151, 0.0), (153, 0.0), (157, 0.0), (158, 0.0), (163, 0.0), (164, 0.0), (172, 0.0), (174, 0.0), (180, 0.0), (181, 0.0), (183, 0.0), (190, 0.0), (197, 0.0), (199, 0.0), (200, 0.0), (204, 0.0), (205, 0.0), (206, 0.0), (207, 0.0), (208, 0.0), (209, 0.0), (210, 0.0), (211, 0.0), (213, 0.0), (224, 0.0), (226, 0.0), (227, 0.0), (234, 0.0), (235, 0.0), (236, 0.0), (238, 0.0), (241, 0.0), (242, 0.0), (244, 0.0), (246, 0.0), (248, 0.0), (252, 0.0), (253, 0.0), (255, 0.0), (257, 0.0), (258, 0.0), (262, 0.0), (267, 0.0), (268, 0.0), (274, 0.0), (275, 0.0), (278, 0.0), (280, 0.0), (281, 0.0), (282, 0.0), (283, 0.0), (289, 0.0), (290, 0.0), (295, 0.0), (296, 0.0), (300, 0.0), (302, 0.0), (303, 0.0), (305, 0.0), (307, 0.0), (308, 0.0), (313, 0.0), (314, 0.0), (316, 0.0), (318, 0.0), (320, 0.0), (321, 0.0), (322, 0.0), (323, 0.0), (325, 0.0), (326, 0.0), (329, 0.0), (331, 0.0), (332, 0.0), (333, 0.0), (340, 0.0), (343, 0.0), (364, 0.0), (366, 0.0), (367, 0.0), (371, 0.0), (374, 0.0), (375, 0.0), (376, 0.0), (382, 0.0), (383, 0.0), (386, 0.0), (387, 0.0), (389, 0.0), (390, 0.0), (393, 0.0), (394, 0.0), (396, 0.0), (397, 0.0), (398, 0.0), (399, 0.0), (401, 0.0), (402, 0.0), (405, 0.0), (413, 0.0), (414, 0.0), (416, 0.0), (417, 0.0), (419, 0.0), (420, 0.0), (422, 0.0), (423, 0.0), (426, 0.0), (431, 0.0), (432, 0.0), (436, 0.0), (437, 0.0), (438, 0.0), (442, 0.0), (443, 0.0), (444, 0.0), (445, 0.0), (447, 0.0), (450, 0.0), (456, 0.0), (458, 0.0), (462, 0.0), (468, 0.0), (470, 0.0), (471, 0.0), (475, 0.0), (476, 0.0), (478, 0.0), (480, 0.0), (481, 0.0), (482, 0.0), (484, 0.0), (485, 0.0), (487, 0.0), (489, 0.0), (490, 0.0), (493, 0.0), (499, 0.0), (502, 0.0), (503, 0.0), (505, 0.0), (506, 0.0), (509, 0.0), (512, 0.0), (513, 0.0), (514, 0.0), (515, 0.0), (516, 0.0), (518, 0.0), (522, 0.0), (526, 0.0), (527, 0.0), (528, 0.0), (531, 0.0), (533, 0.0), (534, 0.0), (535, 0.0), (536, 0.0), (543, 0.0), (544, 0.0), (550, 0.0), (551, 0.0), (552, 0.0), (554, 0.0), (556, 0.0), (558, 0.0), (563, 0.0), (564, 0.0), (565, 0.0), (570, 0.0), (571, 0.0), (572, 0.0), (573, 0.0), (574, 0.0), (576, 0.0), (579, 0.0), (580, 0.0), (581, 0.0), (584, 0.0), (586, 0.0), (587, 0.0), (588, 0.0), (589, 0.0), (590, 0.0), (591, 0.0), (592, 0.0), (593, 0.0), (595, 0.0), (598, 0.0), (599, 0.0), (601, 0.0), (602, 0.0), (603, 0.0), (606, 0.0), (608, 0.0), (615, 0.0), (616, 0.0), (617, 0.0), (623, 0.0), (625, 0.0), (626, 0.0), (627, 0.0), (631, 0.0), (632, 0.0), (633, 0.0), (634, 0.0), (636, 0.0), (637, 0.0), (638, 0.0), (644, 0.0), (645, 0.0), (649, 0.0), (650, 0.0), (652, 0.0), (654, 0.0), (655, 0.0), (658, 0.0), (659, 0.0), (660, 0.0), (661, 0.0), (663, 0.0), (667, 0.0), (669, 0.0), (671, 0.0), (672, 0.0), (673, 0.0), (675, 0.0), (678, 0.0), (679, 0.0), (680, 0.0), (681, 0.0), (682, 0.0), (686, 0.0), (688, 0.0), (694, 0.0), (702, 0.0), (707, 0.0), (710, 0.0), (711, 0.0), (713, 0.0), (714, 0.0), (715, 0.0), (716, 0.0), (718, 0.0), (720, 0.0), (721, 0.0), (728, 0.0), (729, 0.0), (732, 0.0), (734, 0.0), (735, 0.0), (739, 0.0), (741, 0.0), (746, 0.0), (748, 0.0), (751, 0.0), (754, 0.0), (758, 0.0), (759, 0.0), (760, 0.0), (761, 0.0), (764, 0.0), (765, 0.0), (766, 0.0), (767, 0.0), (770, 0.0), (771, 0.0), (772, 0.0), (774, 0.0), (776, 0.0), (777, 0.0), (782, 0.0), (783, 0.0), (784, 0.0), (791, 0.0), (795, 0.0), (796, 0.0), (799, 0.0), (800, 0.0), (801, 0.0), (808, 0.0), (809, 0.0), (814, 0.0), (816, 0.0), (817, 0.0), (818, 0.0), (823, 0.0), (825, 0.0), (826, 0.0), (828, 0.0), (830, 0.0), (832, 0.0), (837, 0.0), (841, 0.0), (842, 0.0), (844, 0.0), (845, 0.0), (848, 0.0), (851, 0.0), (857, 0.0), (859, 0.0), (860, 0.0), (863, 0.0), (864, 0.0), (865, 0.0), (867, 0.0), (869, 0.0), (871, 0.0), (873, 0.0), (875, 0.0), (876, 0.0), (877, 0.0), (886, 0.0), (888, 0.0), (889, 0.0), (896, 0.0), (901, 0.0), (902, 0.0), (903, 0.0), (904, 0.0), (910, 0.0), (914, 0.0), (916, 0.0), (917, 0.0), (921, 0.0), (922, 0.0), (923, 0.0), (925, 0.0), (927, 0.0), (933, 0.0), (937, 0.0), (940, 0.0), (941, 0.0), (942, 0.0), (943, 0.0), (947, 0.0), (949, 0.0), (950, 0.0), (951, 0.0), (952, 0.0), (955, 0.0), (956, 0.0), (959, 0.0), (960, 0.0), (961, 0.0), (964, 0.0), (965, 0.0), (967, 0.0), (968, 0.0), (969, 0.0), (970, 0.0), (972, 0.0), (976, 0.0), (977, 0.0), (979, 0.0), (980, 0.0), (983, 0.0), (984, 0.0), (986, 0.0), (987, 0.0), (990, 0.0), (992, 0.0), (994, 0.0), (996, 0.0), (997, 0.0), (999, 0.0), (1003, 0.0), (1007, 0.0), (1012, 0.0), (1013, 0.0), (1014, 0.0), (1015, 0.0), (1017, 0.0), (1019, 0.0), (1020, 0.0), (1023, 0.0), (1024, 0.0), (1027, 0.0), (1030, 0.0), (1031, 0.0), (1032, 0.0), (1034, 0.0), (1036, 0.0), (1037, 0.0), (1043, 0.0), (1044, 0.0), (1047, 0.0), (1051, 0.0), (1053, 0.0), (1055, 0.0), (1056, 0.0), (1058, 0.0), (1061, 0.0), (1063, 0.0), (1064, 0.0), (1065, 0.0), (1069, 0.0), (1070, 0.0), (1074, 0.0), (1075, 0.0), (1078, 0.0), (1083, 0.0), (1086, 0.0), (1088, 0.0), (1091, 0.0), (1093, 0.0), (1096, 0.0), (1097, 0.0), (1098, 0.0), (1099, 0.0), (1101, 0.0), (1102, 0.0), (1103, 0.0), (1108, 0.0), (1110, 0.0), (1119, 0.0), (1121, 0.0), (1123, 0.0), (1124, 0.0), (1125, 0.0), (1126, 0.0), (1127, 0.0), (1128, 0.0), (1131, 0.0), (1137, 0.0), (1138, 0.0), (1139, 0.0), (1141, 0.0), (1142, 0.0), (1143, 0.0), (1144, 0.0), (1145, 0.0), (1147, 0.0), (1148, 0.0), (1149, 0.0), (1150, 0.0), (1151, 0.0), (1154, 0.0), (1156, 0.0), (1158, 0.0), (1159, 0.0), (1160, 0.0), (1162, 0.0), (1164, 0.0), (1167, 0.0), (1169, 0.0), (1170, 0.0), (1174, 0.0), (1177, 0.0), (1181, 0.0), (1183, 0.0), (1184, 0.0), (1185, 0.0), (1186, 0.0), (1187, 0.0), (1188, 0.0), (1189, 0.0), (1190, 0.0), (1193, 0.0), (1196, 0.0), (1199, 0.0), (1200, 0.0), (1201, 0.0), (1203, 0.0), (1204, 0.0), (1205, 0.0), (1206, 0.0), (1217, 0.0), (1218, 0.0), (1220, 0.0), (1224, 0.0), (1225, 0.0), (1229, 0.0), (1230, 0.0), (1233, 0.0), (1234, 0.0), (1236, 0.0), (1238, 0.0), (1240, 0.0), (1243, 0.0), (1244, 0.0), (1248, 0.0), (1252, 0.0), (1256, 0.0), (1258, 0.0), (1260, 0.0), (1261, 0.0), (1264, 0.0), (1265, 0.0), (1266, 0.0), (1268, 0.0), (1271, 0.0), (1272, 0.0), (1273, 0.0), (1274, 0.0), (1275, 0.0), (1280, 0.0), (1281, 0.0), (1283, 0.0), (1286, 0.0), (1287, 0.0), (1289, 0.0), (1290, 0.0), (1293, 0.0), (1294, 0.0), (1297, 0.0), (1298, 0.0), (1299, 0.0), (1300, 0.0), (1302, 0.0), (1303, 0.0), (1309, 0.0), (1310, 0.0), (1311, 0.0), (1313, 0.0), (1315, 0.0), (1316, 0.0), (1317, 0.0), (1318, 0.0), (1320, 0.0), (1324, 0.0), (1325, 0.0), (1326, 0.0), (1328, 0.0), (1330, 0.0), (1331, 0.0), (1332, 0.0), (1335, 0.0), (1337, 0.0), (1340, 0.0), (1342, 0.0), (1347, 0.0), (1348, 0.0), (1350, 0.0), (1355, 0.0), (1357, 0.0), (1358, 0.0), (1359, 0.0), (1361, 0.0), (1362, 0.0), (1363, 0.0), (1367, 0.0), (1370, 0.0), (1371, 0.0), (1372, 0.0), (1375, 0.0), (1376, 0.0), (1378, 0.0), (1380, 0.0), (1382, 0.0), (1386, 0.0), (1388, 0.0), (1389, 0.0), (1391, 0.0), (1398, 0.0), (1399, 0.0), (1400, 0.0), (1408, 0.0), (1410, 0.0), (1415, 0.0), (1416, 0.0), (1417, 0.0), (1422, 0.0), (1424, 0.0), (1425, 0.0), (1426, 0.0), (1428, 0.0), (1429, 0.0), (1432, 0.0), (1434, 0.0), (1435, 0.0), (1437, 0.0), (1438, 0.0), (1439, 0.0), (1440, 0.0), (1441, 0.0), (1444, 0.0), (1448, 0.0), (1449, 0.0), (1452, 0.0), (1455, 0.0), (1457, 0.0), (1462, 0.0), (1463, 0.0), (1466, 0.0), (1469, 0.0), (1470, 0.0), (1476, 0.0), (1483, 0.0), (1484, 0.0), (1486, 0.0), (1488, 0.0), (1490, 0.0), (1491, 0.0), (1497, 0.0), (1498, 0.0), (1499, 0.0), (1502, 0.0), (1504, 0.0), (1508, 0.0), (1512, 0.0), (1513, 0.0), (1514, 0.0), (1516, 0.0), (1518, 0.0), (1519, 0.0), (1527, 0.0), (1528, 0.0), (1531, 0.0), (1533, 0.0), (1534, 0.0), (1536, 0.0), (1540, 0.0), (1541, 0.0), (1542, 0.0), (1545, 0.0), (1547, 0.0), (1554, 0.0), (1556, 0.0), (1558, 0.0), (1560, 0.0), (1565, 0.0), (1566, 0.0), (1567, 0.0), (1571, 0.0), (1572, 0.0), (1573, 0.0), (1575, 0.0), (1576, 0.0), (1581, 0.0), (1583, 0.0), (1585, 0.0), (1589, 0.0), (1590, 0.0), (1591, 0.0), (1592, 0.0), (1593, 0.0), (1595, 0.0), (1596, 0.0), (1598, 0.0), (1605, 0.0), (1611, 0.0), (1612, 0.0), (1615, 0.0), (1618, 0.0), (1622, 0.0), (1623, 0.0), (1624, 0.0), (1627, 0.0), (1628, 0.0), (1631, 0.0), (1633, 0.0), (1635, 0.0), (1636, 0.0), (1637, 0.0), (1638, 0.0), (1639, 0.0), (1641, 0.0), (1643, 0.0), (1644, 0.0), (1651, 0.0), (1653, 0.0), (1656, 0.0), (1657, 0.0), (1658, 0.0), (1659, 0.0), (1661, 0.0), (1665, 0.0), (1669, 0.0), (1670, 0.0), (1671, 0.0), (1673, 0.0), (1674, 0.0), (1680, 0.0), (1683, 0.0), (1684, 0.0), (1685, 0.0), (1686, 0.0), (1687, 0.0), (1693, 0.0), (1697, 0.0), (1699, 0.0), (1705, 0.0), (1708, 0.0), (1710, 0.0), (1712, 0.0), (1713, 0.0), (1716, 0.0), (1717, 0.0), (1721, 0.0), (1722, 0.0), (1727, 0.0), (1728, 0.0), (1729, 0.0), (1730, 0.0), (1731, 0.0), (1732, 0.0), (1735, 0.0), (1736, 0.0), (1739, 0.0), (1740, 0.0), (1744, 0.0), (1745, 0.0), (1747, 0.0), (1748, 0.0), (1749, 0.0), (1750, 0.0), (1752, 0.0), (1753, 0.0), (1754, 0.0), (1761, 0.0), (1763, 0.0), (1765, 0.0), (1766, 0.0), (1767, 0.0), (1770, 0.0), (1773, 0.0), (1775, 0.0), (1780, 0.0), (1783, 0.0), (1785, 0.0), (1786, 0.0), (1790, 0.0), (1792, 0.0), (1795, 0.0), (1796, 0.0), (1801, 0.0), (1803, 0.0), (1805, 0.0), (1806, 0.0), (1807, 0.0), (1815, 0.0), (1819, 0.0), (1821, 0.0), (1822, 0.0), (1826, 0.0), (1829, 0.0), (1830, 0.0), (1831, 0.0), (1832, 0.0), (1835, 0.0), (1836, 0.0), (1838, 0.0), (1839, 0.0), (1840, 0.0), (1843, 0.0), (1846, 0.0), (1847, 0.0), (1848, 0.0), (1853, 0.0), (1854, 0.0), (1856, 0.0), (1863, 0.0), (1866, 0.0), (1867, 0.0), (1870, 0.0), (1872, 0.0), (1874, 0.0), (1875, 0.0), (1879, 0.0), (1880, 0.0), (1882, 0.0), (1883, 0.0), (1884, 0.0), (1885, 0.0), (1889, 0.0), (1890, 0.0), (1892, 0.0), (1894, 0.0), (1896, 0.0), (1898, 0.0), (1899, 0.0), (1900, 0.0), (1901, 0.0), (1902, 0.0), (1904, 0.0), (1905, 0.0), (1906, 0.0), (1909, 0.0), (1911, 0.0), (1913, 0.0), (1916, 0.0), (1917, 0.0), (1918, 0.0), (1922, 0.0), (1923, 0.0), (1924, 0.0), (1928, 0.0), (1929, 0.0), (1930, 0.0), (1932, 0.0), (1936, 0.0), (1938, 0.0), (1939, 0.0), (1940, 0.0), (1941, 0.0), (1943, 0.0), (1945, 0.0), (1946, 0.0), (1947, 0.0), (1949, 0.0), (1955, 0.0), (1956, 0.0), (1958, 0.0), (1960, 0.0), (1962, 0.0), (1965, 0.0), (1966, 0.0), (1970, 0.0), (1972, 0.0), (1975, 0.0), (1976, 0.0), (1980, 0.0), (1983, 0.0), (1986, 0.0), (1989, 0.0), (1991, 0.0), (1995, 0.0), (1996, 0.0), (2001, 0.0), (2002, 0.0), (2004, 0.0), (2006, 0.0), (2008, 0.0), (2010, 0.0), (2011, 0.0), (2015, 0.0), (2018, 0.0), (2020, 0.0), (2021, 0.0), (2023, 0.0), (2024, 0.0), (2025, 0.0), (2026, 0.0), (2028, 0.0), (2033, 0.0), (2035, 0.0), (2042, 0.0), (2044, 0.0), (2046, 0.0), (2048, 0.0), (2049, 0.0), (2052, 0.0), (2054, 0.0), (2057, 0.0), (2063, 0.0), (2066, 0.0), (2067, 0.0), (2068, 0.0), (2069, 0.0), (2075, 0.0), (2076, 0.0), (2077, 0.0), (2078, 0.0), (2080, 0.0), (2081, 0.0), (2082, 0.0), (2083, 0.0), (2084, 0.0), (2087, 0.0), (2089, 0.0), (2090, 0.0), (2091, 0.0), (2092, 0.0), (2093, 0.0), (2096, 0.0), (2099, 0.0), (2101, 0.0), (2105, 0.0), (2106, 0.0), (2108, 0.0), (2110, 0.0), (2115, 0.0), (2117, 0.0), (2119, 0.0), (2120, 0.0), (2123, 0.0), (2124, 0.0), (2125, 0.0), (2127, 0.0), (2129, 0.0), (2130, 0.0), (2132, 0.0), (2133, 0.0), (2134, 0.0), (2136, 0.0), (2137, 0.0), (2139, 0.0), (2141, 0.0), (2142, 0.0), (2146, 0.0), (2148, 0.0), (2149, 0.0), (2151, 0.0), (2152, 0.0), (2154, 0.0), (2157, 0.0), (2162, 0.0), (2163, 0.0), (2164, 0.0), (2165, 0.0), (2166, 0.0), (2168, 0.0), (2171, 0.0), (2172, 0.0), (2173, 0.0), (2176, 0.0), (2179, 0.0), (2181, 0.0), (2182, 0.0), (2186, 0.0), (2187, 0.0), (2188, 0.0), (2189, 0.0), (2194, 0.0), (2199, 0.0), (2202, 0.0), (2203, 0.0), (2205, 0.0), (2208, 0.0), (2209, 0.0), (2210, 0.0), (2213, 0.0), (2214, 0.0), (2216, 0.0), (2217, 0.0), (2219, 0.0), (2223, 0.0), (2225, 0.0), (2228, 0.0), (2229, 0.0), (2230, 0.0), (2231, 0.0), (2233, 0.0), (2238, 0.0), (2240, 0.0), (2242, 0.0), (2243, 0.0), (2244, 0.0), (2247, 0.0), (2248, 0.0), (2249, 0.0), (2251, 0.0), (2253, 0.0), (2254, 0.0), (2255, 0.0), (2256, 0.0), (2257, 0.0), (2258, 0.0), (2260, 0.0), (2261, 0.0), (2265, 0.0), (2269, 0.0), (2270, 0.0), (2271, 0.0), (2272, 0.0), (2273, 0.0), (2275, 0.0), (2276, 0.0), (2279, 0.0), (2281, 0.0), (2282, 0.0), (2284, 0.0), (2286, 0.0), (2288, 0.0), (2289, 0.0), (2293, 0.0), (2294, 0.0), (2295, 0.0), (2298, 0.0), (2300, 0.0), (2302, 0.0), (2304, 0.0), (2305, 0.0), (2306, 0.0), (2307, 0.0), (2308, 0.0), (2309, 0.0), (2310, 0.0), (2312, 0.0), (2313, 0.0), (2314, 0.0), (2315, 0.0), (2316, 0.0), (2319, 0.0), (2323, 0.0), (2324, 0.0), (2325, 0.0), (2328, 0.0), (2330, 0.0), (2331, 0.0), (2333, 0.0), (2336, 0.0), (2337, 0.0), (2341, 0.0), (2342, 0.0), (2343, 0.0), (2344, 0.0), (2345, 0.0), (2346, 0.0), (2348, 0.0), (2349, 0.0), (2350, 0.0), (2355, 0.0), (2356, 0.0), (2357, 0.0), (2358, 0.0), (2361, 0.0), (2362, 0.0), (2364, 0.0), (2369, 0.0), (2371, 0.0), (2373, 0.0), (2374, 0.0), (2375, 0.0), (2379, 0.0), (2380, 0.0), (2381, 0.0), (2382, 0.0), (2383, 0.0), (2384, 0.0), (2385, 0.0), (2386, 0.0), (2387, 0.0), (2388, 0.0), (2389, 0.0), (2391, 0.0), (2394, 0.0), (2395, 0.0), (2396, 0.0), (2397, 0.0), (2400, 0.0), (2401, 0.0), (2402, 0.0), (2403, 0.0), (2404, 0.0), (2405, 0.0), (2407, 0.0), (2410, 0.0), (2411, 0.0), (2415, 0.0), (2417, 0.0), (2419, 0.0), (2420, 0.0), (2423, 0.0), (2424, 0.0), (2425, 0.0), (2426, 0.0), (2428, 0.0), (2429, 0.0), (2432, 0.0), (2434, 0.0), (2435, 0.0), (2437, 0.0), (2438, 0.0), (2439, 0.0), (2440, 0.0), (2448, 0.0), (2449, 0.0), (2452, 0.0), (2453, 0.0), (2454, 0.0), (2455, 0.0), (2456, 0.0), (2459, 0.0), (2461, 0.0), (2463, 0.0), (2464, 0.0), (2465, 0.0), (2466, 0.0), (2467, 0.0), (2468, 0.0), (2469, 0.0), (2470, 0.0), (2471, 0.0), (2475, 0.0), (2477, 0.0), (2478, 0.0), (2482, 0.0), (2483, 0.0), (2486, 0.0), (2488, 0.0), (2489, 0.0), (2490, 0.0), (2493, 0.0), (2495, 0.0), (2497, 0.0), (2499, 0.0), (2500, 0.0), (2505, 0.0), (2506, 0.0), (2508, 0.0), (2512, 0.0), (2515, 0.0), (2519, 0.0), (2520, 0.0), (2522, 0.0), (2523, 0.0), (2524, 0.0), (2527, 0.0), (2529, 0.0), (2530, 0.0), (2531, 0.0), (2535, 0.0), (2536, 0.0), (2537, 0.0), (2542, 0.0), (2543, 0.0), (2545, 0.0), (2549, 0.0), (2551, 0.0), (2555, 0.0), (2556, 0.0), (2557, 0.0), (2558, 0.0), (2559, 0.0), (2561, 0.0), (2564, 0.0), (2565, 0.0), (2566, 0.0), (2567, 0.0), (2569, 0.0), (2571, 0.0), (2572, 0.0), (2575, 0.0), (2576, 0.0), (2577, 0.0), (2590, 0.0), (2592, 0.0), (2593, 0.0), (2594, 0.0), (2596, 0.0), (2597, 0.0), (2598, 0.0), (2599, 0.0), (2600, 0.0), (2602, 0.0), (2604, 0.0), (2605, 0.0), (2606, 0.0), (2607, 0.0), (2609, 0.0), (2613, 0.0), (2614, 0.0), (2617, 0.0), (2618, 0.0), (2619, 0.0), (2620, 0.0), (2621, 0.0), (2624, 0.0), (2628, 0.0), (2629, 0.0), (2630, 0.0), (2635, 0.0), (2638, 0.0), (2639, 0.0), (2641, 0.0), (2643, 0.0), (2648, 0.0), (2650, 0.0), (2651, 0.0), (2653, 0.0), (2655, 0.0), (2657, 0.0), (2658, 0.0), (2659, 0.0), (2669, 0.0), (2670, 0.0), (2672, 0.0), (2674, 0.0), (2676, 0.0), (2678, 0.0), (2679, 0.0), (2681, 0.0), (2683, 0.0), (2684, 0.0), (2690, 0.0), (2692, 0.0), (2693, 0.0), (2694, 0.0), (2695, 0.0), (2697, 0.0), (2699, 0.0), (2700, 0.0), (2701, 0.0), (2702, 0.0), (2703, 0.0), (2705, 0.0), (2707, 0.0), (2709, 0.0), (2711, 0.0), (2713, 0.0), (2714, 0.0), (2716, 0.0), (2718, 0.0), (2721, 0.0), (2722, 0.0), (2723, 0.0), (2726, 0.0), (2727, 0.0), (2728, 0.0), (2731, 0.0), (2733, 0.0), (2735, 0.0), (2736, 0.0), (2737, 0.0), (2739, 0.0), (2742, 0.0), (2743, 0.0), (2744, 0.0), (2745, 0.0), (2748, 0.0), (2750, 0.0), (2754, 0.0), (2756, 0.0), (2757, 0.0), (2758, 0.0), (2764, 0.0), (2767, 0.0), (2768, 0.0), (2769, 0.0), (2772, 0.0), (2773, 0.0), (2775, 0.0), (2778, 0.0), (2779, 0.0), (2780, 0.0), (2783, 0.0), (2784, 0.0), (2785, 0.0), (2786, 0.0), (2787, 0.0), (2794, 0.0), (2795, 0.0), (2796, 0.0), (2797, 0.0), (2799, 0.0), (2800, 0.0), (2802, 0.0), (2803, 0.0), (2805, 0.0), (2806, 0.0), (2810, 0.0), (2811, 0.0), (2815, 0.0), (2819, 0.0), (2820, 0.0), (2821, 0.0), (2823, 0.0), (2825, 0.0), (2827, 0.0), (2828, 0.0), (2830, 0.0), (2832, 0.0), (2833, 0.0), (2836, 0.0), (2837, 0.0), (2838, 0.0), (2843, 0.0), (2846, 0.0), (2847, 0.0), (2848, 0.0), (2849, 0.0), (2850, 0.0), (2853, 0.0), (2858, 0.0), (2860, 0.0), (2861, 0.0), (2863, 0.0), (2866, 0.0), (2868, 0.0), (2869, 0.0), (2870, 0.0), (2871, 0.0), (2872, 0.0), (2874, 0.0), (2875, 0.0), (2877, 0.0), (2879, 0.0), (2880, 0.0), (2881, 0.0), (2883, 0.0), (2885, 0.0), (2886, 0.0), (2887, 0.0), (2888, 0.0), (2889, 0.0), (2890, 0.0), (2891, 0.0), (2893, 0.0), (2894, 0.0), (2895, 0.0), (2896, 0.0), (2898, 0.0), (2901, 0.0), (2902, 0.0), (2903, 0.0), (2904, 0.0), (2905, 0.0), (2907, 0.0), (2909, 0.0), (2913, 0.0), (2914, 0.0), (2916, 0.0), (2917, 0.0), (2919, 0.0), (2921, 0.0), (2922, 0.0), (2923, 0.0), (2924, 0.0), (2926, 0.0), (2928, 0.0), (2930, 0.0), (2932, 0.0), (2934, 0.0), (2936, 0.0), (2937, 0.0), (2939, 0.0), (2941, 0.0), (2943, 0.0), (2945, 0.0), (2946, 0.0), (2947, 0.0), (2948, 0.0), (2949, 0.0), (2950, 0.0), (2953, 0.0), (2955, 0.0), (2956, 0.0), (2958, 0.0), (2959, 0.0), (2960, 0.0), (2961, 0.0), (2966, 0.0), (2967, 0.0), (2968, 0.0), (2970, 0.0), (2971, 0.0), (2972, 0.0), (2973, 0.0), (2974, 0.0), (2976, 0.0), (2977, 0.0), (2978, 0.0), (2979, 0.0), (2983, 0.0), (2984, 0.0), (2986, 0.0), (2987, 0.0), (2988, 0.0), (2989, 0.0), (2990, 0.0), (2991, 0.0), (2992, 0.0), (2993, 0.0), (2994, 0.0), (2995, 0.0), (2997, 0.0), (2998, 0.0), (3001, 0.0), (3002, 0.0), (3004, 0.0), (3005, 0.0), (3006, 0.0), (3007, 0.0), (3008, 0.0), (3009, 0.0), (3012, 0.0), (3013, 0.0), (3015, 0.0), (3016, 0.0), (3017, 0.0), (3019, 0.0), (3020, 0.0), (3021, 0.0), (3023, 0.0), (3025, 0.0), (3026, 0.0), (3029, 0.0), (3031, 0.0), (3032, 0.0), (3034, 0.0), (3035, 0.0), (3036, 0.0), (3037, 0.0), (3038, 0.0), (3039, 0.0), (3040, 0.0), (3041, 0.0), (3042, 0.0), (3043, 0.0), (3044, 0.0), (3048, 0.0), (3049, 0.0), (3050, 0.0), (3051, 0.0), (3052, 0.0), (3054, 0.0), (3055, 0.0), (3056, 0.0), (3058, 0.0), (3059, 0.0), (3061, 0.0), (3062, 0.0), (3063, 0.0), (3064, 0.0), (3065, 0.0), (3067, 0.0), (3068, 0.0), (3069, 0.0), (3070, 0.0), (3072, 0.0), (3074, 0.0), (3075, 0.0), (3076, 0.0), (3078, 0.0), (3079, 0.0), (3080, 0.0), (3081, 0.0), (3082, 0.0), (3084, 0.0), (3085, 0.0), (3086, 0.0), (3087, 0.0), (3088, 0.0), (3089, 0.0), (3090, 0.0), (3093, 0.0), (3094, 0.0), (3095, 0.0), (3097, 0.0), (3099, 0.0), (3100, 0.0), (3102, 0.0), (3105, 0.0), (3107, 0.0), (3112, 0.0), (3114, 0.0), (3115, 0.0), (3118, 0.0), (3123, 0.0), (3124, 0.0), (3126, 0.0), (3128, 0.0), (3130, 0.0), (3131, 0.0), (3132, 0.0), (3134, 0.0), (3135, 0.0), (3136, 0.0), (3137, 0.0), (3138, 0.0), (3139, 0.0), (3140, 0.0), (3143, 0.0), (3146, 0.0), (3147, 0.0), (3148, 0.0), (3153, 0.0), (3154, 0.0), (3156, 0.0), (3157, 0.0), (3158, 0.0), (3159, 0.0), (3160, 0.0), (3161, 0.0), (3163, 0.0), (3164, 0.0), (3165, 0.0), (3166, 0.0), (3167, 0.0), (3168, 0.0), (3169, 0.0), (3170, 0.0), (3171, 0.0), (3174, 0.0), (3176, 0.0), (3177, 0.0), (3178, 0.0), (3182, 0.0), (3183, 0.0), (3184, 0.0), (3185, 0.0), (3186, 0.0), (3187, 0.0), (3189, 0.0), (3190, 0.0), (3191, 0.0), (3192, 0.0), (3193, 0.0), (3194, 0.0), (3196, 0.0), (3197, 0.0), (3198, 0.0), (3200, 0.0), (3202, 0.0), (3203, 0.0), (3204, 0.0), (3207, 0.0), (3210, 0.0), (3216, 0.0), (3217, 0.0), (3219, 0.0), (3220, 0.0), (3223, 0.0), (3227, 0.0), (3230, 0.0), (3232, 0.0), (3235, 0.0), (3236, 0.0), (3239, 0.0), (3241, 0.0), (3242, 0.0), (3243, 0.0), (3245, 0.0), (3246, 0.0), (3247, 0.0), (3248, 0.0), (3249, 0.0), (3250, 0.0), (3253, 0.0), (3255, 0.0), (3257, 0.0), (3258, 0.0), (3261, 0.0), (3262, 0.0), (3266, 0.0), (3267, 0.0), (3268, 0.0), (3271, 0.0), (3274, 0.0), (3275, 0.0), (3276, 0.0), (3278, 0.0), (3280, 0.0), (3281, 0.0), (3282, 0.0), (3285, 0.0), (3289, 0.0), (3290, 0.0), (3291, 0.0), (3292, 0.0), (3296, 0.0), (3299, 0.0), (3300, 0.0), (3301, 0.0), (3304, 0.0), (3305, 0.0), (3307, 0.0), (3309, 0.0), (3310, 0.0), (3314, 0.0), (3319, 0.0), (3322, 0.0), (3323, 0.0), (3324, 0.0), (3325, 0.0), (3326, 0.0), (3332, 0.0), (3333, 0.0), (3334, 0.0), (3335, 0.0), (3337, 0.0), (3339, 0.0), (3340, 0.0), (3341, 0.0), (3347, 0.0), (3348, 0.0), (3349, 0.0), (3350, 0.0), (3351, 0.0), (3352, 0.0), (3353, 0.0), (3354, 0.0), (3355, 0.0), (3356, 0.0), (3357, 0.0), (3358, 0.0), (3359, 0.0), (3363, 0.0), (3367, 0.0), (3371, 0.0), (3372, 0.0), (3377, 0.0), (3378, 0.0), (3379, 0.0), (3380, 0.0), (3381, 0.0), (3382, 0.0), (3383, 0.0), (3385, 0.0), (3388, 0.0), (3391, 0.0), (3392, 0.0), (3394, 0.0), (3396, 0.0), (3398, 0.0), (3400, 0.0), (3401, 0.0), (3402, 0.0), (3404, 0.0), (3405, 0.0), (3406, 0.0), (3416, 0.0), (3417, 0.0), (3418, 0.0), (3419, 0.0), (3423, 0.0), (3426, 0.0), (3428, 0.0), (3429, 0.0), (3431, 0.0), (3432, 0.0), (3433, 0.0), (3434, 0.0), (3436, 0.0), (3437, 0.0), (3438, 0.0), (3439, 0.0), (3440, 0.0), (3445, 0.0), (3449, 0.0), (3450, 0.0), (3451, 0.0), (3453, 0.0), (3455, 0.0), (3460, 0.0), (3462, 0.0), (3468, 0.0), (3470, 0.0), (3472, 0.0), (3475, 0.0), (3478, 0.0), (3479, 0.0), (3480, 0.0), (3483, 0.0), (3486, 0.0), (3489, 0.0), (3490, 0.0), (3492, 0.0), (3493, 0.0), (3494, 0.0), (3496, 0.0), (3497, 0.0), (3498, 0.0), (3499, 0.0), (3500, 0.0), (3504, 0.0), (3508, 0.0), (3510, 0.0), (3511, 0.0), (3512, 0.0), (3513, 0.0), (3514, 0.0), (3516, 0.0), (3519, 0.0), (3521, 0.0), (3522, 0.0), (3523, 0.0), (3524, 0.0), (3525, 0.0), (3527, 0.0), (3528, 0.0), (3530, 0.0), (3532, 0.0), (3533, 0.0), (3534, 0.0), (3535, 0.0), (3537, 0.0), (3538, 0.0), (3539, 0.0), (3541, 0.0), (3542, 0.0), (3543, 0.0), (3544, 0.0), (3545, 0.0), (3547, 0.0), (3552, 0.0), (3554, 0.0), (3555, 0.0), (3558, 0.0), (3560, 0.0), (3561, 0.0), (3564, 0.0), (3565, 0.0), (3569, 0.0), (3570, 0.0), (3571, 0.0), (3572, 0.0), (3573, 0.0), (3575, 0.0), (3576, 0.0), (3580, 0.0), (3581, 0.0), (3583, 0.0), (3584, 0.0), (3586, 0.0), (3587, 0.0), (3588, 0.0), (3590, 0.0), (3591, 0.0), (3592, 0.0), (3595, 0.0), (3596, 0.0), (3597, 0.0), (3600, 0.0), (3601, 0.0), (3603, 0.0), (3604, 0.0), (3605, 0.0), (3608, 0.0), (3609, 0.0), (3613, 0.0), (3614, 0.0), (3617, 0.0), (3620, 0.0), (3622, 0.0), (3623, 0.0), (3624, 0.0), (3625, 0.0), (3627, 0.0), (3629, 0.0), (3634, 0.0), (3635, 0.0), (3636, 0.0), (3638, 0.0), (3639, 0.0), (3640, 0.0), (3641, 0.0), (3642, 0.0), (3645, 0.0), (3649, 0.0), (3652, 0.0), (3654, 0.0), (3656, 0.0), (3663, 0.0), (3664, 0.0), (3667, 0.0), (3669, 0.0), (3670, 0.0), (3672, 0.0), (3675, 0.0), (3676, 0.0), (3679, 0.0), (3680, 0.0), (3682, 0.0), (3686, 0.0), (3687, 0.0), (3688, 0.0), (3691, 0.0), (3692, 0.0), (3693, 0.0), (3694, 0.0), (3695, 0.0), (3699, 0.0), (3700, 0.0), (3702, 0.0), (3703, 0.0), (3704, 0.0), (3706, 0.0), (3707, 0.0), (3708, 0.0), (3710, 0.0), (3712, 0.0), (3713, 0.0), (3714, 0.0), (3715, 0.0), (3717, 0.0), (3719, 0.0), (3721, 0.0), (3723, 0.0), (3724, 0.0), (3725, 0.0), (3726, 0.0), (3727, 0.0), (3728, 0.0), (3729, 0.0), (3732, 0.0), (3733, 0.0), (3737, 0.0), (3738, 0.0), (3740, 0.0), (3742, 0.0), (3744, 0.0), (3745, 0.0), (3749, 0.0), (3750, 0.0), (3753, 0.0), (3755, 0.0), (3756, 0.0), (3757, 0.0), (3758, 0.0), (3760, 0.0), (3761, 0.0), (3762, 0.0), (3763, 0.0), (3764, 0.0), (3766, 0.0), (3767, 0.0), (3770, 0.0), (3771, 0.0), (3772, 0.0), (3773, 0.0), (3774, 0.0), (3775, 0.0), (3777, 0.0), (3779, 0.0), (3783, 0.0), (3784, 0.0), (3787, 0.0), (3788, 0.0), (3789, 0.0), (3791, 0.0), (3792, 0.0), (3793, 0.0), (3795, 0.0), (3796, 0.0), (3798, 0.0), (3799, 0.0), (3800, 0.0), (3804, 0.0), (3806, 0.0), (3807, 0.0), (3811, 0.0), (3813, 0.0), (3814, 0.0), (3815, 0.0), (3820, 0.0), (3827, 0.0), (3828, 0.0), (3831, 0.0), (3832, 0.0), (3833, 0.0), (3834, 0.0), (3836, 0.0), (3837, 0.0), (3842, 0.0), (3844, 0.0), (3845, 0.0), (3848, 0.0), (3849, 0.0), (3850, 0.0), (3851, 0.0), (3853, 0.0), (3855, 0.0), (3856, 0.0), (3859, 0.0), (3861, 0.0), (3862, 0.0), (3867, 0.0), (3869, 0.0), (3872, 0.0), (3873, 0.0), (3874, 0.0), (3877, 0.0), (3878, 0.0), (3879, 0.0), (3880, 0.0), (3881, 0.0), (3883, 0.0), (3884, 0.0), (3885, 0.0), (3887, 0.0), (3888, 0.0), (3892, 0.0), (3895, 0.0), (3896, 0.0), (3898, 0.0), (3899, 0.0), (3900, 0.0), (3901, 0.0), (3902, 0.0), (3904, 0.0), (3905, 0.0), (3908, 0.0), (3911, 0.0), (3912, 0.0), (3915, 0.0), (3918, 0.0), (3922, 0.0), (3923, 0.0), (3925, 0.0), (3927, 0.0), (3929, 0.0), (3930, 0.0), (3931, 0.0), (3932, 0.0), (3933, 0.0), (3934, 0.0), (3935, 0.0), (3936, 0.0), (3937, 0.0), (3938, 0.0), (3939, 0.0), (3941, 0.0), (3942, 0.0), (3945, 0.0), (3946, 0.0), (3947, 0.0), (3948, 0.0), (3949, 0.0), (3951, 0.0), (3952, 0.0), (3953, 0.0), (3954, 0.0), (3958, 0.0), (3961, 0.0), (3962, 0.0), (3964, 0.0), (3965, 0.0), (3967, 0.0), (3968, 0.0), (3971, 0.0), (3972, 0.0), (3974, 0.0), (3975, 0.0), (3976, 0.0), (3977, 0.0), (3978, 0.0), (3979, 0.0), (3981, 0.0), (3982, 0.0), (3985, 0.0), (3987, 0.0), (3988, 0.0), (3989, 0.0), (3990, 0.0), (3992, 0.0), (3995, 0.0), (3996, 0.0), (3999, 0.0), (4000, 0.0), (4002, 0.0), (4004, 0.0), (4005, 0.0), (4006, 0.0), (4008, 0.0), (4011, 0.0), (4014, 0.0), (4016, 0.0), (4017, 0.0), (4018, 0.0), (4019, 0.0), (4020, 0.0), (4021, 0.0), (4022, 0.0), (4024, 0.0), (4026, 0.0), (4027, 0.0), (4028, 0.0), (4029, 0.0), (4030, 0.0), (4031, 0.0), (4033, 0.0), (4035, 0.0), (4036, 0.0), (4039, 0.0), (4040, 0.0), (4041, 0.0), (4042, 0.0), (4043, 0.0), (4044, 0.0), (4045, 0.0), (4048, 0.0), (4049, 0.0), (4050, 0.0), (4052, 0.0), (4053, 0.0), (4056, 0.0), (4058, 0.0), (4060, 0.0), (4065, 0.0), (4067, 0.0), (4069, 0.0), (4071, 0.0), (4072, 0.0), (4073, 0.0), (4075, 0.0), (4077, 0.0), (4078, 0.0), (4080, 0.0), (4081, 0.0), (4082, 0.0), (4083, 0.0), (4084, 0.0), (4085, 0.0), (4087, 0.0), (4088, 0.0), (4091, 0.0), (4092, 0.0), (4093, 0.0), (4094, 0.0), (4096, 0.0), (4097, 0.0), (4100, 0.0), (4101, 0.0), (4102, 0.0), (4103, 0.0), (4105, 0.0), (4107, 0.0), (4114, 0.0), (4115, 0.0), (4116, 0.0), (4120, 0.0), (4121, 0.0), (4123, 0.0), (4124, 0.0), (4126, 0.0), (4127, 0.0), (4128, 0.0), (4129, 0.0), (4130, 0.0), (4131, 0.0), (4132, 0.0), (4133, 0.0), (4134, 0.0), (4139, 0.0), (4140, 0.0), (4141, 0.0), (4142, 0.0), (4145, 0.0), (4146, 0.0), (4148, 0.0), (4150, 0.0), (4151, 0.0), (4153, 0.0), (4154, 0.0), (4159, 0.0), (4160, 0.0), (4161, 0.0), (4163, 0.0), (4165, 0.0), (4166, 0.0), (4167, 0.0), (4168, 0.0), (4170, 0.0), (4172, 0.0), (4175, 0.0), (4179, 0.0), (4180, 0.0), (4181, 0.0), (4184, 0.0), (4185, 0.0), (4187, 0.0), (4188, 0.0), (4190, 0.0), (4193, 0.0), (4198, 0.0), (4200, 0.0), (4202, 0.0), (4204, 0.0), (4206, 0.0), (4208, 0.0), (4209, 0.0), (4211, 0.0), (4212, 0.0), (4213, 0.0), (4215, 0.0), (4216, 0.0), (4219, 0.0), (4221, 0.0), (4222, 0.0), (4223, 0.0), (4224, 0.0), (4227, 0.0), (4228, 0.0), (4229, 0.0), (4230, 0.0), (4231, 0.0), (4232, 0.0), (4234, 0.0), (4235, 0.0), (4236, 0.0), (4238, 0.0), (4239, 0.0), (4243, 0.0), (4244, 0.0), (4246, 0.0), (4248, 0.0), (4249, 0.0), (4251, 0.0), (4253, 0.0), (4255, 0.0), (4256, 0.0), (4258, 0.0), (4259, 0.0), (4260, 0.0), (4261, 0.0), (4264, 0.0), (4266, 0.0), (4271, 0.0), (4273, 0.0), (4274, 0.0), (4275, 0.0), (4278, 0.0), (4284, 0.0), (4285, 0.0), (4286, 0.0), (4288, 0.0), (4291, 0.0), (4293, 0.0), (4294, 0.0), (4295, 0.0), (4296, 0.0), (4298, 0.0), (4299, 0.0), (4300, 0.0), (4301, 0.0), (4302, 0.0), (4305, 0.0), (4306, 0.0), (4307, 0.0), (4308, 0.0), (4309, 0.0), (4310, 0.0), (4311, 0.0), (4313, 0.0), (4315, 0.0), (4316, 0.0), (4317, 0.0), (4318, 0.0), (4319, 0.0), (4320, 0.0), (4321, 0.0), (4322, 0.0), (4326, 0.0), (4331, 0.0), (4333, 0.0), (4335, 0.0), (4336, 0.0), (4340, 0.0), (4342, 0.0), (4349, 0.0), (4352, 0.0), (4353, 0.0), (4354, 0.0), (4355, 0.0), (4356, 0.0), (4357, 0.0), (4359, 0.0), (4360, 0.0), (4361, 0.0), (4362, 0.0), (4365, 0.0), (4367, 0.0), (4368, 0.0), (4369, 0.0), (4370, 0.0), (4371, 0.0), (4372, 0.0), (4373, 0.0), (4375, 0.0), (4377, 0.0), (4381, 0.0), (4382, 0.0), (4383, 0.0), (4384, 0.0), (4385, 0.0), (4386, 0.0), (4387, 0.0), (4389, 0.0), (4390, 0.0), (4391, 0.0), (4392, 0.0), (4393, 0.0), (4397, 0.0), (4398, 0.0), (4400, 0.0), (4403, 0.0), (4404, 0.0), (4408, 0.0), (4412, 0.0), (4413, 0.0), (4415, 0.0), (4416, 0.0), (4417, 0.0), (4418, 0.0), (4419, 0.0), (4423, 0.0), (4424, 0.0), (4425, 0.0), (4427, 0.0), (4428, 0.0), (4429, 0.0), (4430, 0.0), (4432, 0.0), (4434, 0.0), (4435, 0.0), (4437, 0.0), (4439, 0.0), (4440, 0.0), (4444, 0.0), (4446, 0.0), (4447, 0.0), (4449, 0.0), (4450, 0.0), (4452, 0.0), (4453, 0.0), (4455, 0.0), (4458, 0.0), (4461, 0.0), (4463, 0.0), (4464, 0.0), (4465, 0.0), (4466, 0.0), (4468, 0.0), (4469, 0.0), (4470, 0.0), (4471, 0.0), (4474, 0.0), (4475, 0.0), (4476, 0.0), (4478, 0.0), (4480, 0.0), (4481, 0.0), (4482, 0.0), (4483, 0.0), (4484, 0.0), (4487, 0.0), (4488, 0.0), (4489, 0.0), (4490, 0.0), (4491, 0.0), (4493, 0.0), (4494, 0.0), (4495, 0.0), (4497, 0.0), (4499, 0.0), (4501, 0.0), (4503, 0.0), (4505, 0.0), (4506, 0.0), (4507, 0.0), (4508, 0.0), (4509, 0.0), (4510, 0.0), (4512, 0.0), (4513, 0.0), (4514, 0.0), (4516, 0.0), (4517, 0.0), (4520, 0.0), (4521, 0.0), (4522, 0.0), (4525, 0.0), (4527, 0.0), (4528, 0.0), (4529, 0.0), (4530, 0.0), (4531, 0.0), (4532, 0.0), (4533, 0.0), (4535, 0.0), (4536, 0.0), (4537, 0.0), (4538, 0.0), (4539, 0.0), (4540, 0.0), (4542, 0.0), (4543, 0.0), (4544, 0.0), (4545, 0.0), (4546, 0.0), (4547, 0.0), (4550, 0.0), (4552, 0.0), (4554, 0.0), (4556, 0.0), (4557, 0.0), (4559, 0.0), (4560, 0.0), (4561, 0.0), (4562, 0.0), (4563, 0.0), (4565, 0.0), (4571, 0.0), (4572, 0.0), (4573, 0.0), (4574, 0.0), (4575, 0.0), (4577, 0.0), (4578, 0.0), (4580, 0.0), (4581, 0.0), (4583, 0.0), (4584, 0.0), (4585, 0.0), (4586, 0.0), (4587, 0.0), (4588, 0.0), (4593, 0.0), (4594, 0.0), (4595, 0.0), (4597, 0.0), (4599, 0.0), (4601, 0.0), (4602, 0.0), (4603, 0.0), (4608, 0.0), (4611, 0.0), (4614, 0.0), (4615, 0.0), (4617, 0.0), (4618, 0.0), (4619, 0.0), (4620, 0.0), (4622, 0.0), (4626, 0.0), (4628, 0.0), (4630, 0.0), (4631, 0.0), (4632, 0.0), (4635, 0.0), (4636, 0.0), (4637, 0.0), (4638, 0.0), (4639, 0.0), (4642, 0.0), (4643, 0.0), (4644, 0.0), (4645, 0.0), (4646, 0.0), (4648, 0.0), (4649, 0.0), (4651, 0.0), (4653, 0.0), (4654, 0.0), (4655, 0.0), (4656, 0.0), (4657, 0.0), (4659, 0.0), (4660, 0.0), (4663, 0.0), (4664, 0.0), (4666, 0.0), (4667, 0.0), (4668, 0.0), (4669, 0.0), (4670, 0.0), (4671, 0.0), (4672, 0.0), (4673, 0.0), (4675, 0.0), (4678, 0.0), (4680, 0.0), (4681, 0.0), (4683, 0.0), (4684, 0.0), (4685, 0.0), (4690, 0.0), (4691, 0.0), (4692, 0.0), (4693, 0.0), (4694, 0.0), (4696, 0.0), (4697, 0.0), (4698, 0.0), (4699, 0.0), (4700, 0.0), (4701, 0.0), (4702, 0.0), (4704, 0.0), (4705, 0.0), (4706, 0.0), (4707, 0.0), (4708, 0.0), (4709, 0.0), (4710, 0.0), (4711, 0.0), (4712, 0.0), (4713, 0.0), (4714, 0.0), (4715, 0.0), (4716, 0.0), (4717, 0.0), (4718, 0.0), (4719, 0.0), (4720, 0.0), (4722, 0.0), (4723, 0.0), (4724, 0.0), (4725, 0.0), (4726, 0.0), (4727, 0.0), (4729, 0.0), (4730, 0.0), (4731, 0.0), (4733, 0.0), (4734, 0.0), (4737, 0.0), (4739, 0.0), (4740, 0.0), (4741, 0.0), (4742, 0.0), (4744, 0.0), (4745, 0.0), (4749, 0.0), (4750, 0.0), (4751, 0.0), (4753, 0.0), (4755, 0.0), (4757, 0.0), (4758, 0.0), (4759, 0.0)]\n"
          ]
        }
      ]
    },
    {
      "cell_type": "code",
      "source": [
        "print('Top 30 movies Suggested for You : \\n ')\n",
        "\n",
        "i =1\n",
        "for movie in Sorted_Similar_Movies:\n",
        "  index = movie[0]\n",
        "  title_from_index = df[df.index==index]['Movie_Title'].values[0]\n",
        "  if (i<31):\n",
        "    print(i, ',',title_from_index)\n",
        "    i+=1"
      ],
      "metadata": {
        "colab": {
          "base_uri": "https://localhost:8080/"
        },
        "id": "4cucGhtaOOAB",
        "outputId": "2662c486-ff4e-4a75-8cca-1e22edf07702"
      },
      "execution_count": 42,
      "outputs": [
        {
          "output_type": "stream",
          "name": "stdout",
          "text": [
            "Top 30 movies Suggested for You : \n",
            " \n",
            "1 , Finding Nemo\n",
            "2 , Big Fish\n",
            "3 , John Carter\n",
            "4 , Spider-Man\n",
            "5 , Shark Tale\n",
            "6 , Flight of the Intruder\n",
            "7 , El Mariachi\n",
            "8 , Shooting Fish\n",
            "9 , The Shaggy Dog\n",
            "10 , The Muse\n",
            "11 , Freaky Friday\n",
            "12 , American Dreamz\n",
            "13 , The Outsiders\n",
            "14 , Mr. Peabody & Sherman\n",
            "15 , The Simpsons Movie\n",
            "16 , Tora! Tora! Tora!\n",
            "17 , Happy Feet\n",
            "18 , xXx: State of the Union\n",
            "19 , Indie Game: The Movie\n",
            "20 , The English Patient\n",
            "21 , Because of Winn-Dixie\n",
            "22 , Atlantis: The Lost Empire\n",
            "23 , Ponyo\n",
            "24 , Evan Almighty\n",
            "25 , White Chicks\n",
            "26 , The Mask\n",
            "27 , The Rookie\n",
            "28 , Troy\n",
            "29 , Jonah: A VeggieTales Movie\n",
            "30 , Mallrats\n"
          ]
        }
      ]
    },
    {
      "cell_type": "code",
      "source": [
        "Movie_Name = input('Enter your favourite movie name : ')\n",
        "list_of_all_titles = df['Movie_Title'].tolist()\n",
        "Find_Close_Match = difflib.get_close_matches(Movie_Name,list_of_all_titles)\n",
        "Close_Match = Find_Close_Match[0]\n",
        "Index_of_Movie = df[df.Movie_Title == Close_Match]['Movie_ID'].values[0]\n",
        "Recomendation_Score = list(enumerate(Similarity_Score[Index_of_Movie]))\n",
        "sorted_similar_movies = sorted(Recomendation_Score, key = lambda x:x[1], reverse = True)\n",
        "print('Top 10 movies suggested for you : \\n')\n",
        "i = 1\n",
        "for movie in sorted_similar_movies:\n",
        "  index = movie[0]\n",
        "  title_from_index = df[df.Movie_ID==index]['Movie_Title'].values\n",
        "  if (i<11):\n",
        "    print(i, '.',title_from_index)\n",
        "    i+=1"
      ],
      "metadata": {
        "colab": {
          "base_uri": "https://localhost:8080/"
        },
        "id": "CoMypK9bPfnh",
        "outputId": "a1ebf059-db8c-48fb-b960-9223a9a91458"
      },
      "execution_count": 44,
      "outputs": [
        {
          "output_type": "stream",
          "name": "stdout",
          "text": [
            "Enter your favourite movie name : star wars\n",
            "Top 10 movies suggested for you : \n",
            "\n",
            "1 . ['Star Wars']\n",
            "2 . ['Wag the Dog']\n",
            "3 . ['R.I.P.D.']\n",
            "4 . ['Fight Club']\n",
            "5 . ['Ballistic: Ecks vs. Sever']\n",
            "6 . ['3 Ninjas Kick Back']\n",
            "7 . ['Donnie Brasco']\n",
            "8 . ['Post Grad']\n",
            "9 . ['House of Wax']\n",
            "10 . ['The Tourist']\n"
          ]
        }
      ]
    },
    {
      "cell_type": "code",
      "source": [],
      "metadata": {
        "id": "0f_03DPGTLBw"
      },
      "execution_count": null,
      "outputs": []
    }
  ]
}